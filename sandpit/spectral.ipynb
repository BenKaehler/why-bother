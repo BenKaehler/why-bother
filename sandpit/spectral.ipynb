{
 "cells": [
  {
   "cell_type": "code",
   "execution_count": 1,
   "metadata": {},
   "outputs": [],
   "source": [
    "from itertools import product\n",
    "from numpy import array, zeros, newaxis, allclose, eye, diag, unique\n",
    "from numpy.linalg import inv, eig"
   ]
  },
  {
   "cell_type": "markdown",
   "metadata": {},
   "source": [
    "The following matrices, vectors, were produced using `random_Q()`, `random_triple_J()` functions from earlier code you provided."
   ]
  },
  {
   "cell_type": "code",
   "execution_count": 2,
   "metadata": {},
   "outputs": [],
   "source": [
    "Pa = array([[0.71893144, 0.14144765, 0.10698649, 0.03263443],\n",
    "       [0.06325843, 0.77423272, 0.13928361, 0.02322523],\n",
    "       [0.02322523, 0.13928361, 0.77423272, 0.06325843],\n",
    "       [0.03263443, 0.10698649, 0.14144765, 0.71893144]])\n",
    "\n",
    "Pb = array([[0.95154866, 0.01674797, 0.0234783 , 0.00822507],\n",
    "       [0.03863562, 0.84803839, 0.04732459, 0.0660014 ],\n",
    "       [0.0660014 , 0.04732459, 0.84803839, 0.03863562],\n",
    "       [0.00822507, 0.0234783 , 0.01674797, 0.95154866]])\n",
    "\n",
    "Pc = array([[0.88137945, 0.04613594, 0.02686734, 0.04561727],\n",
    "       [0.05009116, 0.9236776 , 0.0194023 , 0.00682894],\n",
    "       [0.00682894, 0.0194023 , 0.9236776 , 0.05009116],\n",
    "       [0.04561727, 0.02686734, 0.04613594, 0.88137945]])\n",
    "Pm = array([[0.81203158, 0.04399917, 0.07848442, 0.06548484],\n",
    "       [0.08284662, 0.87115553, 0.02024715, 0.0257507 ],\n",
    "       [0.0257507 , 0.02024715, 0.87115553, 0.08284662],\n",
    "       [0.06548484, 0.07848442, 0.04399917, 0.81203158]])\n",
    "\n",
    "pi = array([0.14977394, 0.26317362, 0.39165429, 0.19539816])\n",
    "\n",
    "pi_m = pi @ Pm\n",
    "\n",
    "J = array([[[0.07508613297288518, 0.00466350788803318, 0.0033432901131033796, 0.004042219322757277], [0.002186937387234338, 0.01570096614179908, 0.0011254388766303509, 0.0005015574893929194], [0.002007283482847851, 0.0012535337368050612, 0.013395860029779497, 0.0010220788989917808], [0.0013011086711092986, 0.0016042909684947522, 0.0012404869820179004, 0.011323417297654589]], [[0.03129698648252512, 0.00815953485072002, 0.004394876926278819, 0.0020308813605868174], [0.008288184321098279, 0.14201837079233715, 0.005398759767993272, 0.0017880581744532536], [0.0015277493099248596, 0.00886482820182737, 0.04269081732021271, 0.0028169181161841477], [0.0021015052010260205, 0.011819352252411985, 0.0034103593745217937, 0.02379160092199082]], [[0.02174460265532043, 0.002941403304710777, 0.017006110729978843, 0.0023681733984058486], [0.0022577498981608663, 0.03237071808690972, 0.012426756488990255, 0.0019160961759307586], [0.0022144999652547693, 0.006239396030284971, 0.20953281339937846, 0.012130269098422072], [0.002543170970124578, 0.003973434481032667, 0.011775618913078878, 0.04210892174683528]], [[0.012093125924573445, 0.0012993605630256348, 0.0021464967072447926, 0.0015645368675293004], [0.0010702747292501203, 0.013479197587703494, 0.0016493822206027895, 0.0025896804160072057], [0.0005894417935184289, 0.00127918145334602, 0.022260289874459077, 0.0029430040436876307], [0.005229012301832341, 0.0040480932067737535, 0.006152859243062461, 0.09785943409093556]]])"
   ]
  },
  {
   "cell_type": "markdown",
   "metadata": {},
   "source": [
    "now checking my understanding of computing joint probabilities for the two ingroups is correct"
   ]
  },
  {
   "cell_type": "code",
   "execution_count": 3,
   "metadata": {},
   "outputs": [],
   "source": [
    "J_mb = pi_m[:, newaxis] * Pb\n",
    "J_bc = J_mb.T @ Pc\n",
    "J_ab = Pa.T @ diag(pi) @ Pm @ Pb\n",
    "J_ca = (Pa.T @ diag(pi) @ Pm @ Pc).T\n",
    "\n",
    "assert allclose(J_bc, J.sum(axis=0))  # checking I have constructed it correctly\n",
    "assert allclose(J_ab, J.sum(axis=2))\n",
    "assert allclose(J_ca, J.sum(axis=1).T)"
   ]
  },
  {
   "cell_type": "markdown",
   "metadata": {},
   "source": []
  },
  {
   "cell_type": "code",
   "execution_count": 4,
   "metadata": {},
   "outputs": [],
   "source": [
    "def get_P_mx(J):\n",
    "    \"\"\"return matrix for Pmx from Joint prob matrix\"\"\"\n",
    "    S = eye(4)[::-1]  # nice\n",
    "    PSP = S @ inv(J) @ S @ J\n",
    "    _, P = eig(PSP.T)\n",
    "    P = P.T\n",
    "    P = diag(1/P.sum(axis=1)) @ P\n",
    "    dlc_ix = P.argmax(axis=0)\n",
    "    assert len(unique(dlc_ix)) == 4, 'DLC fail'\n",
    "    return P[dlc_ix]\n",
    "\n",
    "P_est = get_P_mx(J_bc)\n",
    "other_P_est = (J_bc @ inv(P_est)).T\n",
    "pi_est = other_P_est.sum(axis=1)\n",
    "other_P_est = diag(1/pi_est) @ other_P_est\n",
    "assert allclose(P_est, Pc)  # should recover Pc\n",
    "assert allclose(other_P_est, Pb)  # should recover Pb"
   ]
  },
  {
   "cell_type": "code",
   "execution_count": 5,
   "metadata": {},
   "outputs": [
    {
     "data": {
      "text/plain": [
       "array([[0.88137945, 0.04613594, 0.02686734, 0.04561727],\n",
       "       [0.05009116, 0.9236776 , 0.0194023 , 0.00682894],\n",
       "       [0.00682894, 0.0194023 , 0.9236776 , 0.05009116],\n",
       "       [0.04561727, 0.02686734, 0.04613594, 0.88137945]])"
      ]
     },
     "execution_count": 5,
     "metadata": {},
     "output_type": "execute_result"
    }
   ],
   "source": [
    "P_est"
   ]
  },
  {
   "cell_type": "code",
   "execution_count": 61,
   "metadata": {},
   "outputs": [
    {
     "name": "stdout",
     "output_type": "stream",
     "text": [
      "Why is it so?\n"
     ]
    }
   ],
   "source": [
    "from numpy import zeros, allclose, eye, diag, flip, isreal, isclose\n",
    "from numpy.linalg import inv, eig, norm\n",
    "from numpy.random import rand\n",
    "from scipy.special import rel_entr\n",
    "\n",
    "def strand_symmetric_decomposition(J):\n",
    "    S = eye(4)[::-1]\n",
    "    PSP = S @ inv(J) @ S @ J\n",
    "    _, P = eig(PSP.T)\n",
    "    P = P.T\n",
    "    P = diag(1/P.sum(axis=1)) @ P\n",
    "    ix = zeros(4, dtype=int)\n",
    "    ix[3] = norm(P - flip(P[0]), axis=1).argmin()\n",
    "    ix[1:3] = list(set(range(4)) - {0, ix[3]})\n",
    "    P = P[ix]\n",
    "    Q = (J @ inv(P)).T\n",
    "    pi = Q.sum(axis=1)\n",
    "    Q = diag(1/pi) @ Q\n",
    "    return Q, pi, P\n",
    "\n",
    "divergences = []\n",
    "for i in range(10000):\n",
    "    J = rand(16).reshape((4,4))\n",
    "    J /= J.sum()\n",
    "    Q, pi, P = strand_symmetric_decomposition(J)\n",
    "    S = eye(4)[::-1]\n",
    "    assert allclose(S @ Q, Q @ S), 'Q not strand-symmetric\\n' + str(Q)\n",
    "    assert allclose(J, Q.T @ diag(pi) @ P), 'decomposition failed'\n",
    "    \n",
    "    Q = Q.real\n",
    "    pi = pi.real\n",
    "    P = P.real\n",
    "    Q[Q < 0] = 0\n",
    "    pi[pi < 0] = 0\n",
    "    P[P < 0] = 0\n",
    "    Q = diag(1/Q.sum(axis=1)) @ Q\n",
    "    pi /= pi.sum()\n",
    "    P = diag(1/P.sum(axis=1)) @ P\n",
    "    divergences.append(rel_entr(J, (Q.T @ diag(pi) @ P)).sum())\n",
    "\n",
    "print('Why is it so?')"
   ]
  },
  {
   "cell_type": "code",
   "execution_count": 62,
   "metadata": {},
   "outputs": [],
   "source": [
    "import seaborn as sns\n",
    "from numpy import isinf, array"
   ]
  },
  {
   "cell_type": "code",
   "execution_count": 63,
   "metadata": {},
   "outputs": [],
   "source": [
    "divergences = array(divergences)\n",
    "divergences[isinf(divergences)] = divergences[~isinf(divergences)].max()"
   ]
  },
  {
   "cell_type": "code",
   "execution_count": 64,
   "metadata": {},
   "outputs": [
    {
     "data": {
      "text/plain": [
       "<AxesSubplot:ylabel='Count'>"
      ]
     },
     "execution_count": 64,
     "metadata": {},
     "output_type": "execute_result"
    },
    {
     "data": {
      "image/png": "[encoded data removed]",
      "text/plain": [
       "<Figure size 432x288 with 1 Axes>"
      ]
     },
     "metadata": {
      "needs_background": "light"
     },
     "output_type": "display_data"
    }
   ],
   "source": [
    "sns.histplot(divergences)"
   ]
  },
  {
   "cell_type": "code",
   "execution_count": 65,
   "metadata": {},
   "outputs": [],
   "source": [
    "def fit_pair(J):\n",
    "    S = eye(4)[::-1]\n",
    "    PSP = S @ inv(J) @ S @ J\n",
    "    _, P = eig(PSP.T)\n",
    "    P = P.T\n",
    "    P = diag(1/P.sum(axis=1)) @ P\n",
    "    ix = zeros(4, dtype=int)\n",
    "    ix[3] = norm(P - flip(P[0]), axis=1).argmin()\n",
    "    ix[1:3] = list(set(range(4)) - {0, ix[3]})\n",
    "    P = P[ix]\n",
    "    Q = (J @ inv(P)).T\n",
    "    pi = Q.sum(axis=1)\n",
    "    Q = diag(1/pi) @ Q\n",
    "    return regularize(Q), regularize(pi), regularize(P)\n",
    "\n",
    "def regularize(P):\n",
    "    P = P.real\n",
    "    P[P < 0] = 0\n",
    "    if len(P.shape) == 1:\n",
    "        if not isclose(P.sum(), 1):\n",
    "            P /= P.sum()\n",
    "    else:\n",
    "        if not allclose(P.sum(axis=1), 1):\n",
    "            P = diag(1/P.sum(axis=1)) @ P\n",
    "    return P\n",
    "\n",
    "def fit_triple(Jab, Jbc, Jca):\n",
    "    Pmb, pim, Pmc = fit_pair(Jbc)\n",
    "    Jam = 0.5*(Jab @ inv(Pmb) + Jca.T @ inv(Pmc))\n",
    "    Pra, pir, Prm = fit_pair(Jam)\n",
    "    return Pra, pir, Prm, pim, Pmb, Pmc\n",
    "\n",
    "Pra, pir, Prm, pim, Pmb, Pmc = fit_triple(J_ab, J_bc, J_ca)\n",
    "for P in (Pra, Prm, Pmb, Pmc):\n",
    "    assert allclose(P @ S, S @ P)\n",
    "assert allclose(J_ab, Pra.T @ diag(pir) @ Prm @ Pmb)\n",
    "assert allclose(J_bc, Pmb.T @ diag(pim) @ Pmc)\n",
    "assert allclose(J_ca.T, Pra.T @ diag(pir) @ Prm @ Pmc)"
   ]
  },
  {
   "cell_type": "code",
   "execution_count": 66,
   "metadata": {},
   "outputs": [
    {
     "name": "stdout",
     "output_type": "stream",
     "text": [
      "GoF a -1.9653649449720716e-17\n",
      "hat Prm\n",
      "[[0.0257507  0.02024715 0.87115553 0.08284662]\n",
      " [0.06548484 0.07848442 0.04399917 0.81203157]\n",
      " [0.81203157 0.04399917 0.07848442 0.06548484]\n",
      " [0.08284662 0.87115553 0.02024715 0.0257507 ]]\n",
      "GoF b 0.023673869554789884\n",
      "hat Prm\n",
      "[[0. 0. 1. 0.]\n",
      " [0. 0. 0. 1.]\n",
      " [1. 0. 0. 0.]\n",
      " [0. 1. 0. 0.]]\n",
      "GoF c 0.0735687650787256\n",
      "hat Prm\n",
      "[[1. 0. 0. 0.]\n",
      " [0. 1. 0. 0.]\n",
      " [0. 0. 1. 0.]\n",
      " [0. 0. 0. 1.]]\n"
     ]
    }
   ],
   "source": [
    "def goodness_of_fit(Jab, Jbc, Jca, Pra, pir, Prm, pim, Pmb, Pmc):\n",
    "    Jam = Pra.T @ diag(pir) @ Prm\n",
    "    gab = rel_entr(Jab, Jam @ Pmb).sum()\n",
    "    gbc = rel_entr(Jbc, Pmb.T @ diag(pim) @ Pmc).sum()\n",
    "    gca = rel_entr(Jca.T, Jam @ Pmc).sum()\n",
    "    return (gab + gbc + gca)/3\n",
    "\n",
    "Pra, pir, Prm, pim, Pmb, Pmc = fit_triple(J_ab, J_bc, J_ca)\n",
    "print('GoF a', goodness_of_fit(J_ab, J_bc, J_ca, Pra, pir, Prm, pim, Pmb, Pmc))\n",
    "print('hat Prm')\n",
    "print(Prm)\n",
    "Pra, pir, Prm, pim, Pmb, Pmc = fit_triple(J_bc, J_ca, J_ab)\n",
    "print('GoF b', goodness_of_fit(J_bc, J_ca, J_ab, Pra, pir, Prm, pim, Pmb, Pmc))\n",
    "print('hat Prm')\n",
    "print(Prm)\n",
    "Pra, pir, Prm, pim, Pmb, Pmc = fit_triple(J_ca, J_ab, J_bc)\n",
    "print('GoF c', goodness_of_fit(J_bc, J_ca, J_ab, Pra, pir, Prm, pim, Pmb, Pmc))\n",
    "print('hat Prm')\n",
    "print(Prm)"
   ]
  },
  {
   "cell_type": "code",
   "execution_count": null,
   "metadata": {},
   "outputs": [],
   "source": []
  }
 ],
 "metadata": {
  "interpreter": {
   "hash": "e9184b02b82fd7a3490059610320d5e2034cbf44d906124ef3e8bb7f084e8cc3"
  },
  "kernelspec": {
   "display_name": "Python 3 (ipykernel)",
   "language": "python",
   "name": "python3"
  },
  "language_info": {
   "codemirror_mode": {
    "name": "ipython",
    "version": 3
   },
   "file_extension": ".py",
   "mimetype": "text/x-python",
   "name": "python",
   "nbconvert_exporter": "python",
   "pygments_lexer": "ipython3",
   "version": "3.8.11"
  }
 },
 "nbformat": 4,
 "nbformat_minor": 2
}
