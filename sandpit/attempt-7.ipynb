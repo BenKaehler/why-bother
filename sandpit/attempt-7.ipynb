{
 "cells": [
  {
   "cell_type": "code",
   "execution_count": 1,
   "id": "cd1779bc",
   "metadata": {},
   "outputs": [],
   "source": [
    "import numpy as np"
   ]
  },
  {
   "cell_type": "code",
   "execution_count": 2,
   "id": "d23a4c10",
   "metadata": {},
   "outputs": [
    {
     "name": "stderr",
     "output_type": "stream",
     "text": [
      "2021-08-31 05:08:13.051899: I tensorflow/stream_executor/platform/default/dso_loader.cc:48] Successfully opened dynamic library libcudart.so.10.1\n"
     ]
    },
    {
     "data": {
      "text/plain": [
       "True"
      ]
     },
     "execution_count": 2,
     "metadata": {},
     "output_type": "execute_result"
    }
   ],
   "source": [
    "import tensorflow as tf\n",
    "import tensorflow_probability as tfp\n",
    "tfd = tfp.distributions\n",
    "tfb = tfp.bijectors\n",
    "\n",
    "tf.executing_eagerly()"
   ]
  },
  {
   "cell_type": "code",
   "execution_count": 3,
   "id": "c10fddee",
   "metadata": {},
   "outputs": [
    {
     "name": "stderr",
     "output_type": "stream",
     "text": [
      "2021-08-31 05:08:18.758730: I tensorflow/stream_executor/platform/default/dso_loader.cc:48] Successfully opened dynamic library libcuda.so.1\n",
      "2021-08-31 05:08:18.788620: I tensorflow/stream_executor/cuda/cuda_gpu_executor.cc:982] successful NUMA node read from SysFS had negative value (-1), but there must be at least one NUMA node, so returning NUMA node zero\n",
      "2021-08-31 05:08:18.788968: I tensorflow/core/common_runtime/gpu/gpu_device.cc:1716] Found device 0 with properties: \n",
      "pciBusID: 0000:01:00.0 name: NVIDIA GeForce RTX 2080 with Max-Q Design computeCapability: 7.5\n",
      "coreClock: 1.095GHz coreCount: 46 deviceMemorySize: 7.79GiB deviceMemoryBandwidth: 357.69GiB/s\n",
      "2021-08-31 05:08:18.788984: I tensorflow/stream_executor/platform/default/dso_loader.cc:48] Successfully opened dynamic library libcudart.so.10.1\n",
      "2021-08-31 05:08:18.790106: I tensorflow/stream_executor/platform/default/dso_loader.cc:48] Successfully opened dynamic library libcublas.so.10\n",
      "2021-08-31 05:08:18.791204: I tensorflow/stream_executor/platform/default/dso_loader.cc:48] Successfully opened dynamic library libcufft.so.10\n",
      "2021-08-31 05:08:18.791379: I tensorflow/stream_executor/platform/default/dso_loader.cc:48] Successfully opened dynamic library libcurand.so.10\n",
      "2021-08-31 05:08:18.792783: I tensorflow/stream_executor/platform/default/dso_loader.cc:48] Successfully opened dynamic library libcusolver.so.10\n",
      "2021-08-31 05:08:18.793452: I tensorflow/stream_executor/platform/default/dso_loader.cc:48] Successfully opened dynamic library libcusparse.so.10\n",
      "2021-08-31 05:08:18.795857: I tensorflow/stream_executor/platform/default/dso_loader.cc:48] Successfully opened dynamic library libcudnn.so.7\n",
      "2021-08-31 05:08:18.795943: I tensorflow/stream_executor/cuda/cuda_gpu_executor.cc:982] successful NUMA node read from SysFS had negative value (-1), but there must be at least one NUMA node, so returning NUMA node zero\n",
      "2021-08-31 05:08:18.796241: I tensorflow/stream_executor/cuda/cuda_gpu_executor.cc:982] successful NUMA node read from SysFS had negative value (-1), but there must be at least one NUMA node, so returning NUMA node zero\n",
      "2021-08-31 05:08:18.796473: I tensorflow/core/common_runtime/gpu/gpu_device.cc:1858] Adding visible gpu devices: 0\n"
     ]
    }
   ],
   "source": [
    "# thanks https://stackoverflow.com/questions/34199233/how-to-prevent-tensorflow-from-allocating-the-totality-of-a-gpu-memory\n",
    "gpus = tf.config.experimental.list_physical_devices('GPU')\n",
    "for gpu in gpus:\n",
    "  tf.config.experimental.set_memory_growth(gpu, True)"
   ]
  },
  {
   "cell_type": "code",
   "execution_count": 4,
   "id": "13923ef4",
   "metadata": {},
   "outputs": [],
   "source": [
    "Pa = np.array([[0.71893144, 0.14144765, 0.10698649, 0.03263443],\n",
    "       [0.06325843, 0.77423272, 0.13928361, 0.02322523],\n",
    "       [0.02322523, 0.13928361, 0.77423272, 0.06325843],\n",
    "       [0.03263443, 0.10698649, 0.14144765, 0.71893144]])\n",
    "\n",
    "Pb = np.array([[0.95154866, 0.01674797, 0.0234783 , 0.00822507],\n",
    "       [0.03863562, 0.84803839, 0.04732459, 0.0660014 ],\n",
    "       [0.0660014 , 0.04732459, 0.84803839, 0.03863562],\n",
    "       [0.00822507, 0.0234783 , 0.01674797, 0.95154866]])\n",
    "\n",
    "Pc = np.array([[0.88137945, 0.04613594, 0.02686734, 0.04561727],\n",
    "       [0.05009116, 0.9236776 , 0.0194023 , 0.00682894],\n",
    "       [0.00682894, 0.0194023 , 0.9236776 , 0.05009116],\n",
    "       [0.04561727, 0.02686734, 0.04613594, 0.88137945]])\n",
    "Pm = np.array([[0.81203158, 0.04399917, 0.07848442, 0.06548484],\n",
    "       [0.08284662, 0.87115553, 0.02024715, 0.0257507 ],\n",
    "       [0.0257507 , 0.02024715, 0.87115553, 0.08284662],\n",
    "       [0.06548484, 0.07848442, 0.04399917, 0.81203158]])\n",
    "\n",
    "pi = np.array([0.14977394, 0.26317362, 0.39165429, 0.19539816])\n",
    "\n",
    "pi_m = pi @ Pm\n",
    "\n",
    "J = np.array([[[0.07508613297288518, 0.00466350788803318, 0.0033432901131033796, 0.004042219322757277], [0.002186937387234338, 0.01570096614179908, 0.0011254388766303509, 0.0005015574893929194], [0.002007283482847851, 0.0012535337368050612, 0.013395860029779497, 0.0010220788989917808], [0.0013011086711092986, 0.0016042909684947522, 0.0012404869820179004, 0.011323417297654589]], [[0.03129698648252512, 0.00815953485072002, 0.004394876926278819, 0.0020308813605868174], [0.008288184321098279, 0.14201837079233715, 0.005398759767993272, 0.0017880581744532536], [0.0015277493099248596, 0.00886482820182737, 0.04269081732021271, 0.0028169181161841477], [0.0021015052010260205, 0.011819352252411985, 0.0034103593745217937, 0.02379160092199082]], [[0.02174460265532043, 0.002941403304710777, 0.017006110729978843, 0.0023681733984058486], [0.0022577498981608663, 0.03237071808690972, 0.012426756488990255, 0.0019160961759307586], [0.0022144999652547693, 0.006239396030284971, 0.20953281339937846, 0.012130269098422072], [0.002543170970124578, 0.003973434481032667, 0.011775618913078878, 0.04210892174683528]], [[0.012093125924573445, 0.0012993605630256348, 0.0021464967072447926, 0.0015645368675293004], [0.0010702747292501203, 0.013479197587703494, 0.0016493822206027895, 0.0025896804160072057], [0.0005894417935184289, 0.00127918145334602, 0.022260289874459077, 0.0029430040436876307], [0.005229012301832341, 0.0040480932067737535, 0.006152859243062461, 0.09785943409093556]]])"
   ]
  },
  {
   "cell_type": "code",
   "execution_count": 5,
   "id": "65573e13",
   "metadata": {},
   "outputs": [],
   "source": [
    "J_mb = pi_m[:, np.newaxis] * Pb\n",
    "J_bc = J_mb.T @ Pc\n",
    "J_ab = Pa.T @ np.diag(pi) @ Pm @ Pb\n",
    "J_ca = (Pa.T @ np.diag(pi) @ Pm @ Pc).T\n",
    "\n",
    "assert np.allclose(J_bc, J.sum(axis=0))  # checking I have constructed it correctly\n",
    "assert np.allclose(J_ab, J.sum(axis=2))\n",
    "assert np.allclose(J_ca, J.sum(axis=1).T)\n",
    "\n",
    "J_einsum = np.einsum('i,ij,ik,ku,kv', pi, Pa, Pm, Pb, Pc)\n",
    "assert np.allclose(J_einsum, J)"
   ]
  },
  {
   "cell_type": "code",
   "execution_count": 15,
   "id": "079f283d",
   "metadata": {},
   "outputs": [],
   "source": [
    "# thanks https://github.com/mlgxmez/thelongrun_notebooks/blob/master/MLE_tutorial.ipynb\n",
    "\n",
    "@tf.function()\n",
    "def transform_P_matrix(params):\n",
    "    params = tf.exp(params)\n",
    "    Q0 = tf.concat([[-tf.reduce_sum(params[0])], params[0]],\n",
    "                   axis=0)\n",
    "    Q1 = tf.concat([[params[1,0]], [-tf.reduce_sum(params[1])], params[1,1:]],\n",
    "                   axis=0)\n",
    "    Q = tf.concat([[Q0], [Q1], [Q1[::-1]], [Q0[::-1]]], axis=0)\n",
    "    return tf.linalg.expm(Q)\n",
    "\n",
    "@tf.function()\n",
    "def transform(params):\n",
    "    pi = tfb.SoftmaxCentered()(params[0])\n",
    "    Pa = transform_P_matrix(params[1:3])\n",
    "    Pm = transform_P_matrix(params[3:5])\n",
    "    Pb = transform_P_matrix(params[5:7])\n",
    "    Pc = transform_P_matrix(params[7:9])\n",
    "    return pi, Pa, Pm, Pb, Pc\n",
    "    \n",
    "@tf.function()\n",
    "def _loss(params_data):\n",
    "    params, data = params_data\n",
    "    pi, Pa, Pm, Pb, Pc = transform(params)\n",
    "    J = tf.einsum('i,ij,ik,ku,kv', pi, Pa, Pm, Pb, Pc)\n",
    "    loss = tf.reduce_sum(tf.keras.losses.KLDivergence()(J, data))\n",
    "    return loss\n",
    "\n",
    "@tf.function()\n",
    "def loss(params, data):\n",
    "    return tf.reduce_sum(tf.vectorized_map(_loss, (parameters, data)))\n",
    "\n",
    "@tf.function()\n",
    "def training_step(parameters, data):\n",
    "    with tf.GradientTape() as tape:\n",
    "        loss_value = loss(parameters, data)\n",
    "    gradients = tape.gradient(loss_value, parameters)\n",
    "    return loss_value, gradients\n",
    "\n",
    "def mle_run(data, loss, parameters, optimizer, steps=500, verbose=False):\n",
    "\n",
    "    for i in range(steps):\n",
    "        loss_value, gradients = training_step(parameters, data)\n",
    "        optimizer.apply_gradients([(gradients, parameters)])\n",
    "    \n",
    "        if i % 100 == 0:\n",
    "            iter_info = f\"Step: {optimizer.iterations.numpy()}, initial loss: {loss_value.numpy()}\"\n",
    "            if verbose:\n",
    "                print(iter_info)\n",
    "    \n",
    "    return parameters"
   ]
  },
  {
   "cell_type": "code",
   "execution_count": 17,
   "id": "3ffc4eae",
   "metadata": {},
   "outputs": [
    {
     "name": "stdout",
     "output_type": "stream",
     "text": [
      "WARNING:tensorflow:Using a while_loop for converting ResourceGather\n",
      "Step: 1, initial loss: 0.2708626389503479\n",
      "Step: 101, initial loss: 0.21732692420482635\n",
      "Step: 201, initial loss: 0.11800707876682281\n",
      "Step: 301, initial loss: 0.09571303427219391\n",
      "Step: 401, initial loss: 0.04314878582954407\n",
      "CPU times: user 21.4 s, sys: 1.91 s, total: 23.3 s\n",
      "Wall time: 13.9 s\n"
     ]
    }
   ],
   "source": [
    "%%time\n",
    "\n",
    "K = 4\n",
    "\n",
    "parameters = tf.Variable(normal_initializer(shape=[K, 9, 3], dtype=tf.float32), name='params')\n",
    "data = tf.stack([J.astype(np.float32)]*K)\n",
    "\n",
    "optimizer = tf.optimizers.Adam(0.01)\n",
    "update_list = mle_run(data, loss, parameters, optimizer, verbose=True)"
   ]
  },
  {
   "cell_type": "code",
   "execution_count": 24,
   "id": "2dcc4fca",
   "metadata": {},
   "outputs": [
    {
     "name": "stdout",
     "output_type": "stream",
     "text": [
      "[0.14977394 0.26317362 0.39165429 0.19539816]\n",
      "[0.23556551 0.25119826 0.25876865 0.25446755]\n",
      "\n",
      "[[0.71893144 0.14144765 0.10698649 0.03263443]\n",
      " [0.06325843 0.77423272 0.13928361 0.02322523]\n",
      " [0.02322523 0.13928361 0.77423272 0.06325843]\n",
      " [0.03263443 0.10698649 0.14144765 0.71893144]]\n",
      "[[0.26859465 0.23956215 0.2411056  0.25073722]\n",
      " [0.25001475 0.25959486 0.23961417 0.25077584]\n",
      " [0.2507758  0.23961417 0.25959486 0.25001475]\n",
      " [0.25073716 0.24110559 0.23956214 0.26859465]]\n",
      "\n",
      "[[0.81203158 0.04399917 0.07848442 0.06548484]\n",
      " [0.08284662 0.87115553 0.02024715 0.0257507 ]\n",
      " [0.0257507  0.02024715 0.87115553 0.08284662]\n",
      " [0.06548484 0.07848442 0.04399917 0.81203158]]\n",
      "[[0.2672685  0.2431564  0.24178168 0.24779323]\n",
      " [0.24669193 0.26247498 0.2435701  0.2472628 ]\n",
      " [0.24726276 0.24356999 0.26247507 0.24669194]\n",
      " [0.24779321 0.2417816  0.2431565  0.2672686 ]]\n",
      "\n",
      "[[0.95154866 0.01674797 0.0234783  0.00822507]\n",
      " [0.03863562 0.84803839 0.04732459 0.0660014 ]\n",
      " [0.0660014  0.04732459 0.84803839 0.03863562]\n",
      " [0.00822507 0.0234783  0.01674797 0.95154866]]\n",
      "[[0.26229754 0.24459663 0.24506013 0.24804589]\n",
      " [0.24668269 0.25995198 0.24606867 0.24729691]\n",
      " [0.24729694 0.24606869 0.259952   0.24668269]\n",
      " [0.2480459  0.24506016 0.24459662 0.2622975 ]]\n",
      "\n",
      "[[0.88137945 0.04613594 0.02686734 0.04561727]\n",
      " [0.05009116 0.9236776  0.0194023  0.00682894]\n",
      " [0.00682894 0.0194023  0.9236776  0.05009116]\n",
      " [0.04561727 0.02686734 0.04613594 0.88137945]]\n",
      "[[0.27621973 0.23397568 0.2335212  0.25628325]\n",
      " [0.25909537 0.25040832 0.23344027 0.2570559 ]\n",
      " [0.25705588 0.23344028 0.25040826 0.2590954 ]\n",
      " [0.25628325 0.23352121 0.23397568 0.27621976]]\n",
      "\n"
     ]
    }
   ],
   "source": [
    "for p, phat in zip([pi, Pa, Pm, Pb, Pc], transform(params)):\n",
    "    print(p)\n",
    "    print(phat.numpy())\n",
    "    print()"
   ]
  },
  {
   "cell_type": "code",
   "execution_count": 17,
   "id": "b938bc59",
   "metadata": {},
   "outputs": [
    {
     "data": {
      "text/plain": [
       "<bound method Variable.initialized_value of <tf.Variable 'params:0' shape=(9, 3) dtype=float32, numpy=\n",
       "array([[-0.27520323,  0.19507834,  0.5938708 ],\n",
       "       [-1.4200332 , -1.9565469 , -3.630569  ],\n",
       "       [-2.6245232 , -1.8489523 , -3.0636463 ],\n",
       "       [-2.635978  , -3.087528  , -2.4449322 ],\n",
       "       [-2.7804892 , -3.3084257 , -4.104154  ],\n",
       "       [-3.9800875 , -3.7592027 , -4.8686886 ],\n",
       "       [-3.1996157 , -2.9020796 , -2.628562  ],\n",
       "       [-2.9895077 , -3.5608168 , -2.9907763 ],\n",
       "       [-2.9099834 , -3.9275732 , -4.8003864 ]], dtype=float32)>>"
      ]
     },
     "execution_count": 17,
     "metadata": {},
     "output_type": "execute_result"
    }
   ],
   "source": [
    "params.initialized_value"
   ]
  },
  {
   "cell_type": "code",
   "execution_count": 18,
   "id": "96a2272d",
   "metadata": {},
   "outputs": [
    {
     "data": {
      "text/plain": [
       "<tf.Variable 'params:0' shape=(9, 3) dtype=float32, numpy=\n",
       "array([[-0.27520323,  0.19507834,  0.5938708 ],\n",
       "       [-1.4200332 , -1.9565469 , -3.630569  ],\n",
       "       [-2.6245232 , -1.8489523 , -3.0636463 ],\n",
       "       [-2.635978  , -3.087528  , -2.4449322 ],\n",
       "       [-2.7804892 , -3.3084257 , -4.104154  ],\n",
       "       [-3.9800875 , -3.7592027 , -4.8686886 ],\n",
       "       [-3.1996157 , -2.9020796 , -2.628562  ],\n",
       "       [-2.9895077 , -3.5608168 , -2.9907763 ],\n",
       "       [-2.9099834 , -3.9275732 , -4.8003864 ]], dtype=float32)>"
      ]
     },
     "execution_count": 18,
     "metadata": {},
     "output_type": "execute_result"
    }
   ],
   "source": [
    "params"
   ]
  },
  {
   "cell_type": "code",
   "execution_count": null,
   "id": "ab653925",
   "metadata": {},
   "outputs": [],
   "source": []
  }
 ],
 "metadata": {
  "kernelspec": {
   "display_name": "Python 3 (ipykernel)",
   "language": "python",
   "name": "python3"
  },
  "language_info": {
   "codemirror_mode": {
    "name": "ipython",
    "version": 3
   },
   "file_extension": ".py",
   "mimetype": "text/x-python",
   "name": "python",
   "nbconvert_exporter": "python",
   "pygments_lexer": "ipython3",
   "version": "3.8.11"
  }
 },
 "nbformat": 4,
 "nbformat_minor": 5
}
