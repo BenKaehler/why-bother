{
 "cells": [
  {
   "cell_type": "markdown",
   "id": "95afc4bd",
   "metadata": {},
   "source": [
    "# `pulsar`\n",
    "The\n",
    "\n",
    "Strand Symmetric Spectral\n",
    "\n",
    "Method"
   ]
  },
  {
   "cell_type": "code",
   "execution_count": 1,
   "id": "f71f1501",
   "metadata": {},
   "outputs": [],
   "source": [
    "from itertools import combinations\n",
    "from collections import Counter, defaultdict\n",
    "\n",
    "from cogent3 import load_aligned_seqs, PhyloNode\n",
    "import numpy as np\n",
    "import networkx as nx\n",
    "from sklearn.cluster import SpectralClustering"
   ]
  },
  {
   "cell_type": "code",
   "execution_count": 2,
   "id": "88a792d8",
   "metadata": {},
   "outputs": [
    {
     "name": "stderr",
     "output_type": "stream",
     "text": [
      "2021-11-11 07:29:40.742165: I tensorflow/stream_executor/platform/default/dso_loader.cc:48] Successfully opened dynamic library libcudart.so.10.1\n"
     ]
    },
    {
     "data": {
      "text/plain": [
       "True"
      ]
     },
     "execution_count": 2,
     "metadata": {},
     "output_type": "execute_result"
    }
   ],
   "source": [
    "import tensorflow as tf\n",
    "import tensorflow_probability as tfp\n",
    "tfd = tfp.distributions\n",
    "tfb = tfp.bijectors\n",
    "\n",
    "tf.executing_eagerly()  # need to check whether this is the default for tensorflow > 2"
   ]
  },
  {
   "cell_type": "code",
   "execution_count": 3,
   "id": "bccbca69",
   "metadata": {},
   "outputs": [
    {
     "name": "stderr",
     "output_type": "stream",
     "text": [
      "2021-11-11 07:29:42.296319: I tensorflow/stream_executor/platform/default/dso_loader.cc:48] Successfully opened dynamic library libcuda.so.1\n",
      "2021-11-11 07:29:42.353089: I tensorflow/stream_executor/cuda/cuda_gpu_executor.cc:982] successful NUMA node read from SysFS had negative value (-1), but there must be at least one NUMA node, so returning NUMA node zero\n",
      "2021-11-11 07:29:42.354337: I tensorflow/core/common_runtime/gpu/gpu_device.cc:1716] Found device 0 with properties: \n",
      "pciBusID: 0000:01:00.0 name: NVIDIA GeForce RTX 2080 with Max-Q Design computeCapability: 7.5\n",
      "coreClock: 1.095GHz coreCount: 46 deviceMemorySize: 7.79GiB deviceMemoryBandwidth: 357.69GiB/s\n",
      "2021-11-11 07:29:42.354426: I tensorflow/stream_executor/platform/default/dso_loader.cc:48] Successfully opened dynamic library libcudart.so.10.1\n",
      "2021-11-11 07:29:42.359327: I tensorflow/stream_executor/platform/default/dso_loader.cc:48] Successfully opened dynamic library libcublas.so.10\n",
      "2021-11-11 07:29:42.363537: I tensorflow/stream_executor/platform/default/dso_loader.cc:48] Successfully opened dynamic library libcufft.so.10\n",
      "2021-11-11 07:29:42.364415: I tensorflow/stream_executor/platform/default/dso_loader.cc:48] Successfully opened dynamic library libcurand.so.10\n",
      "2021-11-11 07:29:42.369560: I tensorflow/stream_executor/platform/default/dso_loader.cc:48] Successfully opened dynamic library libcusolver.so.10\n",
      "2021-11-11 07:29:42.372567: I tensorflow/stream_executor/platform/default/dso_loader.cc:48] Successfully opened dynamic library libcusparse.so.10\n",
      "2021-11-11 07:29:42.381949: I tensorflow/stream_executor/platform/default/dso_loader.cc:48] Successfully opened dynamic library libcudnn.so.7\n",
      "2021-11-11 07:29:42.382211: I tensorflow/stream_executor/cuda/cuda_gpu_executor.cc:982] successful NUMA node read from SysFS had negative value (-1), but there must be at least one NUMA node, so returning NUMA node zero\n",
      "2021-11-11 07:29:42.383590: I tensorflow/stream_executor/cuda/cuda_gpu_executor.cc:982] successful NUMA node read from SysFS had negative value (-1), but there must be at least one NUMA node, so returning NUMA node zero\n",
      "2021-11-11 07:29:42.384306: I tensorflow/core/common_runtime/gpu/gpu_device.cc:1858] Adding visible gpu devices: 0\n"
     ]
    }
   ],
   "source": [
    "# this stops tensorflow from snaffling all of the GPU\n",
    "# thanks https://stackoverflow.com/questions/34199233/how-to-prevent-tensorflow-from-allocating-the-totality-of-a-gpu-memory\n",
    "gpus = tf.config.experimental.list_physical_devices('GPU')\n",
    "for gpu in gpus:\n",
    "  tf.config.experimental.set_memory_growth(gpu, True)"
   ]
  },
  {
   "cell_type": "markdown",
   "id": "0e4daac3",
   "metadata": {},
   "source": [
    "## Data import\n",
    "Reads an alignments and creates a list of 4 x 4 x 4 joint frequencies tensors."
   ]
  },
  {
   "cell_type": "code",
   "execution_count": 4,
   "id": "81060425",
   "metadata": {},
   "outputs": [],
   "source": [
    "def get_triples(aln, nuc_order='ACGT', codon_position=None, verbose=False):\n",
    "    if codon_position:\n",
    "        aln = aln[codon_position - 1::3]\n",
    "    aln = aln.no_degenerates()\n",
    "    if verbose:\n",
    "        print(f'Got {len(aln)} positions')\n",
    "    assert len(aln) <= np.iinfo(np.int32).max\n",
    "    triples = []\n",
    "    nuc_map = {n:i for i, n in enumerate(nuc_order)}\n",
    "    for triple in combinations(range(aln.num_seqs), 3):\n",
    "        F = np.zeros([4, 4, 4], dtype=np.int32)\n",
    "        subaln = aln.get_sub_alignment(seqs=triple)\n",
    "        for a, b, c in subaln:\n",
    "            F[nuc_map[a], nuc_map[b], nuc_map[c]] += 1\n",
    "        triples.append([tuple(subaln.names), F])\n",
    "    return triples"
   ]
  },
  {
   "cell_type": "markdown",
   "id": "da7937f2",
   "metadata": {},
   "source": [
    "## Triple fitting functions\n",
    "Collection of functions for concurrent fitting of many triples on CPUs and GPUs. Model is rooted, continuous-time, and strand-symmetric.\n",
    "\n",
    "Also some functions for using Akaike-ish weights to build Semple and Steel-ish graphs."
   ]
  },
  {
   "cell_type": "code",
   "execution_count": 326,
   "id": "b5ddd765",
   "metadata": {},
   "outputs": [],
   "source": [
    "@tf.function()\n",
    "def transform_P_matrix(params, t_param):\n",
    "    params = tf.exp(params)\n",
    "    t = tf.exp(t_param)\n",
    "    Q0 = tf.concat([[-tf.reduce_sum(params[0])], params[0]],\n",
    "                   axis=0)\n",
    "    Q1 = tf.concat([[params[1,0]], [-tf.reduce_sum(params[1])], params[1,1:]],\n",
    "                   axis=0)\n",
    "    Q = tf.concat([[Q0], [Q1], [Q1[::-1]], [Q0[::-1]]], axis=0)\n",
    "    return tf.linalg.expm(Q*t)\n",
    "\n",
    "@tf.function()\n",
    "def transform(params):\n",
    "    zero = tf.constant(0, dtype=tf.float32)\n",
    "    pi = tfb.SoftmaxCentered()(params[0])\n",
    "    Pa = transform_P_matrix(params[1:3], params[3,0])\n",
    "    Pm = transform_P_matrix(params[1:3], zero)\n",
    "    Pb = transform_P_matrix(params[1:3], params[3,1])\n",
    "    Pc = transform_P_matrix(params[1:3], params[3,2])\n",
    "    return pi, Pa, Pm, Pb, Pc\n",
    "    \n",
    "@tf.function()\n",
    "def _loss(params_data):\n",
    "    params, data = params_data\n",
    "    pi, Pa, Pm, Pb, Pc = transform(params)\n",
    "    J = tf.einsum('i,ij,ik,ku,kv', pi, Pa, Pm, Pb, Pc)\n",
    "    loss = tf.reduce_sum(tf.keras.losses.KLDivergence()(J, data))\n",
    "    return loss\n",
    "    \n",
    "@tf.function()\n",
    "def loss(params, data):\n",
    "    return tf.reduce_sum(tf.vectorized_map(_loss, (params, data)))\n",
    "\n",
    "@tf.function()\n",
    "def training_step(parameters, data, optimizer):\n",
    "    with tf.GradientTape() as tape:\n",
    "        loss_value = loss(parameters, data)\n",
    "    gradients = tape.gradient(loss_value, parameters)\n",
    "    return loss_value, gradients\n",
    "\n",
    "# thanks https://github.com/mlgxmez/thelongrun_notebooks/blob/master/MLE_tutorial.ipynb\n",
    "def mle_fit(data, loss, parameters, optimizer, steps=500, verbose=False):\n",
    "    for i in range(steps):\n",
    "        loss_value, gradients = training_step(parameters, data, optimizer)\n",
    "        optimizer.apply_gradients([(gradients, parameters)])\n",
    "        \n",
    "        if i % 100 == 0:\n",
    "            if verbose:\n",
    "                iter_info = f\"Step: {optimizer.iterations.numpy()}, initial loss: {loss_value.numpy()}\"\n",
    "                print(iter_info)\n",
    "\n",
    "def fit_triples(triples, learning_rate=0.01, steps=3000, verbose=False):\n",
    "    K = 3*len(triples)\n",
    "    cherry_loc = {}\n",
    "    data = []\n",
    "    for names, F in triples:\n",
    "        J = (F/F.sum()).astype(np.float32)\n",
    "        for ix in [[0, 1, 2], [1, 2, 0], [2, 0, 1]]:\n",
    "            data.append(J.transpose(ix))\n",
    "\n",
    "    normal_initializer = tf.random_normal_initializer()\n",
    "    parameters = tf.Variable(normal_initializer(shape=[K, 4, 3], dtype=tf.float32), name='params')\n",
    "    for i in range(K):\n",
    "        parameters[i, 3, 0].assign(np.random.normal(np.log(2)))\n",
    "    data = tf.constant(data)\n",
    "    \n",
    "    if verbose:\n",
    "        print(f'Fitting {data.shape[0]} triples')\n",
    "    optimizer = tf.optimizers.Adam(learning_rate=learning_rate)\n",
    "    mle_fit(data, loss, parameters, optimizer, steps=steps, verbose=verbose)\n",
    "    \n",
    "    losses = tf.vectorized_map(_loss, (parameters, data)).numpy()\n",
    "    losses = [losses[i:i+3] for i in range(0, len(losses), 3)]\n",
    "    return losses\n",
    "\n",
    "def cherry_weights(ls, N):\n",
    "    ls = N*ls\n",
    "    delta = ls - ls.min()\n",
    "    weights = np.exp(-delta)\n",
    "    weights = weights/weights.sum()\n",
    "#    return weights\n",
    "    h = (-weights*np.log(weights))[weights != 0.].sum()\n",
    "#     print(ls)\n",
    "#     print(weights)\n",
    "#     print((ls == ls.min())/(h + 1))\n",
    "#     print()\n",
    "#    return (ls == ls.min())/(h + 1)\n",
    "    return weights/(h + 1)  # this was my favourite\n",
    "    if h < 1:\n",
    "        return weights\n",
    "#        return ls == ls.min()\n",
    "    return np.zeros(3, dtype=bool)\n",
    "\n",
    "def get_edges(triples, losses):\n",
    "    edges = Counter()\n",
    "    for losses, (names, F) in zip(losses, triples):\n",
    "        weights = cherry_weights(losses, F.sum())\n",
    "        for name, weight in zip(names, weights):\n",
    "            edges[frozenset(names) - {name}] += weight\n",
    "    # for edge in edges:\n",
    "    #   edges[edge] = np.exp(edges[edge])\n",
    "    return edges\n",
    "\n",
    "def get_Ps(cherry_names, triples, fits):\n",
    "    Ps = {}\n",
    "    ixes = [[0, 1, 2], [1, 2, 0], [2, 0, 1]]\n",
    "    for (names, _), triple_fit in zip(triples, fits):\n",
    "        if set(cherry_names) < set(names):\n",
    "            for name, ix, fit in zip(names, ixes, triple_fit):\n",
    "                if name not in cherry_names:\n",
    "                    if names[ix[1]] == cherry_names[0]:\n",
    "                        return fit[-2], fit[-1]\n",
    "                    return fit[-1], fit[-2]"
   ]
  },
  {
   "cell_type": "markdown",
   "id": "fd83a62a",
   "metadata": {},
   "source": [
    "## Tree building algorithm\n",
    "Where the magic happens."
   ]
  },
  {
   "cell_type": "code",
   "execution_count": 212,
   "id": "2e2c4030",
   "metadata": {},
   "outputs": [],
   "source": [
    "def pulsar(triples, learning_rate=0.01, steps=3000, verbose=False):\n",
    "    losses = fit_triples(triples, learning_rate=learning_rate,\n",
    "                         steps=steps, verbose=verbose)\n",
    "    tree = pulsar_tree(triples, losses, verbose=verbose)\n",
    "    return tree\n",
    "\n",
    "def edges_to_graph(edges):\n",
    "    G = nx.Graph()\n",
    "    for edge, weight in edges.items():\n",
    "        G.add_edge(*edge, weight=weight)\n",
    "    return G\n",
    "\n",
    "def normalised_cut(edges, verbose=False):\n",
    "    tips = np.unique([t for p in edges.keys() for t in p])\n",
    "    affinity = np.zeros((len(tips),)*2)\n",
    "    for i, tipi in enumerate(tips):\n",
    "        for j, tipj in enumerate(tips):\n",
    "            if i == j:\n",
    "                break\n",
    "            affinity[i, j] = edges[frozenset((tipi, tipj))]\n",
    "    affinity += affinity.T\n",
    "    sc = SpectralClustering(2, affinity='precomputed',  # random_state=0,\n",
    "                            assign_labels='discretize')\n",
    "    ix = sc.fit_predict(affinity).astype(bool)\n",
    "    partition = list(tips[ix]), list(tips[np.logical_not(ix)])\n",
    "    if verbose:\n",
    "        G = edges_to_graph(edges)\n",
    "        cut_value = nx.cut_size(G, partition[0], weight='weight')\n",
    "        print(f'Cut value: {cut_value}, Partition:\\n{partition}')\n",
    "    return partition\n",
    "    \n",
    "def min_cut(edges, verbose=False):\n",
    "    G = edges_to_graph(edges)\n",
    "    cut_value, partition = nx.stoer_wagner(G)\n",
    "    if verbose:\n",
    "        print(f'Cut value: {cut_value}, Partition:\\n{partition}')\n",
    "    return partition\n",
    "\n",
    "def pulsar_tree(triples, losses, verbose=False):\n",
    "    edges = get_edges(triples, losses)\n",
    "    if verbose:\n",
    "        print('Graph:')\n",
    "        for edge, weight in edges.items():\n",
    "            print(edge, weight)\n",
    "    partition = normalised_cut(edges, verbose)\n",
    "    assert len(partition) == 2, 'polytomy detected. bailing'\n",
    "    this_node = PhyloNode()\n",
    "    for part in partition:\n",
    "        if len(part) <= 1:\n",
    "            this_node.append(PhyloNode(part.pop()))\n",
    "            continue\n",
    "        elif len(part) == 2:\n",
    "            child = PhyloNode()\n",
    "            for grandchild in part:\n",
    "                child.append(PhyloNode(grandchild))\n",
    "            this_node.append(child)\n",
    "            continue\n",
    "    \n",
    "        part = set(part)\n",
    "        part_losses = []\n",
    "        part_triples = []\n",
    "        for losses_for_names, (names, F) in zip(losses, triples):\n",
    "            if set(names) <= part:\n",
    "                part_losses.append(losses_for_names)\n",
    "                part_triples.append((names, F))\n",
    "        this_node.append(pulsar_tree(part_triples, part_losses, verbose=verbose))\n",
    "    return this_node"
   ]
  },
  {
   "cell_type": "markdown",
   "id": "0b347257",
   "metadata": {},
   "source": [
    "# Some examples\n",
    "## Example 1\n",
    "Fit a rooted phylogeny of 5 mammals."
   ]
  },
  {
   "cell_type": "code",
   "execution_count": 7,
   "id": "d05c519d",
   "metadata": {},
   "outputs": [],
   "source": [
    "# aln = load_aligned_seqs('/home/ben/Data/pentads/ENSG00000197102.fa.gz', moltype=\"dna\")\n",
    "aln = load_aligned_seqs('/home/ben/Data/pentads/ENSG00000131018.fa.gz', moltype=\"dna\")\n",
    "# aln = load_aligned_seqs('/home/ben/Data/pentads/ENSG00000179869.fa.gz', moltype=\"dna\")\n",
    "# aln = load_aligned_seqs('brca1.fasta', moltype='dna')"
   ]
  },
  {
   "cell_type": "code",
   "execution_count": 30,
   "id": "fd12d747",
   "metadata": {},
   "outputs": [
    {
     "data": {
      "text/html": [
       "<style>\n",
       ".c3align td { border: none !important; text-align: left !important; }\n",
       ".c3align tr:not(.num_row) td span {margin: 0 2px;}\n",
       ".c3align tr:nth-child(even) {background: #f7f7f7;}\n",
       ".c3align .num_row {background-color:rgba(161, 195, 209, 0.5) !important; border-top: solid 1px black; }\n",
       ".c3align .label { font-size: 12pt ; text-align: right !important; color: black !important; padding: 0 4px; display: table-cell !important; font-weight: normal !important; }\n",
       ".c3align .T_dna{font-family: \"Lucida Console\",monospace !important; font-size: 12pt !important; color: blue; }\n",
       ".c3align .C_dna{font-family: \"Lucida Console\",monospace !important; font-size: 12pt !important; color: black; }\n",
       ".c3align .A_dna{font-family: \"Lucida Console\",monospace !important; font-size: 12pt !important; color: #FF0102; }\n",
       ".c3align .G_dna{font-family: \"Lucida Console\",monospace !important; font-size: 12pt !important; color: green; }\n",
       ".c3align .terminal_ambig_dna{font-family: \"Lucida Console\",monospace !important; font-size: 12pt !important; color: gray; }\n",
       ".c3align .ambig_dna{font-family: \"Lucida Console\",monospace !important; font-size: 12pt !important; color: gray; }\n",
       "</style>\n",
       "<div class=\"c3align\">\n",
       "<table>\n",
       "<tr class=\"num_row\"><td></td><td><b>0</b></td></tr>\n",
       "<tr><td class=\"label\">Rhino</td><td><span class=\"T_dna\">T</span><span class=\"G_dna\">G</span><span class=\"T_dna\">T</span><span class=\"G_dna\">G</span><span class=\"G_dna\">G</span><span class=\"C_dna\">C</span><span class=\"A_dna\">A</span><span class=\"C_dna\">C</span><span class=\"G_dna\">G</span><span class=\"A_dna\">A</span><span class=\"A_dna\">A</span><span class=\"T_dna\">T</span><span class=\"A_dna\">A</span><span class=\"C_dna\">C</span><span class=\"T_dna\">T</span><span class=\"C_dna\">C</span><span class=\"A_dna\">A</span><span class=\"T_dna\">T</span><span class=\"G_dna\">G</span><span class=\"C_dna\">C</span><span class=\"C_dna\">C</span><span class=\"A_dna\">A</span><span class=\"G_dna\">G</span><span class=\"C_dna\">C</span><span class=\"T_dna\">T</span><span class=\"C_dna\">C</span><span class=\"A_dna\">A</span><span class=\"T_dna\">T</span><span class=\"T_dna\">T</span><span class=\"G_dna\">G</span><span class=\"C_dna\">C</span><span class=\"A_dna\">A</span><span class=\"G_dna\">G</span><span class=\"C_dna\">C</span><span class=\"A_dna\">A</span><span class=\"T_dna\">T</span><span class=\"G_dna\">G</span><span class=\"A_dna\">A</span><span class=\"G_dna\">G</span><span class=\"A_dna\">A</span><span class=\"A_dna\">A</span><span class=\"C_dna\">C</span><span class=\"A_dna\">A</span><span class=\"G_dna\">G</span><span class=\"C_dna\">C</span><span class=\"A_dna\">A</span><span class=\"G_dna\">G</span><span class=\"T_dna\">T</span><span class=\"G_dna\">G</span><span class=\"T_dna\">T</span><span class=\"A_dna\">A</span><span class=\"T_dna\">T</span><span class=\"T_dna\">T</span><span class=\"A_dna\">A</span><span class=\"C_dna\">C</span><span class=\"T_dna\">T</span><span class=\"C_dna\">C</span><span class=\"A_dna\">A</span><span class=\"C_dna\">C</span><span class=\"T_dna\">T</span></td></tr>\n",
       "<tr><td class=\"label\">SpermWhale</td><td><span class=\"T_dna\">.</span><span class=\"G_dna\">.</span><span class=\"T_dna\">.</span><span class=\"G_dna\">.</span><span class=\"G_dna\">.</span><span class=\"C_dna\">.</span><span class=\"A_dna\">.</span><span class=\"C_dna\">.</span><span class=\"A_dna\">A</span><span class=\"G_dna\">G</span><span class=\"A_dna\">.</span><span class=\"T_dna\">.</span><span class=\"A_dna\">.</span><span class=\"C_dna\">.</span><span class=\"T_dna\">.</span><span class=\"C_dna\">.</span><span class=\"A_dna\">.</span><span class=\"T_dna\">.</span><span class=\"G_dna\">.</span><span class=\"C_dna\">.</span><span class=\"C_dna\">.</span><span class=\"A_dna\">.</span><span class=\"G_dna\">.</span><span class=\"C_dna\">.</span><span class=\"T_dna\">.</span><span class=\"C_dna\">.</span><span class=\"A_dna\">.</span><span class=\"T_dna\">.</span><span class=\"T_dna\">.</span><span class=\"A_dna\">A</span><span class=\"C_dna\">.</span><span class=\"A_dna\">.</span><span class=\"G_dna\">.</span><span class=\"C_dna\">.</span><span class=\"A_dna\">.</span><span class=\"T_dna\">.</span><span class=\"G_dna\">.</span><span class=\"A_dna\">.</span><span class=\"A_dna\">A</span><span class=\"A_dna\">.</span><span class=\"A_dna\">.</span><span class=\"C_dna\">.</span><span class=\"A_dna\">.</span><span class=\"G_dna\">.</span><span class=\"C_dna\">.</span><span class=\"A_dna\">.</span><span class=\"G_dna\">.</span><span class=\"T_dna\">.</span><span class=\"T_dna\">T</span><span class=\"T_dna\">.</span><span class=\"A_dna\">.</span><span class=\"T_dna\">.</span><span class=\"T_dna\">.</span><span class=\"A_dna\">.</span><span class=\"C_dna\">.</span><span class=\"T_dna\">.</span><span class=\"C_dna\">.</span><span class=\"A_dna\">.</span><span class=\"C_dna\">.</span><span class=\"T_dna\">.</span></td></tr>\n",
       "<tr><td class=\"label\">HumpbackW</td><td><span class=\"T_dna\">.</span><span class=\"G_dna\">.</span><span class=\"T_dna\">.</span><span class=\"G_dna\">.</span><span class=\"G_dna\">.</span><span class=\"C_dna\">.</span><span class=\"A_dna\">.</span><span class=\"C_dna\">.</span><span class=\"A_dna\">A</span><span class=\"G_dna\">G</span><span class=\"A_dna\">.</span><span class=\"T_dna\">.</span><span class=\"A_dna\">.</span><span class=\"C_dna\">.</span><span class=\"T_dna\">.</span><span class=\"C_dna\">.</span><span class=\"A_dna\">.</span><span class=\"T_dna\">.</span><span class=\"G_dna\">.</span><span class=\"C_dna\">.</span><span class=\"C_dna\">.</span><span class=\"A_dna\">.</span><span class=\"G_dna\">.</span><span class=\"C_dna\">.</span><span class=\"T_dna\">.</span><span class=\"C_dna\">.</span><span class=\"A_dna\">.</span><span class=\"T_dna\">.</span><span class=\"T_dna\">.</span><span class=\"A_dna\">A</span><span class=\"C_dna\">.</span><span class=\"A_dna\">.</span><span class=\"A_dna\">A</span><span class=\"C_dna\">.</span><span class=\"A_dna\">.</span><span class=\"T_dna\">.</span><span class=\"G_dna\">.</span><span class=\"A_dna\">.</span><span class=\"A_dna\">A</span><span class=\"A_dna\">.</span><span class=\"A_dna\">.</span><span class=\"C_dna\">.</span><span class=\"A_dna\">.</span><span class=\"G_dna\">.</span><span class=\"C_dna\">.</span><span class=\"A_dna\">.</span><span class=\"G_dna\">.</span><span class=\"T_dna\">.</span><span class=\"T_dna\">T</span><span class=\"T_dna\">.</span><span class=\"A_dna\">.</span><span class=\"T_dna\">.</span><span class=\"T_dna\">.</span><span class=\"A_dna\">.</span><span class=\"C_dna\">.</span><span class=\"T_dna\">.</span><span class=\"C_dna\">.</span><span class=\"A_dna\">.</span><span class=\"C_dna\">.</span><span class=\"T_dna\">.</span></td></tr>\n",
       "</table>\n",
       "<p><i>3 x 3009 (truncated to 3 x 60) dna alignment</i></p>\n",
       "</div>"
      ],
      "text/plain": [
       "3 x 3009 dna alignment: SpermWhale[TGTGGCACAGA...], HumpbackW[TGTGGCACAGA...], Rhino[TGTGGCACGAA...]"
      ]
     },
     "execution_count": 30,
     "metadata": {},
     "output_type": "execute_result"
    }
   ],
   "source": [
    "subaln = aln.take_seqs(['SpermWhale', 'HumpbackW', 'Rhino'])\n",
    "subaln"
   ]
  },
  {
   "cell_type": "code",
   "execution_count": 27,
   "id": "21924d55",
   "metadata": {},
   "outputs": [
    {
     "data": {
      "text/html": [
       "<style>\n",
       ".c3align td { border: none !important; text-align: left !important; }\n",
       ".c3align tr:not(.num_row) td span {margin: 0 2px;}\n",
       ".c3align tr:nth-child(even) {background: #f7f7f7;}\n",
       ".c3align .num_row {background-color:rgba(161, 195, 209, 0.5) !important; border-top: solid 1px black; }\n",
       ".c3align .label { font-size: 12pt ; text-align: right !important; color: black !important; padding: 0 4px; display: table-cell !important; font-weight: normal !important; }\n",
       ".c3align .T_dna{font-family: \"Lucida Console\",monospace !important; font-size: 12pt !important; color: blue; }\n",
       ".c3align .C_dna{font-family: \"Lucida Console\",monospace !important; font-size: 12pt !important; color: black; }\n",
       ".c3align .A_dna{font-family: \"Lucida Console\",monospace !important; font-size: 12pt !important; color: #FF0102; }\n",
       ".c3align .G_dna{font-family: \"Lucida Console\",monospace !important; font-size: 12pt !important; color: green; }\n",
       ".c3align .terminal_ambig_dna{font-family: \"Lucida Console\",monospace !important; font-size: 12pt !important; color: gray; }\n",
       ".c3align .ambig_dna{font-family: \"Lucida Console\",monospace !important; font-size: 12pt !important; color: gray; }\n",
       "</style>\n",
       "<div class=\"c3align\">\n",
       "<table>\n",
       "<tr class=\"num_row\"><td></td><td><b>0</b></td></tr>\n",
       "<tr><td class=\"label\">Dog</td><td><span class=\"T_dna\">T</span><span class=\"G_dna\">G</span><span class=\"T_dna\">T</span><span class=\"G_dna\">G</span><span class=\"G_dna\">G</span><span class=\"C_dna\">C</span><span class=\"A_dna\">A</span><span class=\"C_dna\">C</span><span class=\"A_dna\">A</span><span class=\"A_dna\">A</span><span class=\"A_dna\">A</span><span class=\"T_dna\">T</span><span class=\"A_dna\">A</span><span class=\"C_dna\">C</span><span class=\"T_dna\">T</span><span class=\"C_dna\">C</span><span class=\"A_dna\">A</span><span class=\"T_dna\">T</span><span class=\"G_dna\">G</span><span class=\"C_dna\">C</span><span class=\"C_dna\">C</span><span class=\"A_dna\">A</span><span class=\"G_dna\">G</span><span class=\"C_dna\">C</span><span class=\"T_dna\">T</span><span class=\"C_dna\">C</span><span class=\"A_dna\">A</span><span class=\"T_dna\">T</span><span class=\"T_dna\">T</span><span class=\"A_dna\">A</span><span class=\"C_dna\">C</span><span class=\"A_dna\">A</span><span class=\"G_dna\">G</span><span class=\"C_dna\">C</span><span class=\"A_dna\">A</span><span class=\"T_dna\">T</span><span class=\"G_dna\">G</span><span class=\"A_dna\">A</span><span class=\"G_dna\">G</span><span class=\"A_dna\">A</span><span class=\"A_dna\">A</span><span class=\"C_dna\">C</span><span class=\"A_dna\">A</span><span class=\"G_dna\">G</span><span class=\"C_dna\">C</span><span class=\"A_dna\">A</span><span class=\"G_dna\">G</span><span class=\"T_dna\">T</span><span class=\"T_dna\">T</span><span class=\"T_dna\">T</span><span class=\"A_dna\">A</span><span class=\"T_dna\">T</span><span class=\"T_dna\">T</span><span class=\"A_dna\">A</span><span class=\"C_dna\">C</span><span class=\"T_dna\">T</span><span class=\"C_dna\">C</span><span class=\"A_dna\">A</span><span class=\"C_dna\">C</span><span class=\"T_dna\">T</span></td></tr>\n",
       "<tr><td class=\"label\">FreeTaile</td><td><span class=\"T_dna\">.</span><span class=\"G_dna\">.</span><span class=\"T_dna\">.</span><span class=\"G_dna\">.</span><span class=\"G_dna\">.</span><span class=\"C_dna\">.</span><span class=\"A_dna\">.</span><span class=\"C_dna\">.</span><span class=\"A_dna\">.</span><span class=\"G_dna\">G</span><span class=\"A_dna\">.</span><span class=\"T_dna\">.</span><span class=\"A_dna\">.</span><span class=\"C_dna\">.</span><span class=\"T_dna\">.</span><span class=\"C_dna\">.</span><span class=\"A_dna\">.</span><span class=\"T_dna\">.</span><span class=\"G_dna\">.</span><span class=\"C_dna\">.</span><span class=\"C_dna\">.</span><span class=\"A_dna\">.</span><span class=\"G_dna\">.</span><span class=\"C_dna\">.</span><span class=\"T_dna\">.</span><span class=\"C_dna\">.</span><span class=\"A_dna\">.</span><span class=\"T_dna\">.</span><span class=\"T_dna\">.</span><span class=\"A_dna\">.</span><span class=\"C_dna\">.</span><span class=\"A_dna\">.</span><span class=\"G_dna\">.</span><span class=\"C_dna\">.</span><span class=\"A_dna\">.</span><span class=\"T_dna\">.</span><span class=\"G_dna\">.</span><span class=\"A_dna\">.</span><span class=\"G_dna\">.</span><span class=\"A_dna\">.</span><span class=\"A_dna\">.</span><span class=\"C_dna\">.</span><span class=\"A_dna\">.</span><span class=\"G_dna\">.</span><span class=\"C_dna\">.</span><span class=\"A_dna\">.</span><span class=\"G_dna\">.</span><span class=\"T_dna\">.</span><span class=\"T_dna\">.</span><span class=\"T_dna\">.</span><span class=\"A_dna\">.</span><span class=\"C_dna\">C</span><span class=\"T_dna\">.</span><span class=\"A_dna\">.</span><span class=\"C_dna\">.</span><span class=\"T_dna\">.</span><span class=\"C_dna\">.</span><span class=\"A_dna\">.</span><span class=\"C_dna\">.</span><span class=\"T_dna\">.</span></td></tr>\n",
       "<tr><td class=\"label\">LittleBro</td><td><span class=\"T_dna\">.</span><span class=\"G_dna\">.</span><span class=\"T_dna\">.</span><span class=\"G_dna\">.</span><span class=\"G_dna\">.</span><span class=\"C_dna\">.</span><span class=\"A_dna\">.</span><span class=\"C_dna\">.</span><span class=\"A_dna\">.</span><span class=\"G_dna\">G</span><span class=\"A_dna\">.</span><span class=\"T_dna\">.</span><span class=\"A_dna\">.</span><span class=\"C_dna\">.</span><span class=\"T_dna\">.</span><span class=\"C_dna\">.</span><span class=\"A_dna\">.</span><span class=\"T_dna\">.</span><span class=\"G_dna\">.</span><span class=\"C_dna\">.</span><span class=\"C_dna\">.</span><span class=\"A_dna\">.</span><span class=\"G_dna\">.</span><span class=\"C_dna\">.</span><span class=\"T_dna\">.</span><span class=\"C_dna\">.</span><span class=\"A_dna\">.</span><span class=\"T_dna\">.</span><span class=\"T_dna\">.</span><span class=\"A_dna\">.</span><span class=\"C_dna\">.</span><span class=\"A_dna\">.</span><span class=\"G_dna\">.</span><span class=\"C_dna\">.</span><span class=\"A_dna\">.</span><span class=\"T_dna\">.</span><span class=\"G_dna\">.</span><span class=\"A_dna\">.</span><span class=\"G_dna\">.</span><span class=\"A_dna\">.</span><span class=\"A_dna\">.</span><span class=\"C_dna\">.</span><span class=\"A_dna\">.</span><span class=\"G_dna\">.</span><span class=\"C_dna\">.</span><span class=\"A_dna\">.</span><span class=\"G_dna\">.</span><span class=\"T_dna\">.</span><span class=\"T_dna\">.</span><span class=\"T_dna\">.</span><span class=\"A_dna\">.</span><span class=\"C_dna\">C</span><span class=\"T_dna\">.</span><span class=\"A_dna\">.</span><span class=\"C_dna\">.</span><span class=\"T_dna\">.</span><span class=\"C_dna\">.</span><span class=\"A_dna\">.</span><span class=\"C_dna\">.</span><span class=\"C_dna\">C</span></td></tr>\n",
       "<tr><td class=\"label\">LeafNose</td><td><span class=\"T_dna\">.</span><span class=\"G_dna\">.</span><span class=\"T_dna\">.</span><span class=\"G_dna\">.</span><span class=\"G_dna\">.</span><span class=\"C_dna\">.</span><span class=\"A_dna\">.</span><span class=\"C_dna\">.</span><span class=\"A_dna\">.</span><span class=\"A_dna\">.</span><span class=\"A_dna\">.</span><span class=\"T_dna\">.</span><span class=\"A_dna\">.</span><span class=\"C_dna\">.</span><span class=\"T_dna\">.</span><span class=\"C_dna\">.</span><span class=\"A_dna\">.</span><span class=\"T_dna\">.</span><span class=\"G_dna\">.</span><span class=\"C_dna\">.</span><span class=\"C_dna\">.</span><span class=\"A_dna\">.</span><span class=\"G_dna\">.</span><span class=\"C_dna\">.</span><span class=\"T_dna\">.</span><span class=\"C_dna\">.</span><span class=\"T_dna\">T</span><span class=\"T_dna\">.</span><span class=\"T_dna\">.</span><span class=\"A_dna\">.</span><span class=\"C_dna\">.</span><span class=\"A_dna\">.</span><span class=\"T_dna\">T</span><span class=\"T_dna\">T</span><span class=\"A_dna\">.</span><span class=\"T_dna\">.</span><span class=\"G_dna\">.</span><span class=\"A_dna\">.</span><span class=\"G_dna\">.</span><span class=\"C_dna\">C</span><span class=\"A_dna\">.</span><span class=\"C_dna\">.</span><span class=\"A_dna\">.</span><span class=\"G_dna\">.</span><span class=\"C_dna\">.</span><span class=\"A_dna\">.</span><span class=\"G_dna\">.</span><span class=\"T_dna\">.</span><span class=\"T_dna\">.</span><span class=\"T_dna\">.</span><span class=\"A_dna\">.</span><span class=\"T_dna\">.</span><span class=\"T_dna\">.</span><span class=\"A_dna\">.</span><span class=\"C_dna\">.</span><span class=\"T_dna\">.</span><span class=\"C_dna\">.</span><span class=\"A_dna\">.</span><span class=\"C_dna\">.</span><span class=\"T_dna\">.</span></td></tr>\n",
       "<tr><td class=\"label\">Horse</td><td><span class=\"T_dna\">.</span><span class=\"G_dna\">.</span><span class=\"T_dna\">.</span><span class=\"G_dna\">.</span><span class=\"G_dna\">.</span><span class=\"C_dna\">.</span><span class=\"A_dna\">.</span><span class=\"C_dna\">.</span><span class=\"A_dna\">.</span><span class=\"A_dna\">.</span><span class=\"A_dna\">.</span><span class=\"T_dna\">.</span><span class=\"A_dna\">.</span><span class=\"C_dna\">.</span><span class=\"T_dna\">.</span><span class=\"C_dna\">.</span><span class=\"A_dna\">.</span><span class=\"T_dna\">.</span><span class=\"G_dna\">.</span><span class=\"C_dna\">.</span><span class=\"C_dna\">.</span><span class=\"A_dna\">.</span><span class=\"G_dna\">.</span><span class=\"C_dna\">.</span><span class=\"T_dna\">.</span><span class=\"C_dna\">.</span><span class=\"A_dna\">.</span><span class=\"T_dna\">.</span><span class=\"T_dna\">.</span><span class=\"G_dna\">G</span><span class=\"C_dna\">.</span><span class=\"A_dna\">.</span><span class=\"G_dna\">.</span><span class=\"C_dna\">.</span><span class=\"A_dna\">.</span><span class=\"T_dna\">.</span><span class=\"G_dna\">.</span><span class=\"A_dna\">.</span><span class=\"G_dna\">.</span><span class=\"A_dna\">.</span><span class=\"A_dna\">.</span><span class=\"C_dna\">.</span><span class=\"A_dna\">.</span><span class=\"G_dna\">.</span><span class=\"C_dna\">.</span><span class=\"A_dna\">.</span><span class=\"G_dna\">.</span><span class=\"T_dna\">.</span><span class=\"T_dna\">.</span><span class=\"T_dna\">.</span><span class=\"A_dna\">.</span><span class=\"T_dna\">.</span><span class=\"T_dna\">.</span><span class=\"A_dna\">.</span><span class=\"C_dna\">.</span><span class=\"T_dna\">.</span><span class=\"C_dna\">.</span><span class=\"A_dna\">.</span><span class=\"C_dna\">.</span><span class=\"T_dna\">.</span></td></tr>\n",
       "<tr><td class=\"label\">Rhino</td><td><span class=\"T_dna\">.</span><span class=\"G_dna\">.</span><span class=\"T_dna\">.</span><span class=\"G_dna\">.</span><span class=\"G_dna\">.</span><span class=\"C_dna\">.</span><span class=\"A_dna\">.</span><span class=\"C_dna\">.</span><span class=\"G_dna\">G</span><span class=\"A_dna\">.</span><span class=\"A_dna\">.</span><span class=\"T_dna\">.</span><span class=\"A_dna\">.</span><span class=\"C_dna\">.</span><span class=\"T_dna\">.</span><span class=\"C_dna\">.</span><span class=\"A_dna\">.</span><span class=\"T_dna\">.</span><span class=\"G_dna\">.</span><span class=\"C_dna\">.</span><span class=\"C_dna\">.</span><span class=\"A_dna\">.</span><span class=\"G_dna\">.</span><span class=\"C_dna\">.</span><span class=\"T_dna\">.</span><span class=\"C_dna\">.</span><span class=\"A_dna\">.</span><span class=\"T_dna\">.</span><span class=\"T_dna\">.</span><span class=\"G_dna\">G</span><span class=\"C_dna\">.</span><span class=\"A_dna\">.</span><span class=\"G_dna\">.</span><span class=\"C_dna\">.</span><span class=\"A_dna\">.</span><span class=\"T_dna\">.</span><span class=\"G_dna\">.</span><span class=\"A_dna\">.</span><span class=\"G_dna\">.</span><span class=\"A_dna\">.</span><span class=\"A_dna\">.</span><span class=\"C_dna\">.</span><span class=\"A_dna\">.</span><span class=\"G_dna\">.</span><span class=\"C_dna\">.</span><span class=\"A_dna\">.</span><span class=\"G_dna\">.</span><span class=\"T_dna\">.</span><span class=\"G_dna\">G</span><span class=\"T_dna\">.</span><span class=\"A_dna\">.</span><span class=\"T_dna\">.</span><span class=\"T_dna\">.</span><span class=\"A_dna\">.</span><span class=\"C_dna\">.</span><span class=\"T_dna\">.</span><span class=\"C_dna\">.</span><span class=\"A_dna\">.</span><span class=\"C_dna\">.</span><span class=\"T_dna\">.</span></td></tr>\n",
       "<tr><td class=\"label\">Pangolin</td><td><span class=\"T_dna\">.</span><span class=\"G_dna\">.</span><span class=\"T_dna\">.</span><span class=\"G_dna\">.</span><span class=\"G_dna\">.</span><span class=\"C_dna\">.</span><span class=\"A_dna\">.</span><span class=\"C_dna\">.</span><span class=\"A_dna\">.</span><span class=\"A_dna\">.</span><span class=\"A_dna\">.</span><span class=\"T_dna\">.</span><span class=\"A_dna\">.</span><span class=\"C_dna\">.</span><span class=\"T_dna\">.</span><span class=\"C_dna\">.</span><span class=\"A_dna\">.</span><span class=\"T_dna\">.</span><span class=\"G_dna\">.</span><span class=\"C_dna\">.</span><span class=\"C_dna\">.</span><span class=\"A_dna\">.</span><span class=\"G_dna\">.</span><span class=\"C_dna\">.</span><span class=\"T_dna\">.</span><span class=\"C_dna\">.</span><span class=\"A_dna\">.</span><span class=\"T_dna\">.</span><span class=\"T_dna\">.</span><span class=\"A_dna\">.</span><span class=\"C_dna\">.</span><span class=\"A_dna\">.</span><span class=\"G_dna\">.</span><span class=\"C_dna\">.</span><span class=\"A_dna\">.</span><span class=\"T_dna\">.</span><span class=\"G_dna\">.</span><span class=\"A_dna\">.</span><span class=\"G_dna\">.</span><span class=\"A_dna\">.</span><span class=\"A_dna\">.</span><span class=\"C_dna\">.</span><span class=\"A_dna\">.</span><span class=\"G_dna\">.</span><span class=\"C_dna\">.</span><span class=\"A_dna\">.</span><span class=\"G_dna\">.</span><span class=\"T_dna\">.</span><span class=\"T_dna\">.</span><span class=\"T_dna\">.</span><span class=\"A_dna\">.</span><span class=\"T_dna\">.</span><span class=\"T_dna\">.</span><span class=\"A_dna\">.</span><span class=\"C_dna\">.</span><span class=\"T_dna\">.</span><span class=\"C_dna\">.</span><span class=\"A_dna\">.</span><span class=\"C_dna\">.</span><span class=\"T_dna\">.</span></td></tr>\n",
       "<tr><td class=\"label\">Cat</td><td><span class=\"T_dna\">.</span><span class=\"G_dna\">.</span><span class=\"T_dna\">.</span><span class=\"G_dna\">.</span><span class=\"C_dna\">C</span><span class=\"C_dna\">.</span><span class=\"A_dna\">.</span><span class=\"C_dna\">.</span><span class=\"A_dna\">.</span><span class=\"A_dna\">.</span><span class=\"A_dna\">.</span><span class=\"T_dna\">.</span><span class=\"A_dna\">.</span><span class=\"C_dna\">.</span><span class=\"T_dna\">.</span><span class=\"C_dna\">.</span><span class=\"G_dna\">G</span><span class=\"T_dna\">.</span><span class=\"G_dna\">.</span><span class=\"C_dna\">.</span><span class=\"C_dna\">.</span><span class=\"A_dna\">.</span><span class=\"G_dna\">.</span><span class=\"C_dna\">.</span><span class=\"T_dna\">.</span><span class=\"C_dna\">.</span><span class=\"A_dna\">.</span><span class=\"T_dna\">.</span><span class=\"T_dna\">.</span><span class=\"A_dna\">.</span><span class=\"C_dna\">.</span><span class=\"A_dna\">.</span><span class=\"G_dna\">.</span><span class=\"C_dna\">.</span><span class=\"A_dna\">.</span><span class=\"T_dna\">.</span><span class=\"G_dna\">.</span><span class=\"A_dna\">.</span><span class=\"G_dna\">.</span><span class=\"A_dna\">.</span><span class=\"A_dna\">.</span><span class=\"C_dna\">.</span><span class=\"A_dna\">.</span><span class=\"G_dna\">.</span><span class=\"C_dna\">.</span><span class=\"A_dna\">.</span><span class=\"G_dna\">.</span><span class=\"T_dna\">.</span><span class=\"T_dna\">.</span><span class=\"T_dna\">.</span><span class=\"A_dna\">.</span><span class=\"T_dna\">.</span><span class=\"T_dna\">.</span><span class=\"A_dna\">.</span><span class=\"C_dna\">.</span><span class=\"T_dna\">.</span><span class=\"C_dna\">.</span><span class=\"A_dna\">.</span><span class=\"C_dna\">.</span><span class=\"T_dna\">.</span></td></tr>\n",
       "<tr><td class=\"label\">Llama</td><td><span class=\"T_dna\">.</span><span class=\"G_dna\">.</span><span class=\"T_dna\">.</span><span class=\"G_dna\">.</span><span class=\"G_dna\">.</span><span class=\"C_dna\">.</span><span class=\"A_dna\">.</span><span class=\"C_dna\">.</span><span class=\"A_dna\">.</span><span class=\"G_dna\">G</span><span class=\"A_dna\">.</span><span class=\"T_dna\">.</span><span class=\"A_dna\">.</span><span class=\"C_dna\">.</span><span class=\"T_dna\">.</span><span class=\"C_dna\">.</span><span class=\"A_dna\">.</span><span class=\"T_dna\">.</span><span class=\"G_dna\">.</span><span class=\"C_dna\">.</span><span class=\"C_dna\">.</span><span class=\"A_dna\">.</span><span class=\"G_dna\">.</span><span class=\"C_dna\">.</span><span class=\"T_dna\">.</span><span class=\"C_dna\">.</span><span class=\"A_dna\">.</span><span class=\"T_dna\">.</span><span class=\"T_dna\">.</span><span class=\"A_dna\">.</span><span class=\"C_dna\">.</span><span class=\"A_dna\">.</span><span class=\"G_dna\">.</span><span class=\"C_dna\">.</span><span class=\"A_dna\">.</span><span class=\"T_dna\">.</span><span class=\"G_dna\">.</span><span class=\"A_dna\">.</span><span class=\"G_dna\">.</span><span class=\"A_dna\">.</span><span class=\"A_dna\">.</span><span class=\"C_dna\">.</span><span class=\"A_dna\">.</span><span class=\"G_dna\">.</span><span class=\"C_dna\">.</span><span class=\"A_dna\">.</span><span class=\"G_dna\">.</span><span class=\"T_dna\">.</span><span class=\"T_dna\">.</span><span class=\"T_dna\">.</span><span class=\"A_dna\">.</span><span class=\"T_dna\">.</span><span class=\"T_dna\">.</span><span class=\"A_dna\">.</span><span class=\"C_dna\">.</span><span class=\"T_dna\">.</span><span class=\"C_dna\">.</span><span class=\"A_dna\">.</span><span class=\"C_dna\">.</span><span class=\"T_dna\">.</span></td></tr>\n",
       "<tr><td class=\"label\">Pig</td><td><span class=\"T_dna\">.</span><span class=\"G_dna\">.</span><span class=\"T_dna\">.</span><span class=\"G_dna\">.</span><span class=\"G_dna\">.</span><span class=\"C_dna\">.</span><span class=\"A_dna\">.</span><span class=\"C_dna\">.</span><span class=\"A_dna\">.</span><span class=\"G_dna\">G</span><span class=\"A_dna\">.</span><span class=\"T_dna\">.</span><span class=\"A_dna\">.</span><span class=\"C_dna\">.</span><span class=\"T_dna\">.</span><span class=\"C_dna\">.</span><span class=\"A_dna\">.</span><span class=\"T_dna\">.</span><span class=\"G_dna\">.</span><span class=\"C_dna\">.</span><span class=\"C_dna\">.</span><span class=\"A_dna\">.</span><span class=\"G_dna\">.</span><span class=\"C_dna\">.</span><span class=\"T_dna\">.</span><span class=\"C_dna\">.</span><span class=\"G_dna\">G</span><span class=\"T_dna\">.</span><span class=\"T_dna\">.</span><span class=\"A_dna\">.</span><span class=\"C_dna\">.</span><span class=\"A_dna\">.</span><span class=\"G_dna\">.</span><span class=\"C_dna\">.</span><span class=\"A_dna\">.</span><span class=\"T_dna\">.</span><span class=\"G_dna\">.</span><span class=\"A_dna\">.</span><span class=\"G_dna\">.</span><span class=\"A_dna\">.</span><span class=\"A_dna\">.</span><span class=\"C_dna\">.</span><span class=\"A_dna\">.</span><span class=\"G_dna\">.</span><span class=\"C_dna\">.</span><span class=\"A_dna\">.</span><span class=\"G_dna\">.</span><span class=\"T_dna\">.</span><span class=\"T_dna\">.</span><span class=\"T_dna\">.</span><span class=\"A_dna\">.</span><span class=\"T_dna\">.</span><span class=\"T_dna\">.</span><span class=\"A_dna\">.</span><span class=\"C_dna\">.</span><span class=\"T_dna\">.</span><span class=\"C_dna\">.</span><span class=\"A_dna\">.</span><span class=\"C_dna\">.</span><span class=\"T_dna\">.</span></td></tr>\n",
       "</table>\n",
       "<p><i>32 x 3009 (truncated to 10 x 60) dna alignment</i></p>\n",
       "</div>"
      ],
      "text/plain": [
       "32 x 3009 dna alignment: FreeTaile[TGTGGCACAGA...], LittleBro[TGTGGCACAGA...], LeafNose[TGTGGCACAAA...], ..."
      ]
     },
     "execution_count": 27,
     "metadata": {},
     "output_type": "execute_result"
    }
   ],
   "source": [
    "subaln = aln.get_similar(aln.take_seqs(['Human']).seqs[0], min_similarity=0.82)\n",
    "#                         min_similarity=0.84)\n",
    "subaln"
   ]
  },
  {
   "cell_type": "markdown",
   "id": "097ad3f8",
   "metadata": {},
   "source": [
    "### All at once\n",
    "First run `pulsar` all the way through."
   ]
  },
  {
   "cell_type": "code",
   "execution_count": 13,
   "id": "949531eb",
   "metadata": {
    "scrolled": true
   },
   "outputs": [
    {
     "name": "stdout",
     "output_type": "stream",
     "text": [
      "Got 1379 positions\n",
      "Fitting 30 triples\n",
      "WARNING:tensorflow:Using a while_loop for converting ResourceGather\n"
     ]
    },
    {
     "name": "stderr",
     "output_type": "stream",
     "text": [
      "/home/ben/miniconda3/envs/tensorflow/lib/python3.8/site-packages/tensorflow/python/framework/indexed_slices.py:431: UserWarning: Converting sparse IndexedSlices to a dense Tensor of unknown shape. This may consume a large amount of memory.\n",
      "  warnings.warn(\n"
     ]
    },
    {
     "name": "stdout",
     "output_type": "stream",
     "text": [
      "Step: 1, initial loss: 9.557806015014648\n",
      "Step: 101, initial loss: 7.413516998291016\n",
      "Step: 201, initial loss: 4.19498348236084\n",
      "Step: 301, initial loss: 2.682432174682617\n",
      "Step: 401, initial loss: 2.213944435119629\n",
      "Step: 501, initial loss: 2.035512924194336\n",
      "Step: 601, initial loss: 1.945760726928711\n",
      "Step: 701, initial loss: 1.890611171722412\n",
      "Step: 801, initial loss: 1.850584864616394\n",
      "Step: 901, initial loss: 1.8073583841323853\n",
      "Step: 1001, initial loss: 1.7271232604980469\n",
      "Step: 1101, initial loss: 1.6803815364837646\n",
      "Step: 1201, initial loss: 1.5528367757797241\n",
      "Step: 1301, initial loss: 1.4469292163848877\n",
      "Step: 1401, initial loss: 1.4186714887619019\n",
      "Step: 1501, initial loss: 1.3984479904174805\n",
      "Step: 1601, initial loss: 1.3569207191467285\n",
      "Step: 1701, initial loss: 1.202434778213501\n",
      "Step: 1801, initial loss: 1.1072218418121338\n",
      "Step: 1901, initial loss: 0.9819071292877197\n",
      "Step: 2001, initial loss: 0.8457576036453247\n",
      "Step: 2101, initial loss: 0.7127068042755127\n",
      "Step: 2201, initial loss: 0.6387661695480347\n",
      "Step: 2301, initial loss: 0.6294982433319092\n",
      "Step: 2401, initial loss: 0.62673020362854\n",
      "Step: 2501, initial loss: 0.6236573457717896\n",
      "Step: 2601, initial loss: 0.5626693367958069\n",
      "Step: 2701, initial loss: 0.5512582659721375\n",
      "Step: 2801, initial loss: 0.5491012334823608\n",
      "Step: 2901, initial loss: 0.5475191473960876\n",
      "WARNING:tensorflow:Using a while_loop for converting ResourceGather\n",
      "Graph:\n",
      "frozenset({'Mouse', 'Human'}) 1.5993793606758118\n",
      "frozenset({'Mouse', 'Dog'}) 1.4195039272308354\n",
      "frozenset({'Human', 'Dog'}) 1.0000000000896765\n",
      "frozenset({'Opossum', 'Human'}) 0.8552119731903076\n",
      "frozenset({'Opossum', 'Dog'}) 1.1743708848953247\n",
      "frozenset({'Platypus', 'Human'}) 0.8629519939422607\n",
      "frozenset({'Platypus', 'Dog'}) 0.45896706730127335\n",
      "frozenset({'Mouse', 'Opossum'}) 0.45286813378334045\n",
      "frozenset({'Mouse', 'Platypus'}) 0.1752728372812271\n",
      "frozenset({'Opossum', 'Platypus'}) 2.0014737248420715\n",
      "Cut value: 3.979642890393734, Partition:\n",
      "(['Dog', 'Human', 'Mouse'], ['Opossum', 'Platypus'])\n",
      "Graph:\n",
      "frozenset({'Mouse', 'Human'}) 1.401298464324817e-44\n",
      "frozenset({'Mouse', 'Dog'}) 5.174905968998377e-16\n",
      "frozenset({'Human', 'Dog'}) 1.0\n",
      "Cut value: 5.174905968998377e-16, Partition:\n",
      "(['Mouse'], ['Dog', 'Human'])\n",
      "                    /-Mouse\n",
      "          /--------|\n",
      "         |         |          /-Dog\n",
      "         |          \\--------|\n",
      "---------|                    \\-Human\n",
      "         |\n",
      "         |          /-Opossum\n",
      "          \\--------|\n",
      "                    \\-Platypus\n",
      "CPU times: user 2min 12s, sys: 18.5 s, total: 2min 31s\n",
      "Wall time: 55.2 s\n"
     ]
    }
   ],
   "source": [
    "%%time\n",
    "triples = get_triples(aln, codon_position=2, verbose=True)\n",
    "tree = pulsar(triples, verbose=True)\n",
    "print(tree.ascii_art())"
   ]
  },
  {
   "cell_type": "markdown",
   "id": "1b013874",
   "metadata": {},
   "source": [
    "### Min Cut\n",
    "```\n",
    "          /-Orangutan\n",
    "---------|\n",
    "         |          /-HairyArma\n",
    "          \\--------|\n",
    "                   |          /-Sloth\n",
    "                    \\--------|\n",
    "                             |          /-Pangolin\n",
    "                              \\--------|\n",
    "                                       |          /-Chimpanzee\n",
    "                                        \\--------|\n",
    "                                                 |          /-Gorilla\n",
    "                                                  \\--------|\n",
    "                                                           |          /-FlyingLem\n",
    "                                                            \\--------|\n",
    "                                                                     |          /-Rhesus\n",
    "                                                                      \\--------|\n",
    "                                                                               |          /-Human\n",
    "                                                                                \\--------|\n",
    "                                                                                         |          /-Llama\n",
    "                                                                                          \\--------|\n",
    "                                                                                                   |          /-HowlerMon\n",
    "                                                                                                    \\--------|\n",
    "                                                                                                             |          /-HumpbackW\n",
    "                                                                                                              \\--------|\n",
    "                                                                                                                       |          /-Horse\n",
    "                                                                                                                        \\--------|\n",
    "                                                                                                                                 |          /-Rhino\n",
    "                                                                                                                                  \\--------|\n",
    "                                                                                                                                            \\-SpermWhale\n",
    "```"
   ]
  },
  {
   "cell_type": "markdown",
   "id": "475721e6",
   "metadata": {},
   "source": [
    "### Normalised Cut\n",
    "```\n",
    "                              /-Pangolin\n",
    "                    /--------|\n",
    "                   |         |          /-Rhino\n",
    "                   |          \\--------|\n",
    "                   |                   |          /-HumpbackW\n",
    "          /--------|                    \\--------|\n",
    "         |         |                              \\-SpermWhale\n",
    "         |         |\n",
    "         |         |          /-Horse\n",
    "         |          \\--------|\n",
    "         |                    \\-Llama\n",
    "---------|\n",
    "         |                    /-HairyArma\n",
    "         |          /--------|\n",
    "         |         |         |          /-FlyingLem\n",
    "         |         |          \\--------|\n",
    "         |         |                    \\-Sloth\n",
    "          \\--------|\n",
    "                   |                    /-Gorilla\n",
    "                   |          /--------|\n",
    "                   |         |          \\-HowlerMon\n",
    "                   |         |\n",
    "                    \\--------|                    /-Human\n",
    "                             |          /--------|\n",
    "                             |         |          \\-Orangutan\n",
    "                              \\--------|\n",
    "                                       |          /-Chimpanzee\n",
    "                                        \\--------|\n",
    "                                                  \\-Rhesus\n",
    "```"
   ]
  },
  {
   "cell_type": "markdown",
   "id": "e8a63bbd",
   "metadata": {},
   "source": [
    "### More Tips\n",
    "```\n",
    "                              /-LittleBro\n",
    "                    /--------|\n",
    "                   |         |          /-FreeTaile\n",
    "                   |          \\--------|\n",
    "                   |                    \\-LeafNose\n",
    "                   |\n",
    "                   |                              /-Hippo\n",
    "          /--------|                    /--------|\n",
    "         |         |                   |          \\-Pangolin\n",
    "         |         |          /--------|\n",
    "         |         |         |         |          /-Pig\n",
    "         |         |         |          \\--------|\n",
    "         |         |         |                   |          /-HumpbackW\n",
    "         |         |         |                    \\--------|\n",
    "         |          \\--------|                              \\-SpermWhale\n",
    "         |                   |\n",
    "         |                   |                    /-Cat\n",
    "         |                   |          /--------|\n",
    "         |                   |         |          \\-Rhino\n",
    "         |                    \\--------|\n",
    "         |                             |                    /-Horse\n",
    "         |                             |          /--------|\n",
    "         |                              \\--------|          \\-Llama\n",
    "         |                                       |\n",
    "         |                                        \\-Dog\n",
    "---------|\n",
    "         |                                        /-Mole\n",
    "         |                              /--------|\n",
    "         |                             |         |          /-FlyingSqu\n",
    "         |                             |          \\--------|\n",
    "         |                    /--------|                    \\-Gorilla\n",
    "         |                   |         |\n",
    "         |                   |         |          /-FlyingLem\n",
    "         |                   |          \\--------|\n",
    "         |                   |                    \\-Galago\n",
    "         |          /--------|\n",
    "         |         |         |                    /-Orangutan\n",
    "         |         |         |          /--------|\n",
    "         |         |         |         |         |          /-Chimpanzee\n",
    "         |         |         |         |          \\--------|\n",
    "         |         |          \\--------|                    \\-Human\n",
    "         |         |                   |\n",
    "         |         |                   |          /-HowlerMon\n",
    "         |         |                    \\--------|\n",
    "          \\--------|                              \\-Rhesus\n",
    "                   |\n",
    "                   |                              /-AfricanEl\n",
    "                   |                    /--------|\n",
    "                   |                   |         |          /-Dugong\n",
    "                   |                   |          \\--------|\n",
    "                   |          /--------|                    \\-Manatee\n",
    "                   |         |         |\n",
    "                   |         |         |          /-Aardvark\n",
    "                    \\--------|          \\--------|\n",
    "                             |                    \\-AsianElep\n",
    "                             |\n",
    "                             |          /-NineBande\n",
    "                              \\--------|\n",
    "                                       |          /-Anteater\n",
    "                                        \\--------|\n",
    "                                                 |          /-HairyArma\n",
    "                                                  \\--------|\n",
    "                                                            \\-Sloth\n",
    "CPU times: user 10h 25min 10s, sys: 45min 20s, total: 11h 10min 31s\n",
    "Wall time: 5h 45min 42s\n",
    "```"
   ]
  },
  {
   "cell_type": "markdown",
   "id": "6c248a02",
   "metadata": {},
   "source": [
    "## Example 2\n",
    "### A single iteration\n",
    "Now run through a single iteration of the algorithm.\n",
    "#### Fit triples\n",
    "Fits rooted, strand-symmetric, continuous-time models to every taxon triple."
   ]
  },
  {
   "cell_type": "code",
   "execution_count": 15,
   "id": "10c1aaf9",
   "metadata": {},
   "outputs": [
    {
     "name": "stdout",
     "output_type": "stream",
     "text": [
      "Got 1379 positions\n",
      "Fitting 30 triples\n",
      "WARNING:tensorflow:Using a while_loop for converting ResourceGather\n",
      "Step: 1, initial loss: 9.558014869689941\n",
      "Step: 101, initial loss: 7.475912094116211\n",
      "Step: 201, initial loss: 4.035521030426025\n",
      "Step: 301, initial loss: 2.48883056640625\n",
      "Step: 401, initial loss: 2.0289595127105713\n",
      "Step: 501, initial loss: 1.8453056812286377\n",
      "Step: 601, initial loss: 1.7498201131820679\n",
      "Step: 701, initial loss: 1.6919828653335571\n",
      "Step: 801, initial loss: 1.6521508693695068\n",
      "Step: 901, initial loss: 1.6159394979476929\n",
      "WARNING:tensorflow:Using a while_loop for converting ResourceGather\n"
     ]
    }
   ],
   "source": [
    "triples = get_triples(aln, codon_position=2, verbose=True)\n",
    "losses = fit_triples(triples, verbose=True, steps=1000)"
   ]
  },
  {
   "cell_type": "markdown",
   "id": "50d94ad1",
   "metadata": {},
   "source": [
    "#### Create $S_\\mathcal{T}\\left/E^\\text{max}_\\mathcal{T}\\right.$\n",
    "Creates the edges in Semple and Steel's $S_\\mathcal{T}\\left/E^\\text{max}_\\mathcal{T}\\right.$ graph, at least as I understand it."
   ]
  },
  {
   "cell_type": "code",
   "execution_count": 16,
   "id": "a361870c",
   "metadata": {
    "scrolled": false
   },
   "outputs": [
    {
     "data": {
      "text/plain": [
       "Counter({frozenset({'Human', 'Mouse'}): 2.364182233810425,\n",
       "         frozenset({'Dog', 'Mouse'}): 0.22597325593233109,\n",
       "         frozenset({'Dog', 'Human'}): 0.0945690888513866,\n",
       "         frozenset({'Human', 'Opossum'}): 2.2734654247760773,\n",
       "         frozenset({'Dog', 'Opossum'}): 0.026277747842121002,\n",
       "         frozenset({'Human', 'Platypus'}): 1.008799790404737,\n",
       "         frozenset({'Dog', 'Platypus'}): 0.8131145063358076,\n",
       "         frozenset({'Mouse', 'Opossum'}): 1.1069583594799042,\n",
       "         frozenset({'Mouse', 'Platypus'}): 0.18988226354122162,\n",
       "         frozenset({'Opossum', 'Platypus'}): 1.8967775851488113})"
      ]
     },
     "execution_count": 16,
     "metadata": {},
     "output_type": "execute_result"
    }
   ],
   "source": [
    "edges = get_edges(triples, losses)\n",
    "edges"
   ]
  },
  {
   "cell_type": "markdown",
   "id": "fd238ae0",
   "metadata": {},
   "source": [
    "#### Find the root by partitioning on the minimum cut\n",
    "Perform the minimum cut to partition our tip set into two, one either side of the root."
   ]
  },
  {
   "cell_type": "code",
   "execution_count": 17,
   "id": "8d52ae56",
   "metadata": {},
   "outputs": [
    {
     "name": "stdout",
     "output_type": "stream",
     "text": [
      "Cut value: 1.1599345989616463, Partition:\n",
      "(['Dog'], ['Mouse', 'Platypus', 'Human', 'Opossum'])\n"
     ]
    }
   ],
   "source": [
    "G = nx.Graph()\n",
    "for edge, weight in edges.items():\n",
    "    G.add_edge(*edge, weight=weight)\n",
    "cut_value, partition = nx.stoer_wagner(G)\n",
    "print(f'Cut value: {cut_value}, Partition:\\n{partition}')"
   ]
  },
  {
   "cell_type": "code",
   "execution_count": 18,
   "id": "a999525d",
   "metadata": {},
   "outputs": [
    {
     "name": "stdout",
     "output_type": "stream",
     "text": [
      "[0 0 1 1 0]\n",
      "['Human', 'Opossum', 'Platypus', 'Dog', 'Mouse']\n"
     ]
    }
   ],
   "source": [
    "from sklearn.cluster import SpectralClustering\n",
    "\n",
    "tips = list(set(t for p in edges.keys() for t in p))\n",
    "affinity = np.zeros((len(tips),)*2)\n",
    "for i, tipi in enumerate(tips):\n",
    "    for j, tipj in enumerate(tips):\n",
    "        if i == j:\n",
    "            break\n",
    "        affinity[i, j] = edges[frozenset((tipi, tipj))]\n",
    "affinity += affinity.T\n",
    "affinity\n",
    "sc = SpectralClustering(2, affinity='precomputed',\n",
    "                        assign_labels='discretize')\n",
    "print\n",
    "print(sc.fit_predict(affinity))\n",
    "print(tips)"
   ]
  },
  {
   "cell_type": "markdown",
   "id": "62db9549",
   "metadata": {},
   "source": [
    "The rest is left as an exercise for the reader (or just look in `pulsar` above) - the algorithm continues recursively."
   ]
  },
  {
   "cell_type": "code",
   "execution_count": 37,
   "id": "64f64659",
   "metadata": {},
   "outputs": [
    {
     "data": {
      "text/plain": [
       "1.0986122886681096"
      ]
     },
     "execution_count": 37,
     "metadata": {},
     "output_type": "execute_result"
    }
   ],
   "source": [
    "w = np.ones(3)/3\n",
    "(-w*np.log(w)).sum()"
   ]
  },
  {
   "cell_type": "markdown",
   "id": "4493a4a0",
   "metadata": {},
   "source": [
    "## Example 3\n",
    "### Let's get systematic\n",
    "For future reference: joblib and tensorflow do not play nice together."
   ]
  },
  {
   "cell_type": "code",
   "execution_count": 8,
   "id": "beba81bf",
   "metadata": {},
   "outputs": [],
   "source": [
    "from cogent3.app import io"
   ]
  },
  {
   "cell_type": "code",
   "execution_count": 9,
   "id": "bee52ad4",
   "metadata": {},
   "outputs": [
    {
     "data": {
      "text/html": [
       "\n",
       "<div class=\"c3table\">\n",
       "\n",
       "<style>\n",
       ".c3table table {margin: 10px 0;}\n",
       ".c3table tr:last-child {border-bottom: 1px solid #000;} \n",
       ".c3table tr > th {text-align: left; padding: 0 5px;}\n",
       ".c3table tr > td {text-align: left; padding: 5px;}\n",
       ".c3table tr:nth-child(even) {background: #f7f7f7 !important;}\n",
       ".c3table .ellipsis {background: rgba(0, 0, 0, .01);}\n",
       ".c3table .index {background: rgba(161, 195, 209, 0.0); margin: 10px; font-weight: 600;}\n",
       ".c3table .head_cell {background: rgba(161, 195, 209, 0.75); font-weight: bold; text-align: center;}\n",
       ".c3table caption {color: rgb(250, 250, 250); background: rgba(30, 140, 200, 1); padding: 3px; white-space: nowrap; caption-side: top;}\n",
       ".c3table .cell_title {font-weight: bold;}\n",
       ".c3col_left { text-align: left !important; display: block;}\n",
       ".c3col_right { text-align: right !important; display: block;}\n",
       ".c3col_center { text-align: center !important; display: block;}\n",
       "</style>\n",
       "\n",
       "<table>\n",
       "\n",
       "<caption>\n",
       "<span class=\"cell_title\">Unlocked db store.</span>\n",
       "</caption>\n",
       "<thead class=\"head_cell\">\n",
       "<th>record type</th><th>number</th>\n",
       "</thead>\n",
       "<tbody>\n",
       "<tr><td><span class=\"c3col_left\">completed</span></td><td><span class=\"c3col_right\">878</span></td></tr>\n",
       "<tr><td><span class=\"c3col_left\">incomplete</span></td><td><span class=\"c3col_right\">122</span></td></tr>\n",
       "<tr><td><span class=\"c3col_left\">logs</span></td><td><span class=\"c3col_right\">1</span></td></tr>\n",
       "</tbody>\n",
       "</table>\n",
       "<p>\n",
       "3 rows x 2 columns</p>\n",
       "</div>"
      ],
      "text/plain": [
       "Unlocked db store.\n",
       "=====================\n",
       "record type    number\n",
       "---------------------\n",
       "completed         878\n",
       "incomplete        122\n",
       "logs                1\n",
       "---------------------\n",
       "\n",
       "3 rows x 2 columns"
      ]
     },
     "execution_count": 9,
     "metadata": {},
     "output_type": "execute_result"
    }
   ],
   "source": [
    "dstore = io.get_data_store(\"../data/horse_pig_bats-filtered.tinydb\")\n",
    "loader = io.load_db()\n",
    "dstore.describe"
   ]
  },
  {
   "cell_type": "code",
   "execution_count": 324,
   "id": "15eb46d1",
   "metadata": {},
   "outputs": [
    {
     "name": "stdout",
     "output_type": "stream",
     "text": [
      "Fitting 10536 triples\n",
      "WARNING:tensorflow:Using a while_loop for converting ResourceGather\n"
     ]
    },
    {
     "name": "stderr",
     "output_type": "stream",
     "text": [
      "/home/ben/miniconda3/envs/tensorflow/lib/python3.8/site-packages/tensorflow/python/framework/indexed_slices.py:431: UserWarning: Converting sparse IndexedSlices to a dense Tensor of unknown shape. This may consume a large amount of memory.\n",
      "  warnings.warn(\n"
     ]
    },
    {
     "name": "stdout",
     "output_type": "stream",
     "text": [
      "Step: 1, initial loss: 5545.9365234375\n",
      "Step: 101, initial loss: 4406.54931640625\n",
      "Step: 201, initial loss: 2189.63671875\n",
      "Step: 301, initial loss: 1222.604736328125\n",
      "Step: 401, initial loss: 880.5628662109375\n",
      "Step: 501, initial loss: 731.1593627929688\n",
      "Step: 601, initial loss: 654.9205322265625\n",
      "Step: 701, initial loss: 610.7950439453125\n",
      "Step: 801, initial loss: 581.9666748046875\n",
      "Step: 901, initial loss: 562.0607299804688\n",
      "Step: 1001, initial loss: 547.6678466796875\n",
      "Step: 1101, initial loss: 536.356689453125\n",
      "Step: 1201, initial loss: 527.2393188476562\n",
      "Step: 1301, initial loss: 519.3055419921875\n",
      "Step: 1401, initial loss: 512.5001220703125\n",
      "Step: 1501, initial loss: 506.73870849609375\n",
      "Step: 1601, initial loss: 501.8682861328125\n",
      "Step: 1701, initial loss: 497.2388000488281\n",
      "Step: 1801, initial loss: 493.0357666015625\n",
      "Step: 1901, initial loss: 488.9714050292969\n",
      "WARNING:tensorflow:Using a while_loop for converting ResourceGather\n"
     ]
    }
   ],
   "source": [
    "num_alns = len(dstore)\n",
    "all_triples = []\n",
    "for aln_name in dstore:\n",
    "    aln = loader(aln_name)\n",
    "    triples = get_triples(aln, codon_position=2, verbose=False)\n",
    "    all_triples.extend(triples)\n",
    "losses = fit_triples(all_triples, steps=2000, verbose=True)"
   ]
  },
  {
   "cell_type": "code",
   "execution_count": 330,
   "id": "1f7b6878",
   "metadata": {},
   "outputs": [],
   "source": [
    "trees = []\n",
    "for i in range(0, len(losses), 4):\n",
    "    tree = pulsar_tree(all_triples[i:i+4], losses[i:i+4])\n",
    "    trees.append(tree)"
   ]
  },
  {
   "cell_type": "code",
   "execution_count": 331,
   "id": "4a46792d",
   "metadata": {},
   "outputs": [],
   "source": [
    "ghb_siblings = Counter()\n",
    "for tree in trees:\n",
    "    tree = tree.unrooted()\n",
    "    for sibling in tree.get_node_matching_name('Greater horseshoe bat').parent.children:\n",
    "        if sibling.name in ('Microbat', 'Pig', 'Horse'):\n",
    "            ghb_siblings[sibling.name] += 1"
   ]
  },
  {
   "cell_type": "code",
   "execution_count": 332,
   "id": "1dd7996f",
   "metadata": {},
   "outputs": [
    {
     "data": {
      "text/plain": [
       "Counter({'Horse': 268, 'Microbat': 354, 'Pig': 256})"
      ]
     },
     "execution_count": 332,
     "metadata": {},
     "output_type": "execute_result"
    }
   ],
   "source": [
    "ghb_siblings"
   ]
  },
  {
   "cell_type": "code",
   "execution_count": 333,
   "id": "5a614d1d",
   "metadata": {},
   "outputs": [
    {
     "data": {
      "text/plain": [
       "0.5968109339407746"
      ]
     },
     "execution_count": 333,
     "metadata": {},
     "output_type": "execute_result"
    }
   ],
   "source": [
    "assert sum(ghb_siblings.values()) == len(trees)\n",
    "1 - ghb_siblings['Microbat']/len(trees)"
   ]
  },
  {
   "cell_type": "code",
   "execution_count": 122,
   "id": "f0c3f672",
   "metadata": {},
   "outputs": [
    {
     "name": "stdout",
     "output_type": "stream",
     "text": [
      "                    /-Horse\n",
      "          /--------|\n",
      "         |         |          /-Microbat\n",
      "---------|          \\--------|\n",
      "         |                    \\-Pig\n",
      "         |\n",
      "          \\-Greater horseshoe bat\n"
     ]
    }
   ],
   "source": [
    "print(tree.ascii_art())"
   ]
  },
  {
   "cell_type": "code",
   "execution_count": 235,
   "id": "8538893b",
   "metadata": {},
   "outputs": [
    {
     "name": "stdout",
     "output_type": "stream",
     "text": [
      "Graph:\n",
      "frozenset({'Pig', 'Microbat'}) 0.6001753807067871\n",
      "frozenset({'Pig', 'Greater horseshoe bat'}) 0.6071698367595673\n",
      "frozenset({'Greater horseshoe bat', 'Microbat'}) 1.024835467338562\n",
      "frozenset({'Horse', 'Microbat'}) 1.0389626026153564\n",
      "frozenset({'Horse', 'Greater horseshoe bat'}) 0.3026467395318093\n",
      "frozenset({'Pig', 'Horse'}) 0.6000426709651947\n",
      "Cut value: 2.527700258542353, Partition:\n",
      "(['Greater horseshoe bat', 'Pig'], ['Horse', 'Microbat'])\n"
     ]
    },
    {
     "data": {
      "text/plain": [
       "Tree(\"((Greater_horseshoe_bat,Pig),(Horse,Microbat));\")"
      ]
     },
     "execution_count": 235,
     "metadata": {},
     "output_type": "execute_result"
    }
   ],
   "source": [
    "pulsar_tree(all_triples[0:4], losses[0:4], verbose=True)"
   ]
  },
  {
   "cell_type": "code",
   "execution_count": 237,
   "id": "7e3acadb",
   "metadata": {},
   "outputs": [
    {
     "name": "stdout",
     "output_type": "stream",
     "text": [
      "Graph:\n",
      "frozenset({'Pig', 'Microbat'}) 0.6592081189155579\n",
      "frozenset({'Pig', 'Greater horseshoe bat'}) 0.6670434474945068\n",
      "frozenset({'Greater horseshoe bat', 'Microbat'}) 0.8335337042808533\n",
      "frozenset({'Horse', 'Microbat'}) 0.8486621677875519\n",
      "frozenset({'Horse', 'Greater horseshoe bat'}) 0.33249066902624236\n",
      "frozenset({'Pig', 'Horse'}) 0.6590619087219238\n",
      "Cut value: 2.4842944009445773, Partition:\n",
      "(['Greater horseshoe bat', 'Pig'], ['Horse', 'Microbat'])\n"
     ]
    },
    {
     "data": {
      "text/plain": [
       "Tree(\"((Greater_horseshoe_bat,Pig),(Horse,Microbat));\")"
      ]
     },
     "execution_count": 237,
     "metadata": {},
     "output_type": "execute_result"
    }
   ],
   "source": [
    "pulsar_tree(all_triples[0:4], losses[0:4], verbose=True)"
   ]
  },
  {
   "cell_type": "code",
   "execution_count": 165,
   "id": "33f96e58",
   "metadata": {},
   "outputs": [
    {
     "data": {
      "text/plain": [
       "878"
      ]
     },
     "execution_count": 165,
     "metadata": {},
     "output_type": "execute_result"
    }
   ],
   "source": [
    "len(trees)"
   ]
  },
  {
   "cell_type": "code",
   "execution_count": 173,
   "id": "cf80de91",
   "metadata": {},
   "outputs": [
    {
     "data": {
      "text/plain": [
       "Tree(\"(Greater_horseshoe_bat,Horse,(Microbat,Pig));\")"
      ]
     },
     "execution_count": 173,
     "metadata": {},
     "output_type": "execute_result"
    }
   ],
   "source": [
    "tree.unrooted()"
   ]
  },
  {
   "cell_type": "code",
   "execution_count": 317,
   "id": "4b04a296",
   "metadata": {},
   "outputs": [
    {
     "data": {
      "text/plain": [
       "array([0.92945784, 1.        ], dtype=float32)"
      ]
     },
     "execution_count": 317,
     "metadata": {},
     "output_type": "execute_result"
    }
   ],
   "source": [
    "x = tf.Variable([0,1], dtype=tf.float32)\n",
    "x[0].assign(np.random.normal(np.log(2)))\n",
    "x.numpy()"
   ]
  },
  {
   "cell_type": "code",
   "execution_count": 303,
   "id": "a8c7f228",
   "metadata": {},
   "outputs": [
    {
     "data": {
      "text/plain": [
       "array([ 1.19354727, -0.15788353,  0.24654262, -0.70162666, -0.60171981,\n",
       "       -0.32571809,  1.18638109,  0.93365527,  1.34244554, -0.1433299 ])"
      ]
     },
     "execution_count": 303,
     "metadata": {},
     "output_type": "execute_result"
    }
   ],
   "source": [
    "np.random.normal(np.log(2), size=10)"
   ]
  },
  {
   "cell_type": "code",
   "execution_count": 304,
   "id": "40edc4e8",
   "metadata": {},
   "outputs": [
    {
     "data": {
      "text/plain": [
       "array([ 0.41678242,  1.78744766,  0.16150639, -1.2669888 ,  0.61775386,\n",
       "       -0.8131098 ,  1.78505102,  1.13953457,  0.25913287, -1.92356829])"
      ]
     },
     "execution_count": 304,
     "metadata": {},
     "output_type": "execute_result"
    }
   ],
   "source": [
    "np.random.normal(size=10)"
   ]
  },
  {
   "cell_type": "code",
   "execution_count": null,
   "id": "9d5fa990",
   "metadata": {},
   "outputs": [],
   "source": []
  }
 ],
 "metadata": {
  "kernelspec": {
   "display_name": "Python 3 (ipykernel)",
   "language": "python",
   "name": "python3"
  },
  "language_info": {
   "codemirror_mode": {
    "name": "ipython",
    "version": 3
   },
   "file_extension": ".py",
   "mimetype": "text/x-python",
   "name": "python",
   "nbconvert_exporter": "python",
   "pygments_lexer": "ipython3",
   "version": "3.8.11"
  }
 },
 "nbformat": 4,
 "nbformat_minor": 5
}
