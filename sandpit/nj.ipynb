{
 "cells": [
  {
   "cell_type": "code",
   "execution_count": 24,
   "id": "aa60fa2e",
   "metadata": {},
   "outputs": [],
   "source": [
    "from collections import Counter\n",
    "\n",
    "import numpy as np\n",
    "from cogent3.app import io\n",
    "from cogent3.evolve import distance\n",
    "from cogent3.phylo import nj\n",
    "from cogent3.evolve.models import JC69\n",
    "from cogent3.evolve.fast_distance import ParalinearPair\n",
    "from cogent3 import DNA"
   ]
  },
  {
   "cell_type": "code",
   "execution_count": 5,
   "id": "57eff23b",
   "metadata": {},
   "outputs": [
    {
     "data": {
      "text/html": [
       "\n",
       "<div class=\"c3table\">\n",
       "\n",
       "<style>\n",
       ".c3table table {margin: 10px 0;}\n",
       ".c3table tr:last-child {border-bottom: 1px solid #000;} \n",
       ".c3table tr > th {text-align: left; padding: 0 5px;}\n",
       ".c3table tr > td {text-align: left; padding: 5px;}\n",
       ".c3table tr:nth-child(even) {background: #f7f7f7 !important;}\n",
       ".c3table .ellipsis {background: rgba(0, 0, 0, .01);}\n",
       ".c3table .index {background: rgba(161, 195, 209, 0.0); margin: 10px; font-weight: 600;}\n",
       ".c3table .head_cell {background: rgba(161, 195, 209, 0.75); font-weight: bold; text-align: center;}\n",
       ".c3table caption {color: rgb(250, 250, 250); background: rgba(30, 140, 200, 1); padding: 3px; white-space: nowrap; caption-side: top;}\n",
       ".c3table .cell_title {font-weight: bold;}\n",
       ".c3col_left { text-align: left !important; display: block;}\n",
       ".c3col_right { text-align: right !important; display: block;}\n",
       ".c3col_center { text-align: center !important; display: block;}\n",
       "</style>\n",
       "\n",
       "<table>\n",
       "\n",
       "<caption>\n",
       "<span class=\"cell_title\">Unlocked db store.</span>\n",
       "</caption>\n",
       "<thead class=\"head_cell\">\n",
       "<th>record type</th><th>number</th>\n",
       "</thead>\n",
       "<tbody>\n",
       "<tr><td><span class=\"c3col_left\">completed</span></td><td><span class=\"c3col_right\">878</span></td></tr>\n",
       "<tr><td><span class=\"c3col_left\">incomplete</span></td><td><span class=\"c3col_right\">122</span></td></tr>\n",
       "<tr><td><span class=\"c3col_left\">logs</span></td><td><span class=\"c3col_right\">1</span></td></tr>\n",
       "</tbody>\n",
       "</table>\n",
       "<p>\n",
       "3 rows x 2 columns</p>\n",
       "</div>"
      ],
      "text/plain": [
       "Unlocked db store.\n",
       "=====================\n",
       "record type    number\n",
       "---------------------\n",
       "completed         878\n",
       "incomplete        122\n",
       "logs                1\n",
       "---------------------\n",
       "\n",
       "3 rows x 2 columns"
      ]
     },
     "execution_count": 5,
     "metadata": {},
     "output_type": "execute_result"
    }
   ],
   "source": [
    "dstore = io.get_data_store(\"../data/horse_pig_bats-filtered.tinydb\")\n",
    "loader = io.load_db()\n",
    "dstore.describe"
   ]
  },
  {
   "cell_type": "code",
   "execution_count": 7,
   "id": "8b58da24",
   "metadata": {},
   "outputs": [],
   "source": [
    "trees = []\n",
    "for aln_name in dstore:\n",
    "    aln = loader(aln_name)\n",
    "    d = distance.EstimateDistances(aln[2::3], submodel=JC69())\n",
    "    d.run(show_progress=False)\n",
    "    tree = nj.nj(d.get_pairwise_distances(), show_progress=False)\n",
    "    tree = tree.root_at_midpoint()\n",
    "    trees.append(tree)"
   ]
  },
  {
   "cell_type": "code",
   "execution_count": 8,
   "id": "fd8fc7fe",
   "metadata": {},
   "outputs": [
    {
     "data": {
      "text/plain": [
       "878"
      ]
     },
     "execution_count": 8,
     "metadata": {},
     "output_type": "execute_result"
    }
   ],
   "source": [
    "len(trees)"
   ]
  },
  {
   "cell_type": "code",
   "execution_count": 11,
   "id": "e49b375a",
   "metadata": {},
   "outputs": [],
   "source": [
    "ghb_siblings = Counter()\n",
    "ordered_siblings = []\n",
    "for tree in trees:\n",
    "    tree = tree.unrooted()\n",
    "    for sibling in tree.get_node_matching_name('Greater horseshoe bat').parent.children:\n",
    "        if sibling.name in ('Microbat', 'Pig', 'Horse'):\n",
    "            ghb_siblings[sibling.name] += 1\n",
    "            ordered_siblings.append(sibling.name)"
   ]
  },
  {
   "cell_type": "code",
   "execution_count": 12,
   "id": "3edda2a2",
   "metadata": {},
   "outputs": [
    {
     "data": {
      "text/plain": [
       "Counter({'Microbat': 638, 'Pig': 114, 'Horse': 126})"
      ]
     },
     "execution_count": 12,
     "metadata": {},
     "output_type": "execute_result"
    }
   ],
   "source": [
    "ghb_siblings"
   ]
  },
  {
   "cell_type": "code",
   "execution_count": 13,
   "id": "4bcac5f7",
   "metadata": {},
   "outputs": [
    {
     "data": {
      "text/plain": [
       "0.7266514806378133"
      ]
     },
     "execution_count": 13,
     "metadata": {},
     "output_type": "execute_result"
    }
   ],
   "source": [
    "ghb_siblings['Microbat']/len(trees)"
   ]
  },
  {
   "cell_type": "code",
   "execution_count": 25,
   "id": "9c475160",
   "metadata": {},
   "outputs": [],
   "source": [
    "trees = []\n",
    "for aln_name in dstore:\n",
    "    aln = loader(aln_name)\n",
    "    d = ParalinearPair(moltype=DNA, alignment=aln[2::3])\n",
    "    d.run(show_progress=False)\n",
    "    if np.isnan(d.get_pairwise_distances()).any():\n",
    "        continue\n",
    "    tree = nj.nj(d.get_pairwise_distances(), show_progress=False)\n",
    "    tree = tree.root_at_midpoint()\n",
    "    trees.append(tree)"
   ]
  },
  {
   "cell_type": "code",
   "execution_count": 26,
   "id": "844f5a1e",
   "metadata": {},
   "outputs": [
    {
     "data": {
      "text/plain": [
       "872"
      ]
     },
     "execution_count": 26,
     "metadata": {},
     "output_type": "execute_result"
    }
   ],
   "source": [
    "len(trees)"
   ]
  },
  {
   "cell_type": "code",
   "execution_count": 27,
   "id": "2645aaa4",
   "metadata": {},
   "outputs": [],
   "source": [
    "ghb_siblings = Counter()\n",
    "ordered_siblings = []\n",
    "for tree in trees:\n",
    "    tree = tree.unrooted()\n",
    "    for sibling in tree.get_node_matching_name('Greater horseshoe bat').parent.children:\n",
    "        if sibling.name in ('Microbat', 'Pig', 'Horse'):\n",
    "            ghb_siblings[sibling.name] += 1\n",
    "            ordered_siblings.append(sibling.name)"
   ]
  },
  {
   "cell_type": "code",
   "execution_count": 28,
   "id": "515fe3ca",
   "metadata": {},
   "outputs": [
    {
     "data": {
      "text/plain": [
       "Counter({'Microbat': 637, 'Pig': 116, 'Horse': 119})"
      ]
     },
     "execution_count": 28,
     "metadata": {},
     "output_type": "execute_result"
    }
   ],
   "source": [
    "ghb_siblings"
   ]
  },
  {
   "cell_type": "code",
   "execution_count": 30,
   "id": "de317b2a",
   "metadata": {},
   "outputs": [
    {
     "data": {
      "text/plain": [
       "0.7255125284738041"
      ]
     },
     "execution_count": 30,
     "metadata": {},
     "output_type": "execute_result"
    }
   ],
   "source": [
    "ghb_siblings['Microbat']/878"
   ]
  },
  {
   "cell_type": "code",
   "execution_count": null,
   "id": "ba8c3498",
   "metadata": {},
   "outputs": [],
   "source": []
  }
 ],
 "metadata": {
  "kernelspec": {
   "display_name": "Python 3 (ipykernel)",
   "language": "python",
   "name": "python3"
  },
  "language_info": {
   "codemirror_mode": {
    "name": "ipython",
    "version": 3
   },
   "file_extension": ".py",
   "mimetype": "text/x-python",
   "name": "python",
   "nbconvert_exporter": "python",
   "pygments_lexer": "ipython3",
   "version": "3.8.11"
  }
 },
 "nbformat": 4,
 "nbformat_minor": 5
}
