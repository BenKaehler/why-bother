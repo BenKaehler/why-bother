{
 "cells": [
  {
   "cell_type": "code",
   "execution_count": 1,
   "id": "f71f1501",
   "metadata": {},
   "outputs": [],
   "source": [
    "from itertools import combinations\n",
    "from collections import Counter\n",
    "\n",
    "from cogent3 import load_aligned_seqs\n",
    "import numpy as np"
   ]
  },
  {
   "cell_type": "code",
   "execution_count": 2,
   "id": "88a792d8",
   "metadata": {},
   "outputs": [
    {
     "name": "stderr",
     "output_type": "stream",
     "text": [
      "2021-09-01 16:50:09.184786: I tensorflow/stream_executor/platform/default/dso_loader.cc:48] Successfully opened dynamic library libcudart.so.10.1\n"
     ]
    },
    {
     "data": {
      "text/plain": [
       "True"
      ]
     },
     "execution_count": 2,
     "metadata": {},
     "output_type": "execute_result"
    }
   ],
   "source": [
    "import tensorflow as tf\n",
    "import tensorflow_probability as tfp\n",
    "tfd = tfp.distributions\n",
    "tfb = tfp.bijectors\n",
    "\n",
    "tf.executing_eagerly()"
   ]
  },
  {
   "cell_type": "code",
   "execution_count": 3,
   "id": "bccbca69",
   "metadata": {},
   "outputs": [
    {
     "name": "stderr",
     "output_type": "stream",
     "text": [
      "2021-09-01 16:50:11.029925: I tensorflow/stream_executor/platform/default/dso_loader.cc:48] Successfully opened dynamic library libcuda.so.1\n",
      "2021-09-01 16:50:11.079934: I tensorflow/stream_executor/cuda/cuda_gpu_executor.cc:982] successful NUMA node read from SysFS had negative value (-1), but there must be at least one NUMA node, so returning NUMA node zero\n",
      "2021-09-01 16:50:11.080332: I tensorflow/core/common_runtime/gpu/gpu_device.cc:1716] Found device 0 with properties: \n",
      "pciBusID: 0000:01:00.0 name: NVIDIA GeForce RTX 2080 with Max-Q Design computeCapability: 7.5\n",
      "coreClock: 1.095GHz coreCount: 46 deviceMemorySize: 7.79GiB deviceMemoryBandwidth: 357.69GiB/s\n",
      "2021-09-01 16:50:11.080360: I tensorflow/stream_executor/platform/default/dso_loader.cc:48] Successfully opened dynamic library libcudart.so.10.1\n",
      "2021-09-01 16:50:11.081820: I tensorflow/stream_executor/platform/default/dso_loader.cc:48] Successfully opened dynamic library libcublas.so.10\n",
      "2021-09-01 16:50:11.083156: I tensorflow/stream_executor/platform/default/dso_loader.cc:48] Successfully opened dynamic library libcufft.so.10\n",
      "2021-09-01 16:50:11.083397: I tensorflow/stream_executor/platform/default/dso_loader.cc:48] Successfully opened dynamic library libcurand.so.10\n",
      "2021-09-01 16:50:11.084937: I tensorflow/stream_executor/platform/default/dso_loader.cc:48] Successfully opened dynamic library libcusolver.so.10\n",
      "2021-09-01 16:50:11.085776: I tensorflow/stream_executor/platform/default/dso_loader.cc:48] Successfully opened dynamic library libcusparse.so.10\n",
      "2021-09-01 16:50:11.088130: I tensorflow/stream_executor/platform/default/dso_loader.cc:48] Successfully opened dynamic library libcudnn.so.7\n",
      "2021-09-01 16:50:11.088221: I tensorflow/stream_executor/cuda/cuda_gpu_executor.cc:982] successful NUMA node read from SysFS had negative value (-1), but there must be at least one NUMA node, so returning NUMA node zero\n",
      "2021-09-01 16:50:11.088536: I tensorflow/stream_executor/cuda/cuda_gpu_executor.cc:982] successful NUMA node read from SysFS had negative value (-1), but there must be at least one NUMA node, so returning NUMA node zero\n",
      "2021-09-01 16:50:11.088772: I tensorflow/core/common_runtime/gpu/gpu_device.cc:1858] Adding visible gpu devices: 0\n"
     ]
    }
   ],
   "source": [
    "# thanks https://stackoverflow.com/questions/34199233/how-to-prevent-tensorflow-from-allocating-the-totality-of-a-gpu-memory\n",
    "\n",
    "gpus = tf.config.experimental.list_physical_devices('GPU')\n",
    "for gpu in gpus:\n",
    "  tf.config.experimental.set_memory_growth(gpu, True)"
   ]
  },
  {
   "cell_type": "code",
   "execution_count": 4,
   "id": "81060425",
   "metadata": {},
   "outputs": [],
   "source": [
    "def get_triples(aln, nuc_order='ACGT', codon_position=3, verbose=False):\n",
    "    aln = aln[codon_position - 1::3].no_degenerates()\n",
    "    if verbose:\n",
    "        print(f'Got {len(aln)} positions')\n",
    "    assert len(aln) <= np.iinfo(np.int32).max\n",
    "    triples = []\n",
    "    nuc_map = {n:i for i, n in enumerate(nuc_order)}\n",
    "    for triple in combinations(range(aln.num_seqs), 3):\n",
    "        F = np.zeros([4, 4, 4], dtype=np.int32)\n",
    "        subaln = aln.get_sub_alignment(seqs=triple)\n",
    "        for a, b, c in subaln:\n",
    "            F[nuc_map[a], nuc_map[b], nuc_map[c]] += 1\n",
    "        triples.append([tuple(subaln.names), F])\n",
    "    return triples"
   ]
  },
  {
   "cell_type": "code",
   "execution_count": 62,
   "id": "b5ddd765",
   "metadata": {},
   "outputs": [],
   "source": [
    "@tf.function()\n",
    "def transform_P_matrix(params):\n",
    "    params = tf.exp(params)\n",
    "    Q0 = tf.concat([[-tf.reduce_sum(params[0])], params[0]],\n",
    "                   axis=0)\n",
    "    Q1 = tf.concat([[params[1,0]], [-tf.reduce_sum(params[1])], params[1,1:]],\n",
    "                   axis=0)\n",
    "    Q = tf.concat([[Q0], [Q1], [Q1[::-1]], [Q0[::-1]]], axis=0)\n",
    "    return tf.linalg.expm(Q)\n",
    "\n",
    "@tf.function()\n",
    "def transform(params):\n",
    "    pi = tfb.SoftmaxCentered()(params[0])\n",
    "    Pa = transform_P_matrix(params[1:3])\n",
    "    Pm = transform_P_matrix(params[3:5])\n",
    "    Pb = transform_P_matrix(params[5:7])\n",
    "    Pc = transform_P_matrix(params[7:9])\n",
    "    return pi, Pa, Pm, Pb, Pc\n",
    "    \n",
    "@tf.function()\n",
    "def _loss(params_data):\n",
    "    params, data = params_data\n",
    "    pi, Pa, Pm, Pb, Pc = transform(params)\n",
    "    J = tf.einsum('i,ij,ik,ku,kv', pi, Pa, Pm, Pb, Pc)\n",
    "    loss = tf.reduce_sum(tf.keras.losses.KLDivergence()(J, data))\n",
    "    return loss\n",
    "    \n",
    "@tf.function()\n",
    "def loss(params, data):\n",
    "    return tf.reduce_sum(tf.vectorized_map(_loss, (params, data)))\n",
    "\n",
    "@tf.function()\n",
    "def training_step(parameters, data, optimizer, unscrambler):\n",
    "    with tf.GradientTape() as tape:\n",
    "        unscrambled = _unscramble(parameters, unscrambler)\n",
    "        loss_value = loss(unscrambled, data)\n",
    "    gradients = tape.gradient(loss_value, parameters)\n",
    "    return loss_value, gradients\n",
    "\n",
    "# thanks https://github.com/mlgxmez/thelongrun_notebooks/blob/master/MLE_tutorial.ipynb\n",
    "def mle_fit(data, loss, parameters, optimizer, unscrambler, steps=500, verbose=False):\n",
    "    for i in range(steps):\n",
    "        loss_value, gradients = training_step(parameters, data, optimizer, unscrambler)\n",
    "        optimizer.apply_gradients([(gradients, parameters)])\n",
    "        \n",
    "        if i % 100 == 0:\n",
    "            if verbose:\n",
    "                iter_info = f\"Step: {optimizer.iterations.numpy()}, initial loss: {loss_value.numpy()}\"\n",
    "                print(iter_info)\n",
    "\n",
    "def check_cherry(parameters, data, N):\n",
    "    ls =  np.array([_loss((parameters[i], data[i])).numpy() for i in range(data.shape[0])])\n",
    "    ls = N*ls\n",
    "    delta = ls - ls.min()\n",
    "    weights = np.exp(-delta)\n",
    "    return weights/weights.sum()\n",
    "    \n",
    "def symmetric_root_fits(triples, learning_rate=0.01, steps=3000, verbose=False):\n",
    "    normal_initializer = tf.random_normal_initializer()\n",
    "    K = len(triples)*3\n",
    "    parameters = tf.Variable(normal_initializer(shape=[K, 9, 3], dtype=tf.float32), name='params')\n",
    "    \n",
    "    data = []\n",
    "    for _, F in triples:\n",
    "        Ja = (F/F.sum()).astype(np.float32)\n",
    "        Jb = Ja.transpose([1, 2, 0])\n",
    "        Jc = Ja.transpose([2, 0, 1])\n",
    "        data.extend([Ja, Jb, Jc])\n",
    "    data = tf.stack(data)\n",
    "\n",
    "    optimizer = tf.optimizers.Adam(learning_rate=learning_rate)\n",
    "    mle_fit(data, loss, parameters, optimizer, steps=steps, verbose=verbose)\n",
    "    \n",
    "    root_probs = []\n",
    "    for i, (names, F) in enumerate(triples):\n",
    "        probs = check_cherry(parameters[3*i:3*(i+1)], data[3*i:3*(i+1)], F.sum())\n",
    "        root_probs.append(dict(zip(names, probs)))\n",
    "        \n",
    "    return root_probs\n",
    "\n",
    "@tf.function()\n",
    "def _unscramble(parameters, unscramble):\n",
    "    unscrambled = []\n",
    "    for t1 in unscramble:\n",
    "        unscrambled.append(tf.stack([parameters[i] for i in t1]))\n",
    "    return tf.stack(unscrambled)\n",
    "\n",
    "def symmetric_root_fits(triples, learning_rate=0.01, cherries_share_matrices=True, steps=3000, verbose=False):\n",
    "    normal_initializer = tf.random_normal_initializer()\n",
    "\n",
    "    K = 0\n",
    "    cherry_loc = {}\n",
    "    unscrambler = []\n",
    "    data = []\n",
    "    for names, F in triples:\n",
    "        J = (F/F.sum()).astype(np.float32)\n",
    "        for ix in [[0, 1, 2], [1, 2, 0], [2, 0, 1]]:\n",
    "            t1 = list(range(K, K+5)) # for pi and two Ps\n",
    "            K += 5\n",
    "            cherry = [names[ix[1]], names[ix[2]]]\n",
    "            frozen_cherry = frozenset(cherry)\n",
    "            if not cherries_share_matrices or frozen_cherry not in cherry_loc:\n",
    "                new_loc = {cherry[0]: [K,K+1], cherry[1]: [K+2,K+3]}\n",
    "                K += 4\n",
    "                cherry_loc[frozen_cherry] = new_loc\n",
    "            t1.extend(cherry_loc[frozen_cherry][cherry[0]]) # for the first cherry\n",
    "            t1.extend(cherry_loc[frozen_cherry][cherry[1]]) # for the second cherry\n",
    "            unscrambler.append(t1)\n",
    "        \n",
    "            data.append(J.transpose(ix))\n",
    "        \n",
    "    parameters = tf.Variable(normal_initializer(shape=[K, 3], dtype=tf.float32), name='params')\n",
    "    data = tf.stack(data)\n",
    "\n",
    "    optimizer = tf.optimizers.Adam(learning_rate=learning_rate)\n",
    "    mle_fit(data, loss, parameters, optimizer, unscrambler, steps=steps, verbose=verbose)\n",
    "    \n",
    "    root_probs = []\n",
    "    unscrambled = _unscramble(parameters, unscrambler)\n",
    "    for i, (names, F) in enumerate(triples):\n",
    "        probs = check_cherry(unscrambled[3*i:3*(i+1)], data[3*i:3*(i+1)], F.sum())\n",
    "        root_probs.append(dict(zip(names, probs)))\n",
    "        \n",
    "    return root_probs\n",
    "\n",
    "def pick_cherry(root_probs):\n",
    "    cherry_llik = Counter()\n",
    "    for probs in root_probs:\n",
    "        names = frozenset(probs.keys())\n",
    "        for name in names:\n",
    "            cherry_llik[names - {name}] += np.log(probs[name])\n",
    "    return cherry_llik.most_common()"
   ]
  },
  {
   "cell_type": "code",
   "execution_count": 63,
   "id": "c9c98820",
   "metadata": {},
   "outputs": [],
   "source": [
    "# aln = load_aligned_seqs('/home/ben/Data/pentads/ENSG00000197102.fa.gz', moltype=\"dna\")\n",
    "aln = load_aligned_seqs('/home/ben/Data/pentads/ENSG00000131018.fa.gz', moltype=\"dna\")\n",
    "# aln = load_aligned_seqs('/home/ben/Data/pentads/ENSG00000179869.fa.gz', moltype=\"dna\")"
   ]
  },
  {
   "cell_type": "code",
   "execution_count": 64,
   "id": "a7b20afb",
   "metadata": {},
   "outputs": [
    {
     "data": {
      "text/html": [
       "<style>\n",
       ".c3align td { border: none !important; text-align: left !important; }\n",
       ".c3align tr:not(.num_row) td span {margin: 0 2px;}\n",
       ".c3align tr:nth-child(even) {background: #f7f7f7;}\n",
       ".c3align .num_row {background-color:rgba(161, 195, 209, 0.5) !important; border-top: solid 1px black; }\n",
       ".c3align .label { font-size: 12pt ; text-align: right !important; color: black !important; padding: 0 4px; display: table-cell !important; font-weight: normal !important; }\n",
       ".c3align .T_dna{font-family: \"Lucida Console\",monospace !important; font-size: 12pt !important; color: blue; }\n",
       ".c3align .C_dna{font-family: \"Lucida Console\",monospace !important; font-size: 12pt !important; color: black; }\n",
       ".c3align .A_dna{font-family: \"Lucida Console\",monospace !important; font-size: 12pt !important; color: #FF0102; }\n",
       ".c3align .G_dna{font-family: \"Lucida Console\",monospace !important; font-size: 12pt !important; color: green; }\n",
       ".c3align .terminal_ambig_dna{font-family: \"Lucida Console\",monospace !important; font-size: 12pt !important; color: gray; }\n",
       ".c3align .ambig_dna{font-family: \"Lucida Console\",monospace !important; font-size: 12pt !important; color: gray; }\n",
       "</style>\n",
       "<div class=\"c3align\">\n",
       "<table>\n",
       "<tr class=\"num_row\"><td></td><td><b>0</b></td></tr>\n",
       "<tr><td class=\"label\">Human</td><td><span class=\"A_dna\">A</span><span class=\"T_dna\">T</span><span class=\"G_dna\">G</span><span class=\"G_dna\">G</span><span class=\"C_dna\">C</span><span class=\"A_dna\">A</span><span class=\"A_dna\">A</span><span class=\"C_dna\">C</span><span class=\"C_dna\">C</span><span class=\"T_dna\">T</span><span class=\"C_dna\">C</span><span class=\"C_dna\">C</span><span class=\"ambig_dna\">-</span><span class=\"ambig_dna\">-</span><span class=\"ambig_dna\">-</span><span class=\"A_dna\">A</span><span class=\"G_dna\">G</span><span class=\"A_dna\">A</span><span class=\"G_dna\">G</span><span class=\"G_dna\">G</span><span class=\"G_dna\">G</span><span class=\"G_dna\">G</span><span class=\"C_dna\">C</span><span class=\"C_dna\">C</span><span class=\"T_dna\">T</span><span class=\"C_dna\">C</span><span class=\"C_dna\">C</span><span class=\"C_dna\">C</span><span class=\"G_dna\">G</span><span class=\"G_dna\">G</span><span class=\"T_dna\">T</span><span class=\"G_dna\">G</span><span class=\"T_dna\">T</span><span class=\"C_dna\">C</span><span class=\"C_dna\">C</span><span class=\"T_dna\">T</span><span class=\"C_dna\">C</span><span class=\"G_dna\">G</span><span class=\"G_dna\">G</span><span class=\"G_dna\">G</span><span class=\"A_dna\">A</span><span class=\"T_dna\">T</span><span class=\"A_dna\">A</span><span class=\"T_dna\">T</span><span class=\"C_dna\">C</span><span class=\"G_dna\">G</span><span class=\"C_dna\">C</span><span class=\"C_dna\">C</span><span class=\"A_dna\">A</span><span class=\"A_dna\">A</span><span class=\"T_dna\">T</span><span class=\"G_dna\">G</span><span class=\"T_dna\">T</span><span class=\"G_dna\">G</span><span class=\"A_dna\">A</span><span class=\"T_dna\">T</span><span class=\"G_dna\">G</span><span class=\"C_dna\">C</span><span class=\"A_dna\">A</span><span class=\"G_dna\">G</span></td></tr>\n",
       "<tr><td class=\"label\">Dog</td><td><span class=\"G_dna\">G</span><span class=\"T_dna\">.</span><span class=\"A_dna\">A</span><span class=\"G_dna\">.</span><span class=\"C_dna\">.</span><span class=\"A_dna\">.</span><span class=\"ambig_dna\">-</span><span class=\"ambig_dna\">-</span><span class=\"ambig_dna\">-</span><span class=\"ambig_dna\">-</span><span class=\"ambig_dna\">-</span><span class=\"ambig_dna\">-</span><span class=\"ambig_dna\">.</span><span class=\"ambig_dna\">.</span><span class=\"ambig_dna\">.</span><span class=\"ambig_dna\">-</span><span class=\"ambig_dna\">-</span><span class=\"ambig_dna\">-</span><span class=\"ambig_dna\">-</span><span class=\"ambig_dna\">-</span><span class=\"ambig_dna\">-</span><span class=\"ambig_dna\">-</span><span class=\"ambig_dna\">-</span><span class=\"ambig_dna\">-</span><span class=\"ambig_dna\">-</span><span class=\"ambig_dna\">-</span><span class=\"ambig_dna\">-</span><span class=\"ambig_dna\">-</span><span class=\"ambig_dna\">-</span><span class=\"ambig_dna\">-</span><span class=\"ambig_dna\">-</span><span class=\"ambig_dna\">-</span><span class=\"ambig_dna\">-</span><span class=\"ambig_dna\">-</span><span class=\"ambig_dna\">-</span><span class=\"ambig_dna\">-</span><span class=\"ambig_dna\">-</span><span class=\"ambig_dna\">-</span><span class=\"ambig_dna\">-</span><span class=\"ambig_dna\">-</span><span class=\"ambig_dna\">-</span><span class=\"ambig_dna\">-</span><span class=\"ambig_dna\">-</span><span class=\"ambig_dna\">-</span><span class=\"ambig_dna\">-</span><span class=\"ambig_dna\">-</span><span class=\"ambig_dna\">-</span><span class=\"ambig_dna\">-</span><span class=\"ambig_dna\">-</span><span class=\"ambig_dna\">-</span><span class=\"ambig_dna\">-</span><span class=\"ambig_dna\">-</span><span class=\"ambig_dna\">-</span><span class=\"ambig_dna\">-</span><span class=\"ambig_dna\">-</span><span class=\"ambig_dna\">-</span><span class=\"ambig_dna\">-</span><span class=\"ambig_dna\">-</span><span class=\"ambig_dna\">-</span><span class=\"ambig_dna\">-</span></td></tr>\n",
       "<tr><td class=\"label\">Mouse</td><td><span class=\"A_dna\">.</span><span class=\"T_dna\">.</span><span class=\"G_dna\">.</span><span class=\"G_dna\">.</span><span class=\"C_dna\">.</span><span class=\"A_dna\">.</span><span class=\"A_dna\">.</span><span class=\"C_dna\">.</span><span class=\"C_dna\">.</span><span class=\"T_dna\">.</span><span class=\"C_dna\">.</span><span class=\"C_dna\">.</span><span class=\"ambig_dna\">.</span><span class=\"ambig_dna\">.</span><span class=\"ambig_dna\">.</span><span class=\"A_dna\">.</span><span class=\"G_dna\">.</span><span class=\"A_dna\">.</span><span class=\"G_dna\">.</span><span class=\"C_dna\">C</span><span class=\"A_dna\">A</span><span class=\"T_dna\">T</span><span class=\"C_dna\">.</span><span class=\"T_dna\">T</span><span class=\"T_dna\">.</span><span class=\"C_dna\">.</span><span class=\"C_dna\">.</span><span class=\"C_dna\">.</span><span class=\"G_dna\">.</span><span class=\"G_dna\">.</span><span class=\"T_dna\">.</span><span class=\"C_dna\">C</span><span class=\"C_dna\">C</span><span class=\"C_dna\">.</span><span class=\"A_dna\">A</span><span class=\"T_dna\">.</span><span class=\"C_dna\">.</span><span class=\"G_dna\">.</span><span class=\"G_dna\">.</span><span class=\"G_dna\">.</span><span class=\"A_dna\">.</span><span class=\"C_dna\">C</span><span class=\"A_dna\">.</span><span class=\"T_dna\">.</span><span class=\"C_dna\">.</span><span class=\"A_dna\">A</span><span class=\"C_dna\">.</span><span class=\"C_dna\">.</span><span class=\"A_dna\">.</span><span class=\"A_dna\">.</span><span class=\"T_dna\">.</span><span class=\"G_dna\">.</span><span class=\"T_dna\">.</span><span class=\"G_dna\">.</span><span class=\"A_dna\">.</span><span class=\"T_dna\">.</span><span class=\"G_dna\">.</span><span class=\"C_dna\">.</span><span class=\"A_dna\">.</span><span class=\"G_dna\">.</span></td></tr>\n",
       "<tr><td class=\"label\">Opossum</td><td><span class=\"A_dna\">.</span><span class=\"T_dna\">.</span><span class=\"G_dna\">.</span><span class=\"G_dna\">.</span><span class=\"C_dna\">.</span><span class=\"C_dna\">C</span><span class=\"A_dna\">.</span><span class=\"C_dna\">.</span><span class=\"T_dna\">T</span><span class=\"T_dna\">.</span><span class=\"C_dna\">.</span><span class=\"C_dna\">.</span><span class=\"T_dna\">T</span><span class=\"C_dna\">C</span><span class=\"A_dna\">A</span><span class=\"A_dna\">.</span><span class=\"G_dna\">.</span><span class=\"A_dna\">.</span><span class=\"A_dna\">A</span><span class=\"T_dna\">T</span><span class=\"G_dna\">.</span><span class=\"C_dna\">C</span><span class=\"T_dna\">T</span><span class=\"A_dna\">A</span><span class=\"T_dna\">.</span><span class=\"C_dna\">.</span><span class=\"A_dna\">A</span><span class=\"A_dna\">A</span><span class=\"G_dna\">.</span><span class=\"A_dna\">A</span><span class=\"T_dna\">.</span><span class=\"C_dna\">C</span><span class=\"T_dna\">.</span><span class=\"C_dna\">.</span><span class=\"C_dna\">.</span><span class=\"G_dna\">G</span><span class=\"C_dna\">.</span><span class=\"G_dna\">.</span><span class=\"T_dna\">T</span><span class=\"G_dna\">.</span><span class=\"A_dna\">.</span><span class=\"C_dna\">C</span><span class=\"A_dna\">.</span><span class=\"T_dna\">.</span><span class=\"T_dna\">T</span><span class=\"G_dna\">.</span><span class=\"C_dna\">.</span><span class=\"T_dna\">T</span><span class=\"A_dna\">.</span><span class=\"A_dna\">.</span><span class=\"T_dna\">.</span><span class=\"G_dna\">.</span><span class=\"T_dna\">.</span><span class=\"A_dna\">A</span><span class=\"A_dna\">.</span><span class=\"T_dna\">.</span><span class=\"G_dna\">.</span><span class=\"C_dna\">.</span><span class=\"A_dna\">.</span><span class=\"A_dna\">A</span></td></tr>\n",
       "<tr><td class=\"label\">Platypus</td><td><span class=\"ambig_dna\">-</span><span class=\"ambig_dna\">-</span><span class=\"ambig_dna\">-</span><span class=\"ambig_dna\">-</span><span class=\"ambig_dna\">-</span><span class=\"ambig_dna\">-</span><span class=\"ambig_dna\">-</span><span class=\"ambig_dna\">-</span><span class=\"ambig_dna\">-</span><span class=\"ambig_dna\">-</span><span class=\"ambig_dna\">-</span><span class=\"ambig_dna\">-</span><span class=\"ambig_dna\">.</span><span class=\"ambig_dna\">.</span><span class=\"ambig_dna\">.</span><span class=\"ambig_dna\">-</span><span class=\"ambig_dna\">-</span><span class=\"ambig_dna\">-</span><span class=\"ambig_dna\">-</span><span class=\"ambig_dna\">-</span><span class=\"ambig_dna\">-</span><span class=\"ambig_dna\">-</span><span class=\"ambig_dna\">-</span><span class=\"ambig_dna\">-</span><span class=\"ambig_dna\">-</span><span class=\"ambig_dna\">-</span><span class=\"ambig_dna\">-</span><span class=\"ambig_dna\">-</span><span class=\"ambig_dna\">-</span><span class=\"ambig_dna\">-</span><span class=\"ambig_dna\">-</span><span class=\"ambig_dna\">-</span><span class=\"ambig_dna\">-</span><span class=\"ambig_dna\">-</span><span class=\"ambig_dna\">-</span><span class=\"ambig_dna\">-</span><span class=\"ambig_dna\">-</span><span class=\"ambig_dna\">-</span><span class=\"ambig_dna\">-</span><span class=\"ambig_dna\">-</span><span class=\"ambig_dna\">-</span><span class=\"ambig_dna\">-</span><span class=\"ambig_dna\">-</span><span class=\"ambig_dna\">-</span><span class=\"ambig_dna\">-</span><span class=\"ambig_dna\">-</span><span class=\"ambig_dna\">-</span><span class=\"ambig_dna\">-</span><span class=\"ambig_dna\">-</span><span class=\"ambig_dna\">-</span><span class=\"ambig_dna\">-</span><span class=\"ambig_dna\">-</span><span class=\"ambig_dna\">-</span><span class=\"ambig_dna\">-</span><span class=\"ambig_dna\">-</span><span class=\"ambig_dna\">-</span><span class=\"ambig_dna\">-</span><span class=\"ambig_dna\">-</span><span class=\"ambig_dna\">-</span><span class=\"ambig_dna\">-</span></td></tr>\n",
       "</table>\n",
       "<p><i>5 x 26457 (truncated to 5 x 60) dna alignment</i></p>\n",
       "</div>"
      ],
      "text/plain": [
       "5 x 26457 dna alignment: Dog[GTAGCA-----...], Human[ATGGCAACCTC...], Mouse[ATGGCAACCTC...], ..."
      ]
     },
     "execution_count": 64,
     "metadata": {},
     "output_type": "execute_result"
    }
   ],
   "source": [
    "aln"
   ]
  },
  {
   "cell_type": "code",
   "execution_count": 66,
   "id": "b171e885",
   "metadata": {},
   "outputs": [
    {
     "name": "stdout",
     "output_type": "stream",
     "text": [
      "Got 1379 positions\n",
      "Step: 1, initial loss: 2.8546125888824463\n",
      "Step: 101, initial loss: 2.2032418251037598\n",
      "Step: 201, initial loss: 1.4977716207504272\n",
      "Step: 301, initial loss: 0.8630205392837524\n",
      "Step: 401, initial loss: 0.6658306121826172\n",
      "Step: 501, initial loss: 0.5506930947303772\n",
      "Step: 601, initial loss: 0.5024968981742859\n",
      "Step: 701, initial loss: 0.4710041880607605\n",
      "Step: 801, initial loss: 0.45927634835243225\n",
      "Step: 901, initial loss: 0.43764108419418335\n",
      "Step: 1001, initial loss: 0.4162985384464264\n",
      "Step: 1101, initial loss: 0.39257046580314636\n",
      "Step: 1201, initial loss: 0.36722075939178467\n",
      "Step: 1301, initial loss: 0.3446645736694336\n",
      "Step: 1401, initial loss: 0.3331846296787262\n",
      "Step: 1501, initial loss: 0.31690871715545654\n",
      "Step: 1601, initial loss: 0.29524195194244385\n",
      "Step: 1701, initial loss: 0.2867218554019928\n",
      "Step: 1801, initial loss: 0.2797970771789551\n",
      "Step: 1901, initial loss: 0.27758467197418213\n",
      "Step: 2001, initial loss: 0.262422114610672\n",
      "Step: 2101, initial loss: 0.2583044767379761\n",
      "Step: 2201, initial loss: 0.24685931205749512\n",
      "Step: 2301, initial loss: 0.24537184834480286\n",
      "Step: 2401, initial loss: 0.22882294654846191\n",
      "Step: 2501, initial loss: 0.22039449214935303\n",
      "Step: 2601, initial loss: 0.21748121082782745\n",
      "Step: 2701, initial loss: 0.20750558376312256\n",
      "Step: 2801, initial loss: 0.2057187557220459\n",
      "Step: 2901, initial loss: 0.20528285205364227\n",
      "CPU times: user 1min 58s, sys: 15.6 s, total: 2min 14s\n",
      "Wall time: 57.1 s\n"
     ]
    }
   ],
   "source": [
    "%%time \n",
    "triples = get_triples(aln, verbose=True)\n",
    "root_probs = symmetric_root_fits(triples, cherries_share_matrices=False, verbose=True)"
   ]
  },
  {
   "cell_type": "code",
   "execution_count": 67,
   "id": "592eaaf2",
   "metadata": {},
   "outputs": [],
   "source": [
    "cherry_llik = pick_cherry(root_probs)"
   ]
  },
  {
   "cell_type": "code",
   "execution_count": 68,
   "id": "50ce671b",
   "metadata": {
    "scrolled": false
   },
   "outputs": [
    {
     "data": {
      "text/plain": [
       "[(frozenset({'Dog', 'Human'}), -1.1088603734970093),\n",
       " (frozenset({'Human', 'Mouse'}), -2.119705319404602),\n",
       " (frozenset({'Opossum', 'Platypus'}), -2.7004566192626953),\n",
       " (frozenset({'Mouse', 'Platypus'}), -3.5348814129829407),\n",
       " (frozenset({'Dog', 'Mouse'}), -11.171769767999649),\n",
       " (frozenset({'Dog', 'Opossum'}), -33.75392091440153),\n",
       " (frozenset({'Human', 'Opossum'}), -34.93848013877869),\n",
       " (frozenset({'Mouse', 'Opossum'}), -36.706530690193176),\n",
       " (frozenset({'Human', 'Platypus'}), -46.11605179309845),\n",
       " (frozenset({'Dog', 'Platypus'}), -51.074777364730835)]"
      ]
     },
     "execution_count": 68,
     "metadata": {},
     "output_type": "execute_result"
    }
   ],
   "source": [
    "cherry_llik"
   ]
  },
  {
   "cell_type": "code",
   "execution_count": 61,
   "id": "81ca9937",
   "metadata": {},
   "outputs": [
    {
     "data": {
      "text/plain": [
       "[{'Dog': 0.38561577, 'Human': 0.33816576, 'Mouse': 0.27621853},\n",
       " {'Dog': 1.0313155e-07, 'Human': 0.21758206, 'Opossum': 0.78241783},\n",
       " {'Dog': 0.10697844, 'Human': 0.20842554, 'Platypus': 0.68459606},\n",
       " {'Dog': 0.24954318, 'Mouse': 0.32080266, 'Opossum': 0.4296541},\n",
       " {'Dog': 0.21373376, 'Mouse': 0.19986603, 'Platypus': 0.5864002},\n",
       " {'Dog': 0.9488019, 'Opossum': 0.034241207, 'Platypus': 0.016956909},\n",
       " {'Human': 0.27611402, 'Mouse': 0.17491361, 'Opossum': 0.54897237},\n",
       " {'Human': 0.30928385, 'Mouse': 1.8782882e-07, 'Platypus': 0.69071597},\n",
       " {'Human': 0.92236674, 'Opossum': 0.037754644, 'Platypus': 0.03987858},\n",
       " {'Mouse': 0.72271425, 'Opossum': 0.13628605, 'Platypus': 0.1409997}]"
      ]
     },
     "execution_count": 61,
     "metadata": {},
     "output_type": "execute_result"
    }
   ],
   "source": [
    "root_probs"
   ]
  },
  {
   "cell_type": "code",
   "execution_count": null,
   "id": "510fee3d",
   "metadata": {},
   "outputs": [],
   "source": []
  }
 ],
 "metadata": {
  "kernelspec": {
   "display_name": "Python 3 (ipykernel)",
   "language": "python",
   "name": "python3"
  },
  "language_info": {
   "codemirror_mode": {
    "name": "ipython",
    "version": 3
   },
   "file_extension": ".py",
   "mimetype": "text/x-python",
   "name": "python",
   "nbconvert_exporter": "python",
   "pygments_lexer": "ipython3",
   "version": "3.8.11"
  }
 },
 "nbformat": 4,
 "nbformat_minor": 5
}
