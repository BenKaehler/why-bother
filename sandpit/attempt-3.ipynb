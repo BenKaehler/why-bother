{
 "cells": [
  {
   "cell_type": "code",
   "execution_count": 1,
   "id": "cd1779bc",
   "metadata": {},
   "outputs": [],
   "source": [
    "import numpy as np"
   ]
  },
  {
   "cell_type": "code",
   "execution_count": 2,
   "id": "d23a4c10",
   "metadata": {},
   "outputs": [
    {
     "data": {
      "text/plain": [
       "True"
      ]
     },
     "execution_count": 2,
     "metadata": {},
     "output_type": "execute_result"
    }
   ],
   "source": [
    "import tensorflow as tf\n",
    "import tensorflow_probability as tfp\n",
    "tfd = tfp.distributions\n",
    "tfb = tfp.bijectors\n",
    "\n",
    "tf.executing_eagerly()"
   ]
  },
  {
   "cell_type": "code",
   "execution_count": 3,
   "id": "c10fddee",
   "metadata": {},
   "outputs": [
    {
     "name": "stderr",
     "output_type": "stream",
     "text": [
      "2021-08-30 14:10:16.853910: I tensorflow/stream_executor/platform/default/dso_loader.cc:44] Successfully opened dynamic library libcuda.so.1\n",
      "2021-08-30 14:10:16.887982: I tensorflow/stream_executor/cuda/cuda_gpu_executor.cc:981] successful NUMA node read from SysFS had negative value (-1), but there must be at least one NUMA node, so returning NUMA node zero\n",
      "2021-08-30 14:10:16.888276: I tensorflow/core/common_runtime/gpu/gpu_device.cc:1561] Found device 0 with properties: \n",
      "pciBusID: 0000:01:00.0 name: NVIDIA GeForce RTX 2080 with Max-Q Design computeCapability: 7.5\n",
      "coreClock: 1.095GHz coreCount: 46 deviceMemorySize: 7.79GiB deviceMemoryBandwidth: 357.69GiB/s\n",
      "2021-08-30 14:10:16.888447: I tensorflow/stream_executor/platform/default/dso_loader.cc:44] Successfully opened dynamic library libcudart.so.10.1\n",
      "2021-08-30 14:10:16.889607: I tensorflow/stream_executor/platform/default/dso_loader.cc:44] Successfully opened dynamic library libcublas.so.10\n",
      "2021-08-30 14:10:16.890729: I tensorflow/stream_executor/platform/default/dso_loader.cc:44] Successfully opened dynamic library libcufft.so.10\n",
      "2021-08-30 14:10:16.890919: I tensorflow/stream_executor/platform/default/dso_loader.cc:44] Successfully opened dynamic library libcurand.so.10\n",
      "2021-08-30 14:10:16.892115: I tensorflow/stream_executor/platform/default/dso_loader.cc:44] Successfully opened dynamic library libcusolver.so.10\n",
      "2021-08-30 14:10:16.892791: I tensorflow/stream_executor/platform/default/dso_loader.cc:44] Successfully opened dynamic library libcusparse.so.10\n",
      "2021-08-30 14:10:16.895357: I tensorflow/stream_executor/platform/default/dso_loader.cc:44] Successfully opened dynamic library libcudnn.so.7\n",
      "2021-08-30 14:10:16.895446: I tensorflow/stream_executor/cuda/cuda_gpu_executor.cc:981] successful NUMA node read from SysFS had negative value (-1), but there must be at least one NUMA node, so returning NUMA node zero\n",
      "2021-08-30 14:10:16.895777: I tensorflow/stream_executor/cuda/cuda_gpu_executor.cc:981] successful NUMA node read from SysFS had negative value (-1), but there must be at least one NUMA node, so returning NUMA node zero\n",
      "2021-08-30 14:10:16.896037: I tensorflow/core/common_runtime/gpu/gpu_device.cc:1703] Adding visible gpu devices: 0\n"
     ]
    }
   ],
   "source": [
    "# thanks https://stackoverflow.com/questions/34199233/how-to-prevent-tensorflow-from-allocating-the-totality-of-a-gpu-memory\n",
    "gpus = tf.config.experimental.list_physical_devices('GPU')\n",
    "for gpu in gpus:\n",
    "  tf.config.experimental.set_memory_growth(gpu, True)"
   ]
  },
  {
   "cell_type": "code",
   "execution_count": 4,
   "id": "13923ef4",
   "metadata": {},
   "outputs": [],
   "source": [
    "Pa = np.array([[0.71893144, 0.14144765, 0.10698649, 0.03263443],\n",
    "       [0.06325843, 0.77423272, 0.13928361, 0.02322523],\n",
    "       [0.02322523, 0.13928361, 0.77423272, 0.06325843],\n",
    "       [0.03263443, 0.10698649, 0.14144765, 0.71893144]])\n",
    "\n",
    "Pb = np.array([[0.95154866, 0.01674797, 0.0234783 , 0.00822507],\n",
    "       [0.03863562, 0.84803839, 0.04732459, 0.0660014 ],\n",
    "       [0.0660014 , 0.04732459, 0.84803839, 0.03863562],\n",
    "       [0.00822507, 0.0234783 , 0.01674797, 0.95154866]])\n",
    "\n",
    "Pc = np.array([[0.88137945, 0.04613594, 0.02686734, 0.04561727],\n",
    "       [0.05009116, 0.9236776 , 0.0194023 , 0.00682894],\n",
    "       [0.00682894, 0.0194023 , 0.9236776 , 0.05009116],\n",
    "       [0.04561727, 0.02686734, 0.04613594, 0.88137945]])\n",
    "Pm = np.array([[0.81203158, 0.04399917, 0.07848442, 0.06548484],\n",
    "       [0.08284662, 0.87115553, 0.02024715, 0.0257507 ],\n",
    "       [0.0257507 , 0.02024715, 0.87115553, 0.08284662],\n",
    "       [0.06548484, 0.07848442, 0.04399917, 0.81203158]])\n",
    "\n",
    "pi = np.array([0.14977394, 0.26317362, 0.39165429, 0.19539816])\n",
    "\n",
    "pi_m = pi @ Pm\n",
    "\n",
    "J = np.array([[[0.07508613297288518, 0.00466350788803318, 0.0033432901131033796, 0.004042219322757277], [0.002186937387234338, 0.01570096614179908, 0.0011254388766303509, 0.0005015574893929194], [0.002007283482847851, 0.0012535337368050612, 0.013395860029779497, 0.0010220788989917808], [0.0013011086711092986, 0.0016042909684947522, 0.0012404869820179004, 0.011323417297654589]], [[0.03129698648252512, 0.00815953485072002, 0.004394876926278819, 0.0020308813605868174], [0.008288184321098279, 0.14201837079233715, 0.005398759767993272, 0.0017880581744532536], [0.0015277493099248596, 0.00886482820182737, 0.04269081732021271, 0.0028169181161841477], [0.0021015052010260205, 0.011819352252411985, 0.0034103593745217937, 0.02379160092199082]], [[0.02174460265532043, 0.002941403304710777, 0.017006110729978843, 0.0023681733984058486], [0.0022577498981608663, 0.03237071808690972, 0.012426756488990255, 0.0019160961759307586], [0.0022144999652547693, 0.006239396030284971, 0.20953281339937846, 0.012130269098422072], [0.002543170970124578, 0.003973434481032667, 0.011775618913078878, 0.04210892174683528]], [[0.012093125924573445, 0.0012993605630256348, 0.0021464967072447926, 0.0015645368675293004], [0.0010702747292501203, 0.013479197587703494, 0.0016493822206027895, 0.0025896804160072057], [0.0005894417935184289, 0.00127918145334602, 0.022260289874459077, 0.0029430040436876307], [0.005229012301832341, 0.0040480932067737535, 0.006152859243062461, 0.09785943409093556]]])"
   ]
  },
  {
   "cell_type": "code",
   "execution_count": 5,
   "id": "65573e13",
   "metadata": {},
   "outputs": [],
   "source": [
    "J_mb = pi_m[:, np.newaxis] * Pb\n",
    "J_bc = J_mb.T @ Pc\n",
    "J_ab = Pa.T @ np.diag(pi) @ Pm @ Pb\n",
    "J_ca = (Pa.T @ np.diag(pi) @ Pm @ Pc).T\n",
    "\n",
    "assert np.allclose(J_bc, J.sum(axis=0))  # checking I have constructed it correctly\n",
    "assert np.allclose(J_ab, J.sum(axis=2))\n",
    "assert np.allclose(J_ca, J.sum(axis=1).T)\n",
    "\n",
    "J_einsum = np.einsum('i,ij,ik,ku,kv', pi, Pa, Pm, Pb, Pc)\n",
    "assert np.allclose(J_einsum, J)"
   ]
  },
  {
   "cell_type": "code",
   "execution_count": 9,
   "id": "079f283d",
   "metadata": {},
   "outputs": [],
   "source": [
    "# thanks https://github.com/mlgxmez/thelongrun_notebooks/blob/master/MLE_tutorial.ipynb\n",
    "\n",
    "@tf.function()\n",
    "def transform_P_matrix(params):\n",
    "    params = tf.exp(params)\n",
    "    Q0 = tf.concat([[-tf.reduce_sum(params[0])], params[0]],\n",
    "                   axis=0)\n",
    "    Q1 = tf.concat([[params[1,0]], [-tf.reduce_sum(params[1])], params[1,1:]],\n",
    "                   axis=0)\n",
    "    Q = tf.concat([[Q0], [Q1], [Q1[::-1]], [Q0[::-1]]], axis=0)\n",
    "    return tf.linalg.expm(Q)\n",
    "\n",
    "@tf.function()\n",
    "def transform(params):\n",
    "    pi = tfb.SoftmaxCentered()(params[0])\n",
    "    Pa = transform_P_matrix(params[1:3])\n",
    "    Pm = transform_P_matrix(params[3:5])\n",
    "    Pb = transform_P_matrix(params[5:7])\n",
    "    Pc = transform_P_matrix(params[7:9])\n",
    "    return pi, Pa, Pm, Pb, Pc\n",
    "    \n",
    "@tf.function()\n",
    "def loss(params, data):\n",
    "    pi, Pa, Pm, Pb, Pc = transform(params)\n",
    "    J = tf.einsum('i,ij,ik,ku,kv', pi, Pa, Pm, Pb, Pc)\n",
    "    loss = tf.reduce_sum(tf.keras.losses.KLDivergence()(J, data))\n",
    "    return loss\n",
    "\n",
    "@tf.function()\n",
    "def training_step(parameters, data, optimizer):\n",
    "    with tf.GradientTape() as tape:\n",
    "        loss_value = loss(parameters, data)\n",
    "    gradients = tape.gradient(loss_value, parameters)\n",
    "    optimizer.apply_gradients([(gradients, parameters)])\n",
    "    return loss_value\n",
    "\n",
    "def mle_run(data, loss, parameters, optimizer, tol=1e-9, steps=5000, verbose=False):\n",
    "    update_list = []\n",
    "    \n",
    "    with tf.GradientTape() as tape:\n",
    "        loss_value = loss(parameters, data)\n",
    "    gradients = tape.gradient(loss_value, parameters)\n",
    "    optimizer.apply_gradients([(gradients, parameters)])\n",
    "    \n",
    "    last_loss = None\n",
    "    for i in range(steps):\n",
    "        loss_value = training_step(parameters, data, optimizer)\n",
    "    \n",
    "        if i % 100 == 0:\n",
    "            update_list.append((\n",
    "                optimizer.iterations.numpy(),loss_value.numpy(), \n",
    "                parameters.numpy()))\n",
    "            iter_info = f\"Step: {optimizer.iterations.numpy()}, initial loss: {loss_value.numpy()}\"\n",
    "            if verbose:\n",
    "                print(iter_info)\n",
    "        \n",
    "        if last_loss and np.abs(last_loss - loss_value) < tol:\n",
    "            break\n",
    "        last_loss = loss_value.numpy()\n",
    "    \n",
    "    return update_list"
   ]
  },
  {
   "cell_type": "code",
   "execution_count": 11,
   "id": "3ffc4eae",
   "metadata": {},
   "outputs": [
    {
     "name": "stdout",
     "output_type": "stream",
     "text": [
      "Step: 2, initial loss: 0.06802451610565186\n",
      "Step: 102, initial loss: 0.054375916719436646\n",
      "Step: 202, initial loss: 0.029549051076173782\n",
      "Step: 302, initial loss: 0.024169042706489563\n",
      "Step: 402, initial loss: 0.011589404195547104\n",
      "Step: 502, initial loss: 0.004432496149092913\n",
      "Step: 602, initial loss: 0.001679866574704647\n",
      "Step: 702, initial loss: 0.0002588656498119235\n",
      "Step: 802, initial loss: 9.796224185265601e-05\n",
      "Step: 902, initial loss: 5.965631135040894e-05\n",
      "Step: 1002, initial loss: 4.2164683691225946e-05\n",
      "Step: 1102, initial loss: 3.200123319402337e-05\n",
      "Step: 1202, initial loss: 2.5280700356233865e-05\n",
      "Step: 1302, initial loss: 2.0458275685086846e-05\n",
      "Step: 1402, initial loss: 1.684140443103388e-05\n",
      "Step: 1502, initial loss: 1.399157554260455e-05\n",
      "CPU times: user 11 s, sys: 1.68 s, total: 12.7 s\n",
      "Wall time: 7.04 s\n"
     ]
    }
   ],
   "source": [
    "%%time\n",
    "normal_initializer = tf.random_normal_initializer()\n",
    "params = tf.Variable(normal_initializer(shape=[9, 3], dtype=tf.float32), name='params')\n",
    "\n",
    "optimizer = tf.optimizers.Adam(0.01)\n",
    "update_list = mle_run(J, loss, params, optimizer, verbose=True)"
   ]
  },
  {
   "cell_type": "code",
   "execution_count": 8,
   "id": "2dcc4fca",
   "metadata": {},
   "outputs": [
    {
     "name": "stdout",
     "output_type": "stream",
     "text": [
      "[0.14977394 0.26317362 0.39165429 0.19539816]\n",
      "[0.15924823 0.25345227 0.37730977 0.20998974]\n",
      "\n",
      "[[0.71893144 0.14144765 0.10698649 0.03263443]\n",
      " [0.06325843 0.77423272 0.13928361 0.02322523]\n",
      " [0.02322523 0.13928361 0.77423272 0.06325843]\n",
      " [0.03263443 0.10698649 0.14144765 0.71893144]]\n",
      "[[0.66221833 0.19392754 0.117075   0.02677916]\n",
      " [0.06035676 0.7718665  0.13022181 0.03755496]\n",
      " [0.03755496 0.13022181 0.7718665  0.06035676]\n",
      " [0.02677916 0.11707501 0.19392754 0.66221833]]\n",
      "\n",
      "[[0.81203158 0.04399917 0.07848442 0.06548484]\n",
      " [0.08284662 0.87115553 0.02024715 0.0257507 ]\n",
      " [0.0257507  0.02024715 0.87115553 0.08284662]\n",
      " [0.06548484 0.07848442 0.04399917 0.81203158]]\n",
      "[[0.83121365 0.05142147 0.04501026 0.07235461]\n",
      " [0.04564698 0.904586   0.03204318 0.01772382]\n",
      " [0.01772382 0.03204317 0.904586   0.04564699]\n",
      " [0.07235461 0.04501025 0.05142147 0.8312136 ]]\n",
      "\n",
      "[[0.95154866 0.01674797 0.0234783  0.00822507]\n",
      " [0.03863562 0.84803839 0.04732459 0.0660014 ]\n",
      " [0.0660014  0.04732459 0.84803839 0.03863562]\n",
      " [0.00822507 0.0234783  0.01674797 0.95154866]]\n",
      "[[0.95258594 0.01724314 0.02181411 0.00835672]\n",
      " [0.03865016 0.8478672  0.04744282 0.06603977]\n",
      " [0.06603976 0.04744282 0.8478673  0.03865016]\n",
      " [0.00835672 0.02181411 0.01724314 0.952586  ]]\n",
      "\n",
      "[[0.88137945 0.04613594 0.02686734 0.04561727]\n",
      " [0.05009116 0.9236776  0.0194023  0.00682894]\n",
      " [0.00682894 0.0194023  0.9236776  0.05009116]\n",
      " [0.04561727 0.02686734 0.04613594 0.88137945]]\n",
      "[[0.88159424 0.04620883 0.02698787 0.04520903]\n",
      " [0.04950233 0.9226207  0.01916877 0.00870817]\n",
      " [0.00870817 0.01916877 0.9226208  0.04950232]\n",
      " [0.04520903 0.02698787 0.04620884 0.8815942 ]]\n",
      "\n"
     ]
    }
   ],
   "source": [
    "for p, phat in zip([pi, Pa, Pm, Pb, Pc], transform(params)):\n",
    "    print(p)\n",
    "    print(phat.numpy())\n",
    "    print()"
   ]
  },
  {
   "cell_type": "code",
   "execution_count": 17,
   "id": "b938bc59",
   "metadata": {},
   "outputs": [
    {
     "data": {
      "text/plain": [
       "<bound method Variable.initialized_value of <tf.Variable 'params:0' shape=(9, 3) dtype=float32, numpy=\n",
       "array([[-0.27520323,  0.19507834,  0.5938708 ],\n",
       "       [-1.4200332 , -1.9565469 , -3.630569  ],\n",
       "       [-2.6245232 , -1.8489523 , -3.0636463 ],\n",
       "       [-2.635978  , -3.087528  , -2.4449322 ],\n",
       "       [-2.7804892 , -3.3084257 , -4.104154  ],\n",
       "       [-3.9800875 , -3.7592027 , -4.8686886 ],\n",
       "       [-3.1996157 , -2.9020796 , -2.628562  ],\n",
       "       [-2.9895077 , -3.5608168 , -2.9907763 ],\n",
       "       [-2.9099834 , -3.9275732 , -4.8003864 ]], dtype=float32)>>"
      ]
     },
     "execution_count": 17,
     "metadata": {},
     "output_type": "execute_result"
    }
   ],
   "source": [
    "params.initialized_value"
   ]
  },
  {
   "cell_type": "code",
   "execution_count": 18,
   "id": "96a2272d",
   "metadata": {},
   "outputs": [
    {
     "data": {
      "text/plain": [
       "<tf.Variable 'params:0' shape=(9, 3) dtype=float32, numpy=\n",
       "array([[-0.27520323,  0.19507834,  0.5938708 ],\n",
       "       [-1.4200332 , -1.9565469 , -3.630569  ],\n",
       "       [-2.6245232 , -1.8489523 , -3.0636463 ],\n",
       "       [-2.635978  , -3.087528  , -2.4449322 ],\n",
       "       [-2.7804892 , -3.3084257 , -4.104154  ],\n",
       "       [-3.9800875 , -3.7592027 , -4.8686886 ],\n",
       "       [-3.1996157 , -2.9020796 , -2.628562  ],\n",
       "       [-2.9895077 , -3.5608168 , -2.9907763 ],\n",
       "       [-2.9099834 , -3.9275732 , -4.8003864 ]], dtype=float32)>"
      ]
     },
     "execution_count": 18,
     "metadata": {},
     "output_type": "execute_result"
    }
   ],
   "source": [
    "params"
   ]
  },
  {
   "cell_type": "code",
   "execution_count": null,
   "id": "ab653925",
   "metadata": {},
   "outputs": [],
   "source": []
  }
 ],
 "metadata": {
  "kernelspec": {
   "display_name": "Python 3 (ipykernel)",
   "language": "python",
   "name": "python3"
  },
  "language_info": {
   "codemirror_mode": {
    "name": "ipython",
    "version": 3
   },
   "file_extension": ".py",
   "mimetype": "text/x-python",
   "name": "python",
   "nbconvert_exporter": "python",
   "pygments_lexer": "ipython3",
   "version": "3.8.11"
  }
 },
 "nbformat": 4,
 "nbformat_minor": 5
}
