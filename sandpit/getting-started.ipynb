{
 "cells": [
  {
   "cell_type": "code",
   "execution_count": 1,
   "id": "cd1779bc",
   "metadata": {},
   "outputs": [],
   "source": [
    "import numpy as np\n",
    "import scipy.stats as sps"
   ]
  },
  {
   "cell_type": "code",
   "execution_count": 2,
   "id": "d23a4c10",
   "metadata": {},
   "outputs": [
    {
     "name": "stderr",
     "output_type": "stream",
     "text": [
      "2021-08-31 12:52:14.001997: I tensorflow/stream_executor/platform/default/dso_loader.cc:48] Successfully opened dynamic library libcudart.so.10.1\n"
     ]
    },
    {
     "data": {
      "text/plain": [
       "True"
      ]
     },
     "execution_count": 2,
     "metadata": {},
     "output_type": "execute_result"
    }
   ],
   "source": [
    "import tensorflow as tf\n",
    "import tensorflow_probability as tfp\n",
    "tfd = tfp.distributions\n",
    "tfb = tfp.bijectors\n",
    "\n",
    "tf.executing_eagerly()"
   ]
  },
  {
   "cell_type": "code",
   "execution_count": 3,
   "id": "c10fddee",
   "metadata": {},
   "outputs": [
    {
     "name": "stderr",
     "output_type": "stream",
     "text": [
      "2021-08-31 12:52:14.931864: I tensorflow/stream_executor/platform/default/dso_loader.cc:48] Successfully opened dynamic library libcuda.so.1\n",
      "2021-08-31 12:52:14.956644: I tensorflow/stream_executor/cuda/cuda_gpu_executor.cc:982] successful NUMA node read from SysFS had negative value (-1), but there must be at least one NUMA node, so returning NUMA node zero\n",
      "2021-08-31 12:52:14.956925: I tensorflow/core/common_runtime/gpu/gpu_device.cc:1716] Found device 0 with properties: \n",
      "pciBusID: 0000:01:00.0 name: NVIDIA GeForce RTX 2080 with Max-Q Design computeCapability: 7.5\n",
      "coreClock: 1.095GHz coreCount: 46 deviceMemorySize: 7.79GiB deviceMemoryBandwidth: 357.69GiB/s\n",
      "2021-08-31 12:52:14.956942: I tensorflow/stream_executor/platform/default/dso_loader.cc:48] Successfully opened dynamic library libcudart.so.10.1\n",
      "2021-08-31 12:52:14.958055: I tensorflow/stream_executor/platform/default/dso_loader.cc:48] Successfully opened dynamic library libcublas.so.10\n",
      "2021-08-31 12:52:14.959156: I tensorflow/stream_executor/platform/default/dso_loader.cc:48] Successfully opened dynamic library libcufft.so.10\n",
      "2021-08-31 12:52:14.959342: I tensorflow/stream_executor/platform/default/dso_loader.cc:48] Successfully opened dynamic library libcurand.so.10\n",
      "2021-08-31 12:52:14.960460: I tensorflow/stream_executor/platform/default/dso_loader.cc:48] Successfully opened dynamic library libcusolver.so.10\n",
      "2021-08-31 12:52:14.961088: I tensorflow/stream_executor/platform/default/dso_loader.cc:48] Successfully opened dynamic library libcusparse.so.10\n",
      "2021-08-31 12:52:14.963606: I tensorflow/stream_executor/platform/default/dso_loader.cc:48] Successfully opened dynamic library libcudnn.so.7\n",
      "2021-08-31 12:52:14.963708: I tensorflow/stream_executor/cuda/cuda_gpu_executor.cc:982] successful NUMA node read from SysFS had negative value (-1), but there must be at least one NUMA node, so returning NUMA node zero\n",
      "2021-08-31 12:52:14.964027: I tensorflow/stream_executor/cuda/cuda_gpu_executor.cc:982] successful NUMA node read from SysFS had negative value (-1), but there must be at least one NUMA node, so returning NUMA node zero\n",
      "2021-08-31 12:52:14.964274: I tensorflow/core/common_runtime/gpu/gpu_device.cc:1858] Adding visible gpu devices: 0\n"
     ]
    }
   ],
   "source": [
    "# thanks https://stackoverflow.com/questions/34199233/how-to-prevent-tensorflow-from-allocating-the-totality-of-a-gpu-memory\n",
    "gpus = tf.config.experimental.list_physical_devices('GPU')\n",
    "for gpu in gpus:\n",
    "  tf.config.experimental.set_memory_growth(gpu, True)"
   ]
  },
  {
   "cell_type": "code",
   "execution_count": 4,
   "id": "13923ef4",
   "metadata": {},
   "outputs": [],
   "source": [
    "Pa = np.array([[0.71893144, 0.14144765, 0.10698649, 0.03263443],\n",
    "       [0.06325843, 0.77423272, 0.13928361, 0.02322523],\n",
    "       [0.02322523, 0.13928361, 0.77423272, 0.06325843],\n",
    "       [0.03263443, 0.10698649, 0.14144765, 0.71893144]])\n",
    "\n",
    "Pb = np.array([[0.95154866, 0.01674797, 0.0234783 , 0.00822507],\n",
    "       [0.03863562, 0.84803839, 0.04732459, 0.0660014 ],\n",
    "       [0.0660014 , 0.04732459, 0.84803839, 0.03863562],\n",
    "       [0.00822507, 0.0234783 , 0.01674797, 0.95154866]])\n",
    "\n",
    "Pc = np.array([[0.88137945, 0.04613594, 0.02686734, 0.04561727],\n",
    "       [0.05009116, 0.9236776 , 0.0194023 , 0.00682894],\n",
    "       [0.00682894, 0.0194023 , 0.9236776 , 0.05009116],\n",
    "       [0.04561727, 0.02686734, 0.04613594, 0.88137945]])\n",
    "Pm = np.array([[0.81203158, 0.04399917, 0.07848442, 0.06548484],\n",
    "       [0.08284662, 0.87115553, 0.02024715, 0.0257507 ],\n",
    "       [0.0257507 , 0.02024715, 0.87115553, 0.08284662],\n",
    "       [0.06548484, 0.07848442, 0.04399917, 0.81203158]])\n",
    "\n",
    "pi = np.array([0.14977394, 0.26317362, 0.39165429, 0.19539816])\n",
    "\n",
    "pi_m = pi @ Pm\n",
    "\n",
    "J = np.array([[[0.07508613297288518, 0.00466350788803318, 0.0033432901131033796, 0.004042219322757277], [0.002186937387234338, 0.01570096614179908, 0.0011254388766303509, 0.0005015574893929194], [0.002007283482847851, 0.0012535337368050612, 0.013395860029779497, 0.0010220788989917808], [0.0013011086711092986, 0.0016042909684947522, 0.0012404869820179004, 0.011323417297654589]], [[0.03129698648252512, 0.00815953485072002, 0.004394876926278819, 0.0020308813605868174], [0.008288184321098279, 0.14201837079233715, 0.005398759767993272, 0.0017880581744532536], [0.0015277493099248596, 0.00886482820182737, 0.04269081732021271, 0.0028169181161841477], [0.0021015052010260205, 0.011819352252411985, 0.0034103593745217937, 0.02379160092199082]], [[0.02174460265532043, 0.002941403304710777, 0.017006110729978843, 0.0023681733984058486], [0.0022577498981608663, 0.03237071808690972, 0.012426756488990255, 0.0019160961759307586], [0.0022144999652547693, 0.006239396030284971, 0.20953281339937846, 0.012130269098422072], [0.002543170970124578, 0.003973434481032667, 0.011775618913078878, 0.04210892174683528]], [[0.012093125924573445, 0.0012993605630256348, 0.0021464967072447926, 0.0015645368675293004], [0.0010702747292501203, 0.013479197587703494, 0.0016493822206027895, 0.0025896804160072057], [0.0005894417935184289, 0.00127918145334602, 0.022260289874459077, 0.0029430040436876307], [0.005229012301832341, 0.0040480932067737535, 0.006152859243062461, 0.09785943409093556]]])"
   ]
  },
  {
   "cell_type": "code",
   "execution_count": 5,
   "id": "65573e13",
   "metadata": {},
   "outputs": [],
   "source": [
    "J_mb = pi_m[:, np.newaxis] * Pb\n",
    "J_bc = J_mb.T @ Pc\n",
    "J_ab = Pa.T @ np.diag(pi) @ Pm @ Pb\n",
    "J_ca = (Pa.T @ np.diag(pi) @ Pm @ Pc).T\n",
    "\n",
    "assert np.allclose(J_bc, J.sum(axis=0))  # checking I have constructed it correctly\n",
    "assert np.allclose(J_ab, J.sum(axis=2))\n",
    "assert np.allclose(J_ca, J.sum(axis=1).T)\n",
    "\n",
    "J_einsum = np.einsum('i,ij,ik,ku,kv', pi, Pa, Pm, Pb, Pc)\n",
    "assert np.allclose(J_einsum, J)"
   ]
  },
  {
   "cell_type": "code",
   "execution_count": 14,
   "id": "a5909b3b",
   "metadata": {},
   "outputs": [],
   "source": [
    "def sample(N, J):\n",
    "    return sps.multinomial.rvs(N, J.flatten()).reshape((4, 4, 4))/N"
   ]
  },
  {
   "cell_type": "code",
   "execution_count": 6,
   "id": "079f283d",
   "metadata": {},
   "outputs": [],
   "source": [
    "# thanks https://github.com/mlgxmez/thelongrun_notebooks/blob/master/MLE_tutorial.ipynb\n",
    "\n",
    "@tf.function()\n",
    "def transform_P_matrix(params):\n",
    "    params = tf.exp(params)\n",
    "    Q0 = tf.concat([[-tf.reduce_sum(params[0])], params[0]],\n",
    "                   axis=0)\n",
    "    Q1 = tf.concat([[params[1,0]], [-tf.reduce_sum(params[1])], params[1,1:]],\n",
    "                   axis=0)\n",
    "    Q = tf.concat([[Q0], [Q1], [Q1[::-1]], [Q0[::-1]]], axis=0)\n",
    "    return tf.linalg.expm(Q)\n",
    "\n",
    "@tf.function()\n",
    "def transform(params):\n",
    "    pi = tfb.SoftmaxCentered()(params[0])\n",
    "    Pa = transform_P_matrix(params[1:3])\n",
    "    Pm = transform_P_matrix(params[3:5])\n",
    "    Pb = transform_P_matrix(params[5:7])\n",
    "    Pc = transform_P_matrix(params[7:9])\n",
    "    return pi, Pa, Pm, Pb, Pc\n",
    "    \n",
    "@tf.function()\n",
    "def _loss(params_data):\n",
    "    params, data = params_data\n",
    "    pi, Pa, Pm, Pb, Pc = transform(params)\n",
    "    J = tf.einsum('i,ij,ik,ku,kv', pi, Pa, Pm, Pb, Pc)\n",
    "    loss = tf.reduce_sum(tf.keras.losses.KLDivergence()(J, data))\n",
    "    return loss\n",
    "\n",
    "@tf.function()\n",
    "def loss(params, data):\n",
    "    return tf.reduce_sum(tf.vectorized_map(_loss, (parameters, data)))\n",
    "\n",
    "@tf.function()\n",
    "def training_step(parameters, data, optimizer):\n",
    "    with tf.GradientTape() as tape:\n",
    "        loss_value = loss(parameters, data)\n",
    "    gradients = tape.gradient(loss_value, parameters)\n",
    "    return loss_value, gradients\n",
    "\n",
    "def mle_run(data, loss, parameters, optimizer, steps=500, verbose=False):\n",
    "    \n",
    "    for i in range(steps):\n",
    "        loss_value, gradients = training_step(parameters, data, optimizer)\n",
    "        optimizer.apply_gradients([(gradients, parameters)])\n",
    "        \n",
    "        if i % 100 == 0:\n",
    "            iter_info = f\"Step: {optimizer.iterations.numpy()}, initial loss: {loss_value.numpy()}\"\n",
    "            if verbose:\n",
    "                print(iter_info)\n",
    "    \n",
    "    return parameters"
   ]
  },
  {
   "cell_type": "code",
   "execution_count": 65,
   "id": "9b65c435",
   "metadata": {},
   "outputs": [],
   "source": [
    "N = 1000\n",
    "Ja = sample(N, J).astype(np.float32)\n",
    "Jb = Ja.transpose([1, 2, 0])\n",
    "Jc = Ja.transpose([2, 0, 1])\n",
    "data = tf.stack([Ja, Jb, Jc])"
   ]
  },
  {
   "cell_type": "code",
   "execution_count": 72,
   "id": "3ffc4eae",
   "metadata": {},
   "outputs": [
    {
     "name": "stdout",
     "output_type": "stream",
     "text": [
      "WARNING:tensorflow:Using a while_loop for converting ResourceGather\n",
      "Step: 1, initial loss: 0.33279138803482056\n",
      "Step: 101, initial loss: 0.20117312669754028\n",
      "Step: 201, initial loss: 0.12348494678735733\n",
      "Step: 301, initial loss: 0.09336382150650024\n",
      "Step: 401, initial loss: 0.08927609026432037\n",
      "Step: 501, initial loss: 0.08795618265867233\n",
      "Step: 601, initial loss: 0.08726093173027039\n",
      "Step: 701, initial loss: 0.08523625135421753\n",
      "Step: 801, initial loss: 0.07497081160545349\n",
      "Step: 901, initial loss: 0.07255029678344727\n",
      "Step: 1001, initial loss: 0.06647028028964996\n",
      "Step: 1101, initial loss: 0.06265747547149658\n",
      "Step: 1201, initial loss: 0.06102707237005234\n",
      "Step: 1301, initial loss: 0.060738254338502884\n",
      "Step: 1401, initial loss: 0.060609105974435806\n",
      "Step: 1501, initial loss: 0.06055741757154465\n",
      "Step: 1601, initial loss: 0.060516368597745895\n",
      "Step: 1701, initial loss: 0.060449764132499695\n",
      "Step: 1801, initial loss: 0.06031849980354309\n",
      "Step: 1901, initial loss: 0.06001172214746475\n",
      "Step: 2001, initial loss: 0.0550471730530262\n",
      "Step: 2101, initial loss: 0.03849628195166588\n",
      "Step: 2201, initial loss: 0.035648029297590256\n",
      "Step: 2301, initial loss: 0.03533775731921196\n",
      "Step: 2401, initial loss: 0.03525720164179802\n",
      "Step: 2501, initial loss: 0.03523625060915947\n",
      "Step: 2601, initial loss: 0.03522278368473053\n",
      "Step: 2701, initial loss: 0.03521255776286125\n",
      "Step: 2801, initial loss: 0.03520442917943001\n",
      "Step: 2901, initial loss: 0.03519776463508606\n",
      "CPU times: user 1min 26s, sys: 12.4 s, total: 1min 38s\n",
      "Wall time: 36.2 s\n"
     ]
    }
   ],
   "source": [
    "%%time\n",
    "K = 3\n",
    "normal_initializer = tf.random_normal_initializer()\n",
    "parameters = tf.Variable(normal_initializer(shape=[K, 9, 3], dtype=tf.float32), name='params')\n",
    "\n",
    "optimizer = tf.optimizers.Adam(0.01)\n",
    "update_list = mle_run(data, loss, parameters, optimizer, steps=3000, verbose=True)"
   ]
  },
  {
   "cell_type": "code",
   "execution_count": 73,
   "id": "6a1d686e",
   "metadata": {},
   "outputs": [
    {
     "name": "stdout",
     "output_type": "stream",
     "text": [
      "[0.00356566 0.02805799 0.00356849]\n",
      "[5.00708997e-01 1.15531985e-11 4.99290973e-01]\n"
     ]
    }
   ],
   "source": [
    "ls =  np.array([_loss((parameters[i], data[i])).numpy() for i in range(K)])\n",
    "print(ls)\n",
    "ls = N*ls\n",
    "delta = ls - ls.min()\n",
    "weights = np.exp(-delta)\n",
    "weights /= weights.sum()\n",
    "# ls /= ls.sum()\n",
    "print(weights)"
   ]
  },
  {
   "cell_type": "code",
   "execution_count": 26,
   "id": "2dcc4fca",
   "metadata": {},
   "outputs": [
    {
     "name": "stdout",
     "output_type": "stream",
     "text": [
      "[0.14977394 0.26317362 0.39165429 0.19539816]\n",
      "[0.12204078 0.28609538 0.433098   0.15876588]\n",
      "\n",
      "[[0.71893144 0.14144765 0.10698649 0.03263443]\n",
      " [0.06325843 0.77423272 0.13928361 0.02322523]\n",
      " [0.02322523 0.13928361 0.77423272 0.06325843]\n",
      " [0.03263443 0.10698649 0.14144765 0.71893144]]\n",
      "[[0.8098485  0.0768582  0.06198487 0.0513085 ]\n",
      " [0.07545466 0.7581055  0.13507761 0.03136224]\n",
      " [0.03136223 0.13507761 0.75810546 0.07545465]\n",
      " [0.0513085  0.06198487 0.07685821 0.80984855]]\n",
      "\n",
      "[[0.81203158 0.04399917 0.07848442 0.06548484]\n",
      " [0.08284662 0.87115553 0.02024715 0.0257507 ]\n",
      " [0.0257507  0.02024715 0.87115553 0.08284662]\n",
      " [0.06548484 0.07848442 0.04399917 0.81203158]]\n",
      "[[0.8716503  0.00613635 0.0736386  0.04857485]\n",
      " [0.11426511 0.81730264 0.02106063 0.0473716 ]\n",
      " [0.0473716  0.02106064 0.81730264 0.11426511]\n",
      " [0.04857485 0.0736386  0.00613635 0.8716503 ]]\n",
      "\n",
      "[[0.95154866 0.01674797 0.0234783  0.00822507]\n",
      " [0.03863562 0.84803839 0.04732459 0.0660014 ]\n",
      " [0.0660014  0.04732459 0.84803839 0.03863562]\n",
      " [0.00822507 0.0234783  0.01674797 0.95154866]]\n",
      "[[0.9450681  0.0237685  0.02302863 0.00813475]\n",
      " [0.04002118 0.8475731  0.04366479 0.06874093]\n",
      " [0.06874094 0.04366479 0.8475731  0.04002118]\n",
      " [0.00813475 0.02302863 0.0237685  0.9450681 ]]\n",
      "\n",
      "[[0.88137945 0.04613594 0.02686734 0.04561727]\n",
      " [0.05009116 0.9236776  0.0194023  0.00682894]\n",
      " [0.00682894 0.0194023  0.9236776  0.05009116]\n",
      " [0.04561727 0.02686734 0.04613594 0.88137945]]\n",
      "[[0.8827951  0.0427367  0.0268471  0.04762108]\n",
      " [0.04423704 0.92613524 0.0209828  0.00864486]\n",
      " [0.00864486 0.0209828  0.9261353  0.04423704]\n",
      " [0.04762108 0.0268471  0.0427367  0.8827951 ]]\n",
      "\n"
     ]
    }
   ],
   "source": [
    "for p, phat in zip([pi, Pa, Pm, Pb, Pc], transform(parameters[0])):\n",
    "    print(p)\n",
    "    print(phat.numpy())\n",
    "    print()"
   ]
  },
  {
   "cell_type": "code",
   "execution_count": null,
   "id": "52c6f41a",
   "metadata": {},
   "outputs": [],
   "source": []
  }
 ],
 "metadata": {
  "kernelspec": {
   "display_name": "Python 3 (ipykernel)",
   "language": "python",
   "name": "python3"
  },
  "language_info": {
   "codemirror_mode": {
    "name": "ipython",
    "version": 3
   },
   "file_extension": ".py",
   "mimetype": "text/x-python",
   "name": "python",
   "nbconvert_exporter": "python",
   "pygments_lexer": "ipython3",
   "version": "3.8.11"
  }
 },
 "nbformat": 4,
 "nbformat_minor": 5
}
