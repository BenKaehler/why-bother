{
 "cells": [
  {
   "cell_type": "code",
   "execution_count": 1,
   "id": "cd1779bc",
   "metadata": {},
   "outputs": [],
   "source": [
    "import numpy as np"
   ]
  },
  {
   "cell_type": "code",
   "execution_count": 2,
   "id": "d23a4c10",
   "metadata": {},
   "outputs": [
    {
     "data": {
      "text/plain": [
       "True"
      ]
     },
     "execution_count": 2,
     "metadata": {},
     "output_type": "execute_result"
    }
   ],
   "source": [
    "import tensorflow as tf\n",
    "import tensorflow_probability as tfp\n",
    "tfd = tfp.distributions\n",
    "tfb = tfp.bijectors\n",
    "\n",
    "tf.executing_eagerly()"
   ]
  },
  {
   "cell_type": "code",
   "execution_count": 3,
   "id": "c10fddee",
   "metadata": {},
   "outputs": [
    {
     "name": "stderr",
     "output_type": "stream",
     "text": [
      "2021-08-30 10:28:04.283906: I tensorflow/stream_executor/platform/default/dso_loader.cc:44] Successfully opened dynamic library libcuda.so.1\n",
      "2021-08-30 10:28:04.307710: E tensorflow/stream_executor/cuda/cuda_driver.cc:313] failed call to cuInit: CUDA_ERROR_UNKNOWN: unknown error\n",
      "2021-08-30 10:28:04.307750: I tensorflow/stream_executor/cuda/cuda_diagnostics.cc:169] retrieving CUDA diagnostic information for host: winter\n",
      "2021-08-30 10:28:04.307761: I tensorflow/stream_executor/cuda/cuda_diagnostics.cc:176] hostname: winter\n",
      "2021-08-30 10:28:04.307867: I tensorflow/stream_executor/cuda/cuda_diagnostics.cc:200] libcuda reported version is: 470.57.2\n",
      "2021-08-30 10:28:04.307907: I tensorflow/stream_executor/cuda/cuda_diagnostics.cc:204] kernel reported version is: 470.57.2\n",
      "2021-08-30 10:28:04.307918: I tensorflow/stream_executor/cuda/cuda_diagnostics.cc:310] kernel version seems to match DSO: 470.57.2\n"
     ]
    }
   ],
   "source": [
    "# thanks https://stackoverflow.com/questions/34199233/how-to-prevent-tensorflow-from-allocating-the-totality-of-a-gpu-memory\n",
    "gpus = tf.config.experimental.list_physical_devices('GPU')\n",
    "for gpu in gpus:\n",
    "  tf.config.experimental.set_memory_growth(gpu, True)"
   ]
  },
  {
   "cell_type": "code",
   "execution_count": 4,
   "id": "13923ef4",
   "metadata": {},
   "outputs": [],
   "source": [
    "Pa = np.array([[0.71893144, 0.14144765, 0.10698649, 0.03263443],\n",
    "       [0.06325843, 0.77423272, 0.13928361, 0.02322523],\n",
    "       [0.02322523, 0.13928361, 0.77423272, 0.06325843],\n",
    "       [0.03263443, 0.10698649, 0.14144765, 0.71893144]])\n",
    "\n",
    "Pb = np.array([[0.95154866, 0.01674797, 0.0234783 , 0.00822507],\n",
    "       [0.03863562, 0.84803839, 0.04732459, 0.0660014 ],\n",
    "       [0.0660014 , 0.04732459, 0.84803839, 0.03863562],\n",
    "       [0.00822507, 0.0234783 , 0.01674797, 0.95154866]])\n",
    "\n",
    "Pc = np.array([[0.88137945, 0.04613594, 0.02686734, 0.04561727],\n",
    "       [0.05009116, 0.9236776 , 0.0194023 , 0.00682894],\n",
    "       [0.00682894, 0.0194023 , 0.9236776 , 0.05009116],\n",
    "       [0.04561727, 0.02686734, 0.04613594, 0.88137945]])\n",
    "Pm = np.array([[0.81203158, 0.04399917, 0.07848442, 0.06548484],\n",
    "       [0.08284662, 0.87115553, 0.02024715, 0.0257507 ],\n",
    "       [0.0257507 , 0.02024715, 0.87115553, 0.08284662],\n",
    "       [0.06548484, 0.07848442, 0.04399917, 0.81203158]])\n",
    "\n",
    "pi = np.array([0.14977394, 0.26317362, 0.39165429, 0.19539816])\n",
    "\n",
    "pi_m = pi @ Pm\n",
    "\n",
    "J = np.array([[[0.07508613297288518, 0.00466350788803318, 0.0033432901131033796, 0.004042219322757277], [0.002186937387234338, 0.01570096614179908, 0.0011254388766303509, 0.0005015574893929194], [0.002007283482847851, 0.0012535337368050612, 0.013395860029779497, 0.0010220788989917808], [0.0013011086711092986, 0.0016042909684947522, 0.0012404869820179004, 0.011323417297654589]], [[0.03129698648252512, 0.00815953485072002, 0.004394876926278819, 0.0020308813605868174], [0.008288184321098279, 0.14201837079233715, 0.005398759767993272, 0.0017880581744532536], [0.0015277493099248596, 0.00886482820182737, 0.04269081732021271, 0.0028169181161841477], [0.0021015052010260205, 0.011819352252411985, 0.0034103593745217937, 0.02379160092199082]], [[0.02174460265532043, 0.002941403304710777, 0.017006110729978843, 0.0023681733984058486], [0.0022577498981608663, 0.03237071808690972, 0.012426756488990255, 0.0019160961759307586], [0.0022144999652547693, 0.006239396030284971, 0.20953281339937846, 0.012130269098422072], [0.002543170970124578, 0.003973434481032667, 0.011775618913078878, 0.04210892174683528]], [[0.012093125924573445, 0.0012993605630256348, 0.0021464967072447926, 0.0015645368675293004], [0.0010702747292501203, 0.013479197587703494, 0.0016493822206027895, 0.0025896804160072057], [0.0005894417935184289, 0.00127918145334602, 0.022260289874459077, 0.0029430040436876307], [0.005229012301832341, 0.0040480932067737535, 0.006152859243062461, 0.09785943409093556]]])"
   ]
  },
  {
   "cell_type": "code",
   "execution_count": 5,
   "id": "65573e13",
   "metadata": {},
   "outputs": [],
   "source": [
    "J_mb = pi_m[:, np.newaxis] * Pb\n",
    "J_bc = J_mb.T @ Pc\n",
    "J_ab = Pa.T @ np.diag(pi) @ Pm @ Pb\n",
    "J_ca = (Pa.T @ np.diag(pi) @ Pm @ Pc).T\n",
    "\n",
    "assert np.allclose(J_bc, J.sum(axis=0))  # checking I have constructed it correctly\n",
    "assert np.allclose(J_ab, J.sum(axis=2))\n",
    "assert np.allclose(J_ca, J.sum(axis=1).T)\n",
    "\n",
    "J_einsum = np.einsum('i,ij,ik,ku,kv', pi, Pa, Pm, Pb, Pc)\n",
    "assert np.allclose(J_einsum, J)"
   ]
  },
  {
   "cell_type": "code",
   "execution_count": 6,
   "id": "079f283d",
   "metadata": {},
   "outputs": [],
   "source": [
    "# thanks https://github.com/mlgxmez/thelongrun_notebooks/blob/master/MLE_tutorial.ipynb\n",
    "\n",
    "@tf.function()\n",
    "def transform_P_matrix(params):\n",
    "    Pa = tfb.SoftmaxCentered()(params)\n",
    "    return tf.concat([Pa, Pa[::-1, ::-1]], axis=0)\n",
    "\n",
    "@tf.function()\n",
    "def transform(params):\n",
    "    pi = tfb.SoftmaxCentered()(params[0])\n",
    "    Pa = transform_P_matrix(params[1:3])\n",
    "    Pm = transform_P_matrix(params[3:5])\n",
    "    Pb = transform_P_matrix(params[5:7])\n",
    "    Pc = transform_P_matrix(params[7:9])\n",
    "    return pi, Pa, Pm, Pb, Pc\n",
    "    \n",
    "@tf.function()\n",
    "def loss(params, data):\n",
    "    pi, Pa, Pm, Pb, Pc = transform(params)\n",
    "    J = tf.einsum('i,ij,ik,ku,kv', pi, Pa, Pm, Pb, Pc)\n",
    "    loss = tf.reduce_sum(tf.keras.losses.KLDivergence()(J, data))\n",
    "    return loss\n",
    "\n",
    "def mle_run(data, loss, parameters, optimizer, tol=1e-9, steps=1000, verbose=False):\n",
    "    update_list = []\n",
    "    \n",
    "    last_loss = None\n",
    "    for i in range(steps):\n",
    "        with tf.GradientTape() as tape:\n",
    "            loss_value = loss(parameters, data)\n",
    "        gradients = tape.gradient(loss_value, parameters)\n",
    "        optimizer.apply_gradients([(gradients, parameters)])\n",
    "    \n",
    "        if i % 100 == 0:\n",
    "            update_list.append((\n",
    "                optimizer.iterations.numpy(),loss_value.numpy(), \n",
    "                parameters.numpy()))\n",
    "            iter_info = f\"Step: {optimizer.iterations.numpy()}, initial loss: {loss_value.numpy()}\"\n",
    "            if verbose:\n",
    "                print(iter_info)\n",
    "        \n",
    "        if last_loss and np.abs(last_loss - loss_value) < tol:\n",
    "            break\n",
    "        last_loss = loss_value.numpy()\n",
    "    \n",
    "    return update_list"
   ]
  },
  {
   "cell_type": "code",
   "execution_count": 7,
   "id": "3ffc4eae",
   "metadata": {},
   "outputs": [
    {
     "name": "stderr",
     "output_type": "stream",
     "text": [
      "2021-08-30 10:28:07.455700: I tensorflow/core/platform/cpu_feature_guard.cc:143] Your CPU supports instructions that this TensorFlow binary was not compiled to use: AVX2 FMA\n",
      "2021-08-30 10:28:07.477329: I tensorflow/core/platform/profile_utils/cpu_utils.cc:102] CPU Frequency: 2599990000 Hz\n",
      "2021-08-30 10:28:07.477837: I tensorflow/compiler/xla/service/service.cc:168] XLA service 0x7fa1e8000b60 initialized for platform Host (this does not guarantee that XLA will be used). Devices:\n",
      "2021-08-30 10:28:07.477855: I tensorflow/compiler/xla/service/service.cc:176]   StreamExecutor device (0): Host, Default Version\n"
     ]
    },
    {
     "name": "stdout",
     "output_type": "stream",
     "text": [
      "Step: 1, initial loss: 0.06864514946937561\n",
      "Step: 101, initial loss: 0.03785013034939766\n",
      "Step: 201, initial loss: 0.019931580871343613\n",
      "Step: 301, initial loss: 0.007992316037416458\n",
      "Step: 401, initial loss: 0.0012685999972745776\n",
      "Step: 501, initial loss: 0.0005335374153219163\n",
      "Step: 601, initial loss: 0.00031813705572858453\n",
      "Step: 701, initial loss: 0.00020524259889498353\n",
      "Step: 801, initial loss: 0.0001373789709759876\n",
      "Step: 901, initial loss: 0.00010011563426814973\n",
      "Step: 1001, initial loss: 7.830371032468975e-05\n",
      "Step: 1101, initial loss: 6.327212031465024e-05\n",
      "Step: 1201, initial loss: 5.123576556798071e-05\n",
      "Step: 1301, initial loss: 4.03955637011677e-05\n",
      "Step: 1401, initial loss: 3.020931762875989e-05\n",
      "Step: 1501, initial loss: 2.1380270482040942e-05\n",
      "Step: 1601, initial loss: 1.5132383850868791e-05\n",
      "Step: 1701, initial loss: 1.1319374607410282e-05\n",
      "Step: 1801, initial loss: 8.942486601881683e-06\n",
      "Step: 1901, initial loss: 7.2859766078181565e-06\n",
      "Step: 2001, initial loss: 6.075410055927932e-06\n",
      "Step: 2101, initial loss: 5.172689270693809e-06\n",
      "Step: 2201, initial loss: 4.4771586544811726e-06\n",
      "Step: 2301, initial loss: 3.9508449845016e-06\n",
      "Step: 2401, initial loss: 3.5254997783340514e-06\n",
      "Step: 2501, initial loss: 3.1901581678539515e-06\n",
      "Step: 2601, initial loss: 2.919216058216989e-06\n",
      "Step: 2701, initial loss: 2.6918132789433002e-06\n",
      "Step: 2801, initial loss: 2.5073677534237504e-06\n",
      "Step: 2901, initial loss: 2.33749597100541e-06\n",
      "Step: 3001, initial loss: 2.2109088604338467e-06\n",
      "Step: 3101, initial loss: 2.1005835151299834e-06\n",
      "Step: 3201, initial loss: 1.988075382541865e-06\n",
      "Step: 3301, initial loss: 1.8923237803392112e-06\n",
      "Step: 3401, initial loss: 1.8104765331372619e-06\n",
      "Step: 3501, initial loss: 1.735432306304574e-06\n",
      "Step: 3601, initial loss: 1.675733074080199e-06\n",
      "Step: 3701, initial loss: 1.6042758943513036e-06\n",
      "Step: 3801, initial loss: 1.5674886526539922e-06\n",
      "Step: 3901, initial loss: 1.5048208297230303e-06\n",
      "Step: 4001, initial loss: 1.465181412640959e-06\n",
      "Step: 4101, initial loss: 1.411986886523664e-06\n",
      "Step: 4201, initial loss: 1.3854005374014378e-06\n",
      "Step: 4301, initial loss: 1.3356038834899664e-06\n",
      "Step: 4401, initial loss: 1.3120516086928546e-06\n",
      "Step: 4501, initial loss: 1.2732634786516428e-06\n",
      "Step: 4601, initial loss: 1.243563019670546e-06\n",
      "Step: 4701, initial loss: 1.2107047950848937e-06\n",
      "CPU times: user 12.5 s, sys: 768 ms, total: 13.2 s\n",
      "Wall time: 8.85 s\n"
     ]
    }
   ],
   "source": [
    "%%time\n",
    "normal_initializer = tf.random_normal_initializer()\n",
    "params = tf.Variable(normal_initializer(shape=[9, 3], dtype=tf.float32), name='params')\n",
    "\n",
    "optimizer = tf.optimizers.Adam(0.01)\n",
    "update_list = mle_run(J, loss, params, optimizer, tol=1e-12, steps=10000, verbose=True)"
   ]
  },
  {
   "cell_type": "code",
   "execution_count": 8,
   "id": "2dcc4fca",
   "metadata": {},
   "outputs": [
    {
     "name": "stdout",
     "output_type": "stream",
     "text": [
      "[0.14977394 0.26317362 0.39165429 0.19539816]\n",
      "[0.4265618  0.12358643 0.16080192 0.28904986]\n",
      "\n",
      "[[0.71893144 0.14144765 0.10698649 0.03263443]\n",
      " [0.06325843 0.77423272 0.13928361 0.02322523]\n",
      " [0.02322523 0.13928361 0.77423272 0.06325843]\n",
      " [0.03263443 0.10698649 0.14144765 0.71893144]]\n",
      "[[0.02285772 0.14069095 0.7598294  0.07662188]\n",
      " [0.82079244 0.04331525 0.0955871  0.04030516]\n",
      " [0.04030516 0.0955871  0.04331525 0.82079244]\n",
      " [0.07662188 0.7598294  0.14069095 0.02285772]]\n",
      "\n",
      "[[0.81203158 0.04399917 0.07848442 0.06548484]\n",
      " [0.08284662 0.87115553 0.02024715 0.0257507 ]\n",
      " [0.0257507  0.02024715 0.87115553 0.08284662]\n",
      " [0.06548484 0.07848442 0.04399917 0.81203158]]\n",
      "[[0.03101633 0.8166028  0.02154983 0.13083106]\n",
      " [0.8468377  0.08314174 0.00906565 0.06095482]\n",
      " [0.06095482 0.00906565 0.08314174 0.8468377 ]\n",
      " [0.13083106 0.02154983 0.8166028  0.03101633]]\n",
      "\n",
      "[[0.95154866 0.01674797 0.0234783  0.00822507]\n",
      " [0.03863562 0.84803839 0.04732459 0.0660014 ]\n",
      " [0.0660014  0.04732459 0.84803839 0.03863562]\n",
      " [0.00822507 0.0234783  0.01674797 0.95154866]]\n",
      "[[0.9515523  0.01674796 0.02347073 0.00822903]\n",
      " [0.0660119  0.04732138 0.84802884 0.03863787]\n",
      " [0.03863787 0.84802884 0.04732138 0.0660119 ]\n",
      " [0.00822903 0.02347073 0.01674796 0.9515523 ]]\n",
      "\n",
      "[[0.88137945 0.04613594 0.02686734 0.04561727]\n",
      " [0.05009116 0.9236776  0.0194023  0.00682894]\n",
      " [0.00682894 0.0194023  0.9236776  0.05009116]\n",
      " [0.04561727 0.02686734 0.04613594 0.88137945]]\n",
      "[[0.8814     0.04613458 0.02685248 0.04561293]\n",
      " [0.00683498 0.01940391 0.9236692  0.05009187]\n",
      " [0.05009187 0.9236692  0.01940391 0.00683498]\n",
      " [0.04561293 0.02685248 0.04613458 0.8814    ]]\n",
      "\n"
     ]
    }
   ],
   "source": [
    "for p, phat in zip([pi, Pa, Pm, Pb, Pc], transform(params)):\n",
    "    print(p)\n",
    "    print(phat.numpy())\n",
    "    print()"
   ]
  },
  {
   "cell_type": "code",
   "execution_count": null,
   "id": "74b0745f",
   "metadata": {},
   "outputs": [],
   "source": []
  }
 ],
 "metadata": {
  "kernelspec": {
   "display_name": "Python 3 (ipykernel)",
   "language": "python",
   "name": "python3"
  },
  "language_info": {
   "codemirror_mode": {
    "name": "ipython",
    "version": 3
   },
   "file_extension": ".py",
   "mimetype": "text/x-python",
   "name": "python",
   "nbconvert_exporter": "python",
   "pygments_lexer": "ipython3",
   "version": "3.8.11"
  }
 },
 "nbformat": 4,
 "nbformat_minor": 5
}
