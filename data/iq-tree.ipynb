{
 "cells": [
  {
   "cell_type": "code",
   "execution_count": 1,
   "id": "51d1af58",
   "metadata": {},
   "outputs": [],
   "source": [
    "from io import StringIO\n",
    "from collections import Counter\n",
    "\n",
    "from cogent3.app import io\n",
    "from qiime2.plugins.phylogeny.actions import iqtree\n",
    "from qiime2 import Artifact\n",
    "from skbio import TabularMSA, DNA, read, TreeNode\n",
    "from joblib import Parallel, delayed"
   ]
  },
  {
   "cell_type": "code",
   "execution_count": 2,
   "id": "59567071",
   "metadata": {},
   "outputs": [
    {
     "data": {
      "text/html": [
       "\n",
       "<div class=\"c3table\">\n",
       "\n",
       "<style>\n",
       ".c3table table {margin: 10px 0;}\n",
       ".c3table tr:last-child {border-bottom: 1px solid #000;} \n",
       ".c3table tr > th {text-align: left; padding: 0 5px;}\n",
       ".c3table tr > td {text-align: left; padding: 5px;}\n",
       ".c3table tr:nth-child(even) {background: #f7f7f7 !important;}\n",
       ".c3table .ellipsis {background: rgba(0, 0, 0, .01);}\n",
       ".c3table .index {background: rgba(161, 195, 209, 0.0); margin: 10px; font-weight: 600;}\n",
       ".c3table .head_cell {background: rgba(161, 195, 209, 0.75); font-weight: bold; text-align: center;}\n",
       ".c3table caption {color: rgb(250, 250, 250); background: rgba(30, 140, 200, 1); padding: 3px; white-space: nowrap; caption-side: top;}\n",
       ".c3table .cell_title {font-weight: bold;}\n",
       ".c3col_left { text-align: left !important; display: block;}\n",
       ".c3col_right { text-align: right !important; display: block;}\n",
       ".c3col_center { text-align: center !important; display: block;}\n",
       "</style>\n",
       "\n",
       "<table>\n",
       "\n",
       "<caption>\n",
       "<span class=\"cell_title\">Unlocked db store.</span>\n",
       "</caption>\n",
       "<thead class=\"head_cell\">\n",
       "<th>record type</th><th>number</th>\n",
       "</thead>\n",
       "<tbody>\n",
       "<tr><td><span class=\"c3col_left\">completed</span></td><td><span class=\"c3col_right\">878</span></td></tr>\n",
       "<tr><td><span class=\"c3col_left\">incomplete</span></td><td><span class=\"c3col_right\">122</span></td></tr>\n",
       "<tr><td><span class=\"c3col_left\">logs</span></td><td><span class=\"c3col_right\">1</span></td></tr>\n",
       "</tbody>\n",
       "</table>\n",
       "<p>\n",
       "3 rows x 2 columns</p>\n",
       "</div>"
      ],
      "text/plain": [
       "Unlocked db store.\n",
       "=====================\n",
       "record type    number\n",
       "---------------------\n",
       "completed         878\n",
       "incomplete        122\n",
       "logs                1\n",
       "---------------------\n",
       "\n",
       "3 rows x 2 columns"
      ]
     },
     "execution_count": 2,
     "metadata": {},
     "output_type": "execute_result"
    }
   ],
   "source": [
    "dstore = io.get_data_store(\"horse_pig_bats-filtered.tinydb\")\n",
    "loader = io.load_db()\n",
    "dstore.describe"
   ]
  },
  {
   "cell_type": "code",
   "execution_count": 3,
   "id": "cbacb5d7",
   "metadata": {},
   "outputs": [],
   "source": [
    "def convert_and_fit(aln):\n",
    "    ffs = loader(aln)\n",
    "    ffs = ffs[1::3]  # grab the second codon position\n",
    "    ffs = TabularMSA([DNA(s) for s in read(StringIO(ffs.to_fasta()), 'fasta')])\n",
    "    ffs = Artifact.import_data('FeatureData[AlignedSequence]', ffs)\n",
    "    return iqtree(ffs)[0].view(TreeNode)"
   ]
  },
  {
   "cell_type": "code",
   "execution_count": 4,
   "id": "4a6b6a87",
   "metadata": {},
   "outputs": [
    {
     "name": "stderr",
     "output_type": "stream",
     "text": [
      "[Parallel(n_jobs=10)]: Using backend LokyBackend with 10 concurrent workers.\n",
      "[Parallel(n_jobs=10)]: Done  30 tasks      | elapsed:   11.8s\n",
      "[Parallel(n_jobs=10)]: Done 180 tasks      | elapsed:   47.0s\n",
      "[Parallel(n_jobs=10)]: Done 430 tasks      | elapsed:  1.8min\n",
      "[Parallel(n_jobs=10)]: Done 780 tasks      | elapsed:  3.3min\n",
      "[Parallel(n_jobs=10)]: Done 878 out of 878 | elapsed:  3.8min finished\n"
     ]
    }
   ],
   "source": [
    "trees = Parallel(verbose=True, n_jobs=10)(delayed(convert_and_fit)(d) for d in dstore)"
   ]
  },
  {
   "cell_type": "code",
   "execution_count": 5,
   "id": "26b4bbac",
   "metadata": {},
   "outputs": [
    {
     "data": {
      "text/plain": [
       "878"
      ]
     },
     "execution_count": 5,
     "metadata": {},
     "output_type": "execute_result"
    }
   ],
   "source": [
    "len(trees)"
   ]
  },
  {
   "cell_type": "code",
   "execution_count": 6,
   "id": "73745ec8",
   "metadata": {},
   "outputs": [],
   "source": [
    "ghb_siblings = Counter()\n",
    "for tree in trees:\n",
    "    for sibling in tree.find('Greater').siblings():\n",
    "        if sibling.name in ('Microbat', 'Pig', 'Horse'):\n",
    "            ghb_siblings[sibling.name] += 1"
   ]
  },
  {
   "cell_type": "code",
   "execution_count": 7,
   "id": "3c991097",
   "metadata": {},
   "outputs": [],
   "source": [
    "assert sum(ghb_siblings.values()) == len(trees)"
   ]
  },
  {
   "cell_type": "code",
   "execution_count": 8,
   "id": "12b928d7",
   "metadata": {},
   "outputs": [
    {
     "data": {
      "text/plain": [
       "Counter({'Pig': 151, 'Microbat': 586, 'Horse': 141})"
      ]
     },
     "execution_count": 8,
     "metadata": {},
     "output_type": "execute_result"
    }
   ],
   "source": [
    "ghb_siblings"
   ]
  },
  {
   "cell_type": "code",
   "execution_count": 9,
   "id": "6f2148be",
   "metadata": {},
   "outputs": [
    {
     "data": {
      "text/plain": [
       "0.6674259681093394"
      ]
     },
     "execution_count": 9,
     "metadata": {},
     "output_type": "execute_result"
    }
   ],
   "source": [
    "ghb_siblings['Microbat']/len(trees)"
   ]
  },
  {
   "cell_type": "code",
   "execution_count": null,
   "id": "d932a35e",
   "metadata": {},
   "outputs": [],
   "source": []
  }
 ],
 "metadata": {
  "kernelspec": {
   "display_name": "Python 3",
   "language": "python",
   "name": "python3"
  },
  "language_info": {
   "codemirror_mode": {
    "name": "ipython",
    "version": 3
   },
   "file_extension": ".py",
   "mimetype": "text/x-python",
   "name": "python",
   "nbconvert_exporter": "python",
   "pygments_lexer": "ipython3",
   "version": "3.8.8"
  }
 },
 "nbformat": 4,
 "nbformat_minor": 5
}
