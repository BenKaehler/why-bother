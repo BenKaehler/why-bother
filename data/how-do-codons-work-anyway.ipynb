{
 "cells": [
  {
   "cell_type": "code",
   "execution_count": 38,
   "id": "5728293c",
   "metadata": {},
   "outputs": [],
   "source": [
    "from cogent3 import get_code, DNA\n",
    "import numpy as np"
   ]
  },
  {
   "cell_type": "code",
   "execution_count": 18,
   "id": "bd465680",
   "metadata": {},
   "outputs": [],
   "source": [
    "code = get_code()"
   ]
  },
  {
   "cell_type": "code",
   "execution_count": 118,
   "id": "150b2127",
   "metadata": {},
   "outputs": [],
   "source": [
    "code = get_code()\n",
    "num_substitutions = np.zeros(3)\n",
    "num_substitutions_by_from = np.zeros((4, 3))\n",
    "num_strand_symmetric = np.zeros(3)\n",
    "num_strand_symmetric_by_from = np.zeros((4, 3))\n",
    "num_synonymous = np.zeros(3)\n",
    "num_synonymous_by_from = np.zeros((4, 3))\n",
    "num_synonymous_transitions = np.zeros(3)\n",
    "nuc_key = {c: i for i, c in enumerate('ACGT')}\n",
    "for codon in code.codons.keys():\n",
    "    if code[codon] == '*':\n",
    "        continue\n",
    "    for pos in range(3):\n",
    "        fr = codon[pos]\n",
    "        count = 0\n",
    "        for to in set('ACGT') - {fr}:\n",
    "            to_codon = ''.join(c if i != pos else to for i, c in enumerate(codon))\n",
    "            if code[to_codon] == '*':\n",
    "                continue\n",
    "            num_substitutions[pos] += 1\n",
    "            num_substitutions_by_from[nuc_key[fr], pos] += 1\n",
    "            forward_synonymous = code[codon] == code[to_codon]\n",
    "            num_synonymous[pos] += forward_synonymous\n",
    "            num_synonymous_by_from[nuc_key[fr], pos] += forward_synonymous\n",
    "            num_synonymous_transitions[pos] += forward_synonymous and {fr, to} in ({'A', 'G'}, {'C', 'T'})\n",
    "            reverse_synonymous = code[DNA.complement(codon)] == code[DNA.complement(to_codon)]\n",
    "            num_strand_symmetric[pos] += \\\n",
    "                '*' not in {code[DNA.complement(codon)], code[DNA.complement(to_codon)]} and \\\n",
    "                forward_synonymous == reverse_synonymous\n",
    "            num_strand_symmetric_by_from[nuc_key[fr], pos] += \\\n",
    "                '*' not in {code[DNA.complement(codon)], code[DNA.complement(to_codon)]} and \\\n",
    "                forward_synonymous == reverse_synonymous"
   ]
  },
  {
   "cell_type": "code",
   "execution_count": 119,
   "id": "fc14a49d",
   "metadata": {},
   "outputs": [
    {
     "data": {
      "text/plain": [
       "array([174., 176., 176.])"
      ]
     },
     "execution_count": 119,
     "metadata": {},
     "output_type": "execute_result"
    }
   ],
   "source": [
    "num_substitutions"
   ]
  },
  {
   "cell_type": "code",
   "execution_count": 120,
   "id": "fb1ffc2d",
   "metadata": {},
   "outputs": [
    {
     "data": {
      "text/plain": [
       "array([140., 160., 100.])"
      ]
     },
     "execution_count": 120,
     "metadata": {},
     "output_type": "execute_result"
    }
   ],
   "source": [
    "num_strand_symmetric"
   ]
  },
  {
   "cell_type": "code",
   "execution_count": 121,
   "id": "8b398507",
   "metadata": {},
   "outputs": [
    {
     "data": {
      "text/plain": [
       "array([  8.,   0., 126.])"
      ]
     },
     "execution_count": 121,
     "metadata": {},
     "output_type": "execute_result"
    }
   ],
   "source": [
    "num_synonymous"
   ]
  },
  {
   "cell_type": "code",
   "execution_count": 122,
   "id": "01a664a2",
   "metadata": {},
   "outputs": [
    {
     "data": {
      "text/plain": [
       "array([ 4.,  0., 58.])"
      ]
     },
     "execution_count": 122,
     "metadata": {},
     "output_type": "execute_result"
    }
   ],
   "source": [
    "num_synonymous_transitions"
   ]
  },
  {
   "cell_type": "code",
   "execution_count": 123,
   "id": "dfa565b2",
   "metadata": {},
   "outputs": [
    {
     "data": {
      "text/plain": [
       "array([80.45977011, 90.90909091, 56.81818182])"
      ]
     },
     "execution_count": 123,
     "metadata": {},
     "output_type": "execute_result"
    }
   ],
   "source": [
    "num_strand_symmetric / num_substitutions * 100"
   ]
  },
  {
   "cell_type": "code",
   "execution_count": 124,
   "id": "3b6412e6",
   "metadata": {},
   "outputs": [
    {
     "data": {
      "text/plain": [
       "array([ 4.59770115,  0.        , 71.59090909])"
      ]
     },
     "execution_count": 124,
     "metadata": {},
     "output_type": "execute_result"
    }
   ],
   "source": [
    "num_synonymous / num_substitutions * 100"
   ]
  },
  {
   "cell_type": "code",
   "execution_count": 125,
   "id": "c3a032b1",
   "metadata": {},
   "outputs": [
    {
     "data": {
      "text/plain": [
       "array([50.        ,         nan, 46.03174603])"
      ]
     },
     "execution_count": 125,
     "metadata": {},
     "output_type": "execute_result"
    }
   ],
   "source": [
    "num_synonymous_transitions / num_synonymous * 100"
   ]
  },
  {
   "cell_type": "code",
   "execution_count": 126,
   "id": "7ed53782",
   "metadata": {},
   "outputs": [
    {
     "data": {
      "text/plain": [
       "array([[45., 42., 42.],\n",
       "       [45., 45., 45.],\n",
       "       [45., 44., 44.],\n",
       "       [39., 45., 45.]])"
      ]
     },
     "execution_count": 126,
     "metadata": {},
     "output_type": "execute_result"
    }
   ],
   "source": [
    "num_substitutions_by_from"
   ]
  },
  {
   "cell_type": "code",
   "execution_count": 129,
   "id": "dd23e227",
   "metadata": {},
   "outputs": [
    {
     "data": {
      "text/plain": [
       "array([[ 2.,  0., 31.],\n",
       "       [ 4.,  0., 33.],\n",
       "       [ 0.,  0., 29.],\n",
       "       [ 2.,  0., 33.]])"
      ]
     },
     "execution_count": 129,
     "metadata": {},
     "output_type": "execute_result"
    }
   ],
   "source": [
    "num_synonymous_by_from"
   ]
  },
  {
   "cell_type": "code",
   "execution_count": 127,
   "id": "1eda135e",
   "metadata": {},
   "outputs": [
    {
     "data": {
      "text/plain": [
       "array([[32., 39., 25.],\n",
       "       [38., 41., 25.],\n",
       "       [38., 41., 25.],\n",
       "       [32., 39., 25.]])"
      ]
     },
     "execution_count": 127,
     "metadata": {},
     "output_type": "execute_result"
    }
   ],
   "source": [
    "num_strand_symmetric_by_from"
   ]
  },
  {
   "cell_type": "code",
   "execution_count": 128,
   "id": "d1bc74f6",
   "metadata": {},
   "outputs": [
    {
     "data": {
      "text/plain": [
       "array([[71.11111111, 92.85714286, 59.52380952],\n",
       "       [84.44444444, 91.11111111, 55.55555556],\n",
       "       [84.44444444, 93.18181818, 56.81818182],\n",
       "       [82.05128205, 86.66666667, 55.55555556]])"
      ]
     },
     "execution_count": 128,
     "metadata": {},
     "output_type": "execute_result"
    }
   ],
   "source": [
    "num_strand_symmetric_by_from / num_substitutions_by_from * 100"
   ]
  },
  {
   "cell_type": "code",
   "execution_count": 131,
   "id": "fdfadf54",
   "metadata": {},
   "outputs": [
    {
     "data": {
      "text/plain": [
       "array([[ 4.44444444,  0.        , 73.80952381],\n",
       "       [ 8.88888889,  0.        , 73.33333333],\n",
       "       [ 0.        ,  0.        , 65.90909091],\n",
       "       [ 5.12820513,  0.        , 73.33333333]])"
      ]
     },
     "execution_count": 131,
     "metadata": {},
     "output_type": "execute_result"
    }
   ],
   "source": [
    "num_synonymous_by_from / num_substitutions_by_from * 100"
   ]
  },
  {
   "cell_type": "code",
   "execution_count": 132,
   "id": "b73b61c8",
   "metadata": {},
   "outputs": [
    {
     "data": {
      "text/plain": [
       "array([25.58139535, 27.40740741, 21.80451128, 27.13178295])"
      ]
     },
     "execution_count": 132,
     "metadata": {},
     "output_type": "execute_result"
    }
   ],
   "source": [
    "num_synonymous_by_from.sum(axis=1) / num_substitutions_by_from.sum(axis=1) * 100"
   ]
  },
  {
   "cell_type": "code",
   "execution_count": null,
   "id": "bb7479bd",
   "metadata": {},
   "outputs": [],
   "source": []
  }
 ],
 "metadata": {
  "kernelspec": {
   "display_name": "Python 3",
   "language": "python",
   "name": "python3"
  },
  "language_info": {
   "codemirror_mode": {
    "name": "ipython",
    "version": 3
   },
   "file_extension": ".py",
   "mimetype": "text/x-python",
   "name": "python",
   "nbconvert_exporter": "python",
   "pygments_lexer": "ipython3",
   "version": "3.8.8"
  }
 },
 "nbformat": 4,
 "nbformat_minor": 5
}
